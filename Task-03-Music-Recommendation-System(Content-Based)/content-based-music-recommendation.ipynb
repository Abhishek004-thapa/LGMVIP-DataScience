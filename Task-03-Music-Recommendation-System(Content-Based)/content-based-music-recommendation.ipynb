{
 "cells": [
  {
   "cell_type": "markdown",
   "id": "b3bff901",
   "metadata": {},
   "source": [
    "## `INTERN ON LetsGrowMore(LGM)`\n",
    "## ` Beginner Level Task:`\n",
    "### `Task no. 03 - Music Recommendation System-ContentBasedApproach`\n",
    "`Dataset from url :` https://www.kaggle.com/c/kkbox-music-recommendation-challenge/data"
   ]
  },
  {
   "cell_type": "markdown",
   "id": "10a50083",
   "metadata": {},
   "source": [
    "<img src=\"task-2-3.png\" />"
   ]
  },
  {
   "cell_type": "markdown",
   "id": "9dc24753",
   "metadata": {},
   "source": [
    "# `Abstract :` \n",
    "\n",
    "A recommender (or recommendation) system (or engine) is a filtering system which aims is to predict a rating or preference a user would give to an item like a song, in our case.\n",
    "\n",
    "### `Two major approaches for solving this problem`\n",
    "\n",
    "i) Content-Based Recommendation System:\n",
    "\n",
    "Content-based methods gives recommendations based on the similarity of two song contents or attributes.\n",
    "\n",
    "ii) Collaborative-Filtering Based Recommendation System:\n",
    "\n",
    "Collaborative methods make a prediction on posible preferences using a matrix with ratings on different songs as well as based on choices/preferences of similar users too.\n",
    "\n",
    "\n",
    "### `STEPS : `\n",
    "\n",
    "1) Importing Libraries and Loading datasets\n",
    "\n",
    "2) Exploratoty Data Analysis(EDA) & Visualization\n",
    "\n",
    "3) Data Preprocessing & Preparing Main datasets.\n",
    "\n",
    "4) Computing Similarities betn Songs using Cosine_similarities.\n",
    "\n",
    "5) Constructing Content Based Recommendation System.\n",
    "\n",
    "6) Making Recommendation of Songs to Users.\n",
    "\n",
    "7) Acknowledgement and References\n",
    "\n",
    "\n",
    "### In this project, i 've gone through `CONTENT-BASED RECOMMENDATION APPROACH` \n",
    "\n",
    "JUST HAVE A COFFEE IN FRONT OF YOU AND EXOLORE !!!"
   ]
  },
  {
   "cell_type": "markdown",
   "id": "6f9eb978",
   "metadata": {},
   "source": [
    "## `Let's Dive into the project`"
   ]
  },
  {
   "cell_type": "markdown",
   "id": "168cab33",
   "metadata": {},
   "source": [
    "## `Step-1:` Importing required important libraries and loading datasets..."
   ]
  },
  {
   "cell_type": "code",
   "execution_count": 73,
   "id": "7c175eee",
   "metadata": {},
   "outputs": [],
   "source": [
    "import pandas as pd\n",
    "import numpy as np\n",
    "import matplotlib.pyplot as plt"
   ]
  },
  {
   "cell_type": "markdown",
   "id": "6b72e364",
   "metadata": {},
   "source": [
    "###  DATASETS\n",
    "\n",
    "Detailed Descriptions of Datasets: https://www.kaggle.com/c/kkbox-music-recommendation-challenge/data\n",
    "\n",
    "`train.csv`\n",
    "a) msno: user id\n"
   ]
  },
  {
   "cell_type": "code",
   "execution_count": 74,
   "id": "76d0e740",
   "metadata": {},
   "outputs": [
    {
     "data": {
      "text/html": [
       "<div>\n",
       "<style scoped>\n",
       "    .dataframe tbody tr th:only-of-type {\n",
       "        vertical-align: middle;\n",
       "    }\n",
       "\n",
       "    .dataframe tbody tr th {\n",
       "        vertical-align: top;\n",
       "    }\n",
       "\n",
       "    .dataframe thead th {\n",
       "        text-align: right;\n",
       "    }\n",
       "</style>\n",
       "<table border=\"1\" class=\"dataframe\">\n",
       "  <thead>\n",
       "    <tr style=\"text-align: right;\">\n",
       "      <th></th>\n",
       "      <th>msno</th>\n",
       "      <th>song_id</th>\n",
       "      <th>source_system_tab</th>\n",
       "      <th>source_screen_name</th>\n",
       "      <th>source_type</th>\n",
       "      <th>target</th>\n",
       "    </tr>\n",
       "  </thead>\n",
       "  <tbody>\n",
       "    <tr>\n",
       "      <th>0</th>\n",
       "      <td>FGtllVqz18RPiwJj/edr2gV78zirAiY/9SmYvia+kCg=</td>\n",
       "      <td>BBzumQNXUHKdEBOB7mAJuzok+IJA1c2Ryg/yzTF6tik=</td>\n",
       "      <td>explore</td>\n",
       "      <td>Explore</td>\n",
       "      <td>online-playlist</td>\n",
       "      <td>1</td>\n",
       "    </tr>\n",
       "    <tr>\n",
       "      <th>1</th>\n",
       "      <td>Xumu+NIjS6QYVxDS4/t3SawvJ7viT9hPKXmf0RtLNx8=</td>\n",
       "      <td>bhp/MpSNoqoxOIB+/l8WPqu6jldth4DIpCm3ayXnJqM=</td>\n",
       "      <td>my library</td>\n",
       "      <td>Local playlist more</td>\n",
       "      <td>local-playlist</td>\n",
       "      <td>1</td>\n",
       "    </tr>\n",
       "    <tr>\n",
       "      <th>2</th>\n",
       "      <td>Xumu+NIjS6QYVxDS4/t3SawvJ7viT9hPKXmf0RtLNx8=</td>\n",
       "      <td>JNWfrrC7zNN7BdMpsISKa4Mw+xVJYNnxXh3/Epw7QgY=</td>\n",
       "      <td>my library</td>\n",
       "      <td>Local playlist more</td>\n",
       "      <td>local-playlist</td>\n",
       "      <td>1</td>\n",
       "    </tr>\n",
       "    <tr>\n",
       "      <th>3</th>\n",
       "      <td>Xumu+NIjS6QYVxDS4/t3SawvJ7viT9hPKXmf0RtLNx8=</td>\n",
       "      <td>2A87tzfnJTSWqD7gIZHisolhe4DMdzkbd6LzO1KHjNs=</td>\n",
       "      <td>my library</td>\n",
       "      <td>Local playlist more</td>\n",
       "      <td>local-playlist</td>\n",
       "      <td>1</td>\n",
       "    </tr>\n",
       "    <tr>\n",
       "      <th>4</th>\n",
       "      <td>FGtllVqz18RPiwJj/edr2gV78zirAiY/9SmYvia+kCg=</td>\n",
       "      <td>3qm6XTZ6MOCU11x8FIVbAGH5l5uMkT3/ZalWG1oo2Gc=</td>\n",
       "      <td>explore</td>\n",
       "      <td>Explore</td>\n",
       "      <td>online-playlist</td>\n",
       "      <td>1</td>\n",
       "    </tr>\n",
       "  </tbody>\n",
       "</table>\n",
       "</div>"
      ],
      "text/plain": [
       "                                           msno  \\\n",
       "0  FGtllVqz18RPiwJj/edr2gV78zirAiY/9SmYvia+kCg=   \n",
       "1  Xumu+NIjS6QYVxDS4/t3SawvJ7viT9hPKXmf0RtLNx8=   \n",
       "2  Xumu+NIjS6QYVxDS4/t3SawvJ7viT9hPKXmf0RtLNx8=   \n",
       "3  Xumu+NIjS6QYVxDS4/t3SawvJ7viT9hPKXmf0RtLNx8=   \n",
       "4  FGtllVqz18RPiwJj/edr2gV78zirAiY/9SmYvia+kCg=   \n",
       "\n",
       "                                        song_id source_system_tab  \\\n",
       "0  BBzumQNXUHKdEBOB7mAJuzok+IJA1c2Ryg/yzTF6tik=           explore   \n",
       "1  bhp/MpSNoqoxOIB+/l8WPqu6jldth4DIpCm3ayXnJqM=        my library   \n",
       "2  JNWfrrC7zNN7BdMpsISKa4Mw+xVJYNnxXh3/Epw7QgY=        my library   \n",
       "3  2A87tzfnJTSWqD7gIZHisolhe4DMdzkbd6LzO1KHjNs=        my library   \n",
       "4  3qm6XTZ6MOCU11x8FIVbAGH5l5uMkT3/ZalWG1oo2Gc=           explore   \n",
       "\n",
       "    source_screen_name      source_type  target  \n",
       "0              Explore  online-playlist       1  \n",
       "1  Local playlist more   local-playlist       1  \n",
       "2  Local playlist more   local-playlist       1  \n",
       "3  Local playlist more   local-playlist       1  \n",
       "4              Explore  online-playlist       1  "
      ]
     },
     "execution_count": 74,
     "metadata": {},
     "output_type": "execute_result"
    }
   ],
   "source": [
    "train_df = pd.read_csv(\"train.csv\", nrows=20000) # Considering only Twenty Thousands tuples for our dataset.\n",
    "train_df.head()"
   ]
  },
  {
   "cell_type": "code",
   "execution_count": 75,
   "id": "38d8730c",
   "metadata": {},
   "outputs": [
    {
     "data": {
      "text/html": [
       "<div>\n",
       "<style scoped>\n",
       "    .dataframe tbody tr th:only-of-type {\n",
       "        vertical-align: middle;\n",
       "    }\n",
       "\n",
       "    .dataframe tbody tr th {\n",
       "        vertical-align: top;\n",
       "    }\n",
       "\n",
       "    .dataframe thead th {\n",
       "        text-align: right;\n",
       "    }\n",
       "</style>\n",
       "<table border=\"1\" class=\"dataframe\">\n",
       "  <thead>\n",
       "    <tr style=\"text-align: right;\">\n",
       "      <th></th>\n",
       "      <th>song_id</th>\n",
       "      <th>song_length</th>\n",
       "      <th>genre_ids</th>\n",
       "      <th>artist_name</th>\n",
       "      <th>composer</th>\n",
       "      <th>lyricist</th>\n",
       "      <th>language</th>\n",
       "    </tr>\n",
       "  </thead>\n",
       "  <tbody>\n",
       "    <tr>\n",
       "      <th>0</th>\n",
       "      <td>CXoTN1eb7AI+DntdU1vbcwGRV4SCIDxZu+YD8JP8r4E=</td>\n",
       "      <td>247640</td>\n",
       "      <td>465</td>\n",
       "      <td>張信哲 (Jeff Chang)</td>\n",
       "      <td>董貞</td>\n",
       "      <td>何啟弘</td>\n",
       "      <td>3.0</td>\n",
       "    </tr>\n",
       "    <tr>\n",
       "      <th>1</th>\n",
       "      <td>o0kFgae9QtnYgRkVPqLJwa05zIhRlUjfF7O1tDw0ZDU=</td>\n",
       "      <td>197328</td>\n",
       "      <td>444</td>\n",
       "      <td>BLACKPINK</td>\n",
       "      <td>TEDDY|  FUTURE BOUNCE|  Bekuh BOOM</td>\n",
       "      <td>TEDDY</td>\n",
       "      <td>31.0</td>\n",
       "    </tr>\n",
       "    <tr>\n",
       "      <th>2</th>\n",
       "      <td>DwVvVurfpuz+XPuFvucclVQEyPqcpUkHR0ne1RQzPs0=</td>\n",
       "      <td>231781</td>\n",
       "      <td>465</td>\n",
       "      <td>SUPER JUNIOR</td>\n",
       "      <td>NaN</td>\n",
       "      <td>NaN</td>\n",
       "      <td>31.0</td>\n",
       "    </tr>\n",
       "    <tr>\n",
       "      <th>3</th>\n",
       "      <td>dKMBWoZyScdxSkihKG+Vf47nc18N9q4m58+b4e7dSSE=</td>\n",
       "      <td>273554</td>\n",
       "      <td>465</td>\n",
       "      <td>S.H.E</td>\n",
       "      <td>湯小康</td>\n",
       "      <td>徐世珍</td>\n",
       "      <td>3.0</td>\n",
       "    </tr>\n",
       "    <tr>\n",
       "      <th>4</th>\n",
       "      <td>W3bqWd3T+VeHFzHAUfARgW9AvVRaF4N5Yzm4Mr6Eo/o=</td>\n",
       "      <td>140329</td>\n",
       "      <td>726</td>\n",
       "      <td>貴族精選</td>\n",
       "      <td>Traditional</td>\n",
       "      <td>Traditional</td>\n",
       "      <td>52.0</td>\n",
       "    </tr>\n",
       "  </tbody>\n",
       "</table>\n",
       "</div>"
      ],
      "text/plain": [
       "                                        song_id  song_length genre_ids  \\\n",
       "0  CXoTN1eb7AI+DntdU1vbcwGRV4SCIDxZu+YD8JP8r4E=       247640       465   \n",
       "1  o0kFgae9QtnYgRkVPqLJwa05zIhRlUjfF7O1tDw0ZDU=       197328       444   \n",
       "2  DwVvVurfpuz+XPuFvucclVQEyPqcpUkHR0ne1RQzPs0=       231781       465   \n",
       "3  dKMBWoZyScdxSkihKG+Vf47nc18N9q4m58+b4e7dSSE=       273554       465   \n",
       "4  W3bqWd3T+VeHFzHAUfARgW9AvVRaF4N5Yzm4Mr6Eo/o=       140329       726   \n",
       "\n",
       "        artist_name                            composer     lyricist  language  \n",
       "0  張信哲 (Jeff Chang)                                  董貞          何啟弘       3.0  \n",
       "1         BLACKPINK  TEDDY|  FUTURE BOUNCE|  Bekuh BOOM        TEDDY      31.0  \n",
       "2      SUPER JUNIOR                                 NaN          NaN      31.0  \n",
       "3             S.H.E                                 湯小康          徐世珍       3.0  \n",
       "4              貴族精選                         Traditional  Traditional      52.0  "
      ]
     },
     "execution_count": 75,
     "metadata": {},
     "output_type": "execute_result"
    }
   ],
   "source": [
    "song_df = pd.read_csv(\"songs.csv\", nrows=20000)\n",
    "song_df.head()"
   ]
  },
  {
   "cell_type": "code",
   "execution_count": 76,
   "id": "881e0cd4",
   "metadata": {},
   "outputs": [
    {
     "data": {
      "text/html": [
       "<div>\n",
       "<style scoped>\n",
       "    .dataframe tbody tr th:only-of-type {\n",
       "        vertical-align: middle;\n",
       "    }\n",
       "\n",
       "    .dataframe tbody tr th {\n",
       "        vertical-align: top;\n",
       "    }\n",
       "\n",
       "    .dataframe thead th {\n",
       "        text-align: right;\n",
       "    }\n",
       "</style>\n",
       "<table border=\"1\" class=\"dataframe\">\n",
       "  <thead>\n",
       "    <tr style=\"text-align: right;\">\n",
       "      <th></th>\n",
       "      <th>song_id</th>\n",
       "      <th>name</th>\n",
       "      <th>isrc</th>\n",
       "    </tr>\n",
       "  </thead>\n",
       "  <tbody>\n",
       "    <tr>\n",
       "      <th>0</th>\n",
       "      <td>LP7pLJoJFBvyuUwvu+oLzjT+bI+UeBPURCecJsX1jjs=</td>\n",
       "      <td>我們</td>\n",
       "      <td>TWUM71200043</td>\n",
       "    </tr>\n",
       "    <tr>\n",
       "      <th>1</th>\n",
       "      <td>ClazTFnk6r0Bnuie44bocdNMM3rdlrq0bCGAsGUWcHE=</td>\n",
       "      <td>Let Me Love You</td>\n",
       "      <td>QMZSY1600015</td>\n",
       "    </tr>\n",
       "    <tr>\n",
       "      <th>2</th>\n",
       "      <td>u2ja/bZE3zhCGxvbbOB3zOoUjx27u40cf5g09UXMoKQ=</td>\n",
       "      <td>原諒我</td>\n",
       "      <td>TWA530887303</td>\n",
       "    </tr>\n",
       "    <tr>\n",
       "      <th>3</th>\n",
       "      <td>92Fqsy0+p6+RHe2EoLKjHahORHR1Kq1TBJoClW9v+Ts=</td>\n",
       "      <td>Classic</td>\n",
       "      <td>USSM11301446</td>\n",
       "    </tr>\n",
       "    <tr>\n",
       "      <th>4</th>\n",
       "      <td>0QFmz/+rJy1Q56C1DuYqT9hKKqi5TUqx0sN0IwvoHrw=</td>\n",
       "      <td>愛投羅網</td>\n",
       "      <td>TWA471306001</td>\n",
       "    </tr>\n",
       "  </tbody>\n",
       "</table>\n",
       "</div>"
      ],
      "text/plain": [
       "                                        song_id             name          isrc\n",
       "0  LP7pLJoJFBvyuUwvu+oLzjT+bI+UeBPURCecJsX1jjs=               我們  TWUM71200043\n",
       "1  ClazTFnk6r0Bnuie44bocdNMM3rdlrq0bCGAsGUWcHE=  Let Me Love You  QMZSY1600015\n",
       "2  u2ja/bZE3zhCGxvbbOB3zOoUjx27u40cf5g09UXMoKQ=              原諒我  TWA530887303\n",
       "3  92Fqsy0+p6+RHe2EoLKjHahORHR1Kq1TBJoClW9v+Ts=          Classic  USSM11301446\n",
       "4  0QFmz/+rJy1Q56C1DuYqT9hKKqi5TUqx0sN0IwvoHrw=             愛投羅網  TWA471306001"
      ]
     },
     "execution_count": 76,
     "metadata": {},
     "output_type": "execute_result"
    }
   ],
   "source": [
    "song_extra_info_df = pd.read_csv(\"song_extra_info.csv\")\n",
    "song_extra_info_df.head()"
   ]
  },
  {
   "cell_type": "markdown",
   "id": "cd4b518f",
   "metadata": {},
   "source": [
    "## `Step-2:` Exploratory Data Analysis (EDA) & Visualization"
   ]
  },
  {
   "cell_type": "code",
   "execution_count": 77,
   "id": "27feb0ca",
   "metadata": {},
   "outputs": [
    {
     "data": {
      "text/plain": [
       "msno                    0\n",
       "song_id                 0\n",
       "source_system_tab      67\n",
       "source_screen_name    576\n",
       "source_type            50\n",
       "target                  0\n",
       "dtype: int64"
      ]
     },
     "execution_count": 77,
     "metadata": {},
     "output_type": "execute_result"
    }
   ],
   "source": [
    "# Checking for null values...\n",
    "train_df.isna().sum()"
   ]
  },
  {
   "cell_type": "markdown",
   "id": "5ce48d16",
   "metadata": {},
   "source": [
    "We are only using `msno` and `song_id` attribute of this table, and these attributes dont have any `missing values`"
   ]
  },
  {
   "cell_type": "code",
   "execution_count": 78,
   "id": "1680576d",
   "metadata": {},
   "outputs": [
    {
     "data": {
      "text/plain": [
       "song_id            0\n",
       "song_length        0\n",
       "genre_ids        346\n",
       "artist_name        0\n",
       "composer        8382\n",
       "lyricist       14332\n",
       "language           0\n",
       "dtype: int64"
      ]
     },
     "execution_count": 78,
     "metadata": {},
     "output_type": "execute_result"
    }
   ],
   "source": [
    "song_df.isna().sum()"
   ]
  },
  {
   "cell_type": "markdown",
   "id": "40423ccd",
   "metadata": {},
   "source": [
    "We will use all attributes columns except `song_length` and `language`. \n",
    "For this, we will handle in Preprocessing steps."
   ]
  },
  {
   "cell_type": "code",
   "execution_count": 79,
   "id": "0d0c4df9",
   "metadata": {},
   "outputs": [
    {
     "data": {
      "text/plain": [
       "song_id         0\n",
       "name            2\n",
       "isrc       136548\n",
       "dtype: int64"
      ]
     },
     "execution_count": 79,
     "metadata": {},
     "output_type": "execute_result"
    }
   ],
   "source": [
    "song_extra_info_df.isna().sum()"
   ]
  },
  {
   "cell_type": "code",
   "execution_count": 80,
   "id": "eb3ed785",
   "metadata": {},
   "outputs": [
    {
     "data": {
      "text/plain": [
       "2"
      ]
     },
     "execution_count": 80,
     "metadata": {},
     "output_type": "execute_result"
    }
   ],
   "source": [
    "song_extra_info_df['name'] = song_extra_info_df['name'].dropna(axis=0)\n",
    "song_extra_info_df['name'].isna().sum()"
   ]
  },
  {
   "cell_type": "code",
   "execution_count": 81,
   "id": "6c32f5f3",
   "metadata": {},
   "outputs": [
    {
     "data": {
      "text/plain": [
       "song_id         0\n",
       "name            2\n",
       "isrc       136548\n",
       "dtype: int64"
      ]
     },
     "execution_count": 81,
     "metadata": {},
     "output_type": "execute_result"
    }
   ],
   "source": [
    "song_extra_info_df.isna().sum()"
   ]
  },
  {
   "cell_type": "markdown",
   "id": "415a55ad",
   "metadata": {},
   "source": [
    "We will only use `song_id` and `name`. So, removing NaNs or Missing Values from that columns."
   ]
  },
  {
   "cell_type": "code",
   "execution_count": 82,
   "id": "1962923c",
   "metadata": {},
   "outputs": [],
   "source": [
    "# Let's see shape,dtypes and info of dataset..."
   ]
  },
  {
   "cell_type": "code",
   "execution_count": 83,
   "id": "01e0dc5d",
   "metadata": {},
   "outputs": [
    {
     "data": {
      "text/plain": [
       "(20000, 6)"
      ]
     },
     "execution_count": 83,
     "metadata": {},
     "output_type": "execute_result"
    }
   ],
   "source": [
    "train_df.shape"
   ]
  },
  {
   "cell_type": "code",
   "execution_count": 84,
   "id": "52790be7",
   "metadata": {},
   "outputs": [
    {
     "name": "stdout",
     "output_type": "stream",
     "text": [
      "<class 'pandas.core.frame.DataFrame'>\n",
      "RangeIndex: 20000 entries, 0 to 19999\n",
      "Data columns (total 6 columns):\n",
      " #   Column              Non-Null Count  Dtype \n",
      "---  ------              --------------  ----- \n",
      " 0   msno                20000 non-null  object\n",
      " 1   song_id             20000 non-null  object\n",
      " 2   source_system_tab   19933 non-null  object\n",
      " 3   source_screen_name  19424 non-null  object\n",
      " 4   source_type         19950 non-null  object\n",
      " 5   target              20000 non-null  int64 \n",
      "dtypes: int64(1), object(5)\n",
      "memory usage: 937.6+ KB\n"
     ]
    }
   ],
   "source": [
    "train_df.info()"
   ]
  },
  {
   "cell_type": "code",
   "execution_count": 85,
   "id": "a35c99fb",
   "metadata": {},
   "outputs": [
    {
     "data": {
      "text/plain": [
       "msno                  object\n",
       "song_id               object\n",
       "source_system_tab     object\n",
       "source_screen_name    object\n",
       "source_type           object\n",
       "target                 int64\n",
       "dtype: object"
      ]
     },
     "execution_count": 85,
     "metadata": {},
     "output_type": "execute_result"
    }
   ],
   "source": [
    "train_df.dtypes"
   ]
  },
  {
   "cell_type": "code",
   "execution_count": 86,
   "id": "70ae2476",
   "metadata": {},
   "outputs": [
    {
     "data": {
      "text/plain": [
       "(20000, 7)"
      ]
     },
     "execution_count": 86,
     "metadata": {},
     "output_type": "execute_result"
    }
   ],
   "source": [
    "song_df.shape"
   ]
  },
  {
   "cell_type": "code",
   "execution_count": 87,
   "id": "10743d8c",
   "metadata": {},
   "outputs": [
    {
     "data": {
      "text/plain": [
       "song_id         object\n",
       "song_length      int64\n",
       "genre_ids       object\n",
       "artist_name     object\n",
       "composer        object\n",
       "lyricist        object\n",
       "language       float64\n",
       "dtype: object"
      ]
     },
     "execution_count": 87,
     "metadata": {},
     "output_type": "execute_result"
    }
   ],
   "source": [
    "song_df.dtypes"
   ]
  },
  {
   "cell_type": "code",
   "execution_count": 88,
   "id": "12024de5",
   "metadata": {},
   "outputs": [
    {
     "data": {
      "text/plain": [
       "(2295971, 3)"
      ]
     },
     "execution_count": 88,
     "metadata": {},
     "output_type": "execute_result"
    }
   ],
   "source": [
    "song_extra_info_df.shape"
   ]
  },
  {
   "cell_type": "code",
   "execution_count": 89,
   "id": "fe79beb6",
   "metadata": {},
   "outputs": [
    {
     "data": {
      "text/plain": [
       "song_id    object\n",
       "name       object\n",
       "isrc       object\n",
       "dtype: object"
      ]
     },
     "execution_count": 89,
     "metadata": {},
     "output_type": "execute_result"
    }
   ],
   "source": [
    "song_extra_info_df.dtypes"
   ]
  },
  {
   "cell_type": "markdown",
   "id": "0863e9fa",
   "metadata": {},
   "source": [
    "### LET'S VISUALIZE OUR DATASETS....\n",
    "\n",
    "\n",
    "For this project, we are using content as song features like genre_ids, artist_name, composer, lyricist for our Content-Based Recommendation System.\n",
    "So let's focus on these features."
   ]
  },
  {
   "cell_type": "code",
   "execution_count": 90,
   "id": "0e09a709",
   "metadata": {},
   "outputs": [
    {
     "data": {
      "text/html": [
       "<div>\n",
       "<style scoped>\n",
       "    .dataframe tbody tr th:only-of-type {\n",
       "        vertical-align: middle;\n",
       "    }\n",
       "\n",
       "    .dataframe tbody tr th {\n",
       "        vertical-align: top;\n",
       "    }\n",
       "\n",
       "    .dataframe thead th {\n",
       "        text-align: right;\n",
       "    }\n",
       "</style>\n",
       "<table border=\"1\" class=\"dataframe\">\n",
       "  <thead>\n",
       "    <tr style=\"text-align: right;\">\n",
       "      <th></th>\n",
       "      <th>song_id</th>\n",
       "      <th>song_length</th>\n",
       "      <th>genre_ids</th>\n",
       "      <th>artist_name</th>\n",
       "      <th>composer</th>\n",
       "      <th>lyricist</th>\n",
       "      <th>language</th>\n",
       "    </tr>\n",
       "  </thead>\n",
       "  <tbody>\n",
       "    <tr>\n",
       "      <th>0</th>\n",
       "      <td>CXoTN1eb7AI+DntdU1vbcwGRV4SCIDxZu+YD8JP8r4E=</td>\n",
       "      <td>247640</td>\n",
       "      <td>465</td>\n",
       "      <td>張信哲 (Jeff Chang)</td>\n",
       "      <td>董貞</td>\n",
       "      <td>何啟弘</td>\n",
       "      <td>3.0</td>\n",
       "    </tr>\n",
       "    <tr>\n",
       "      <th>1</th>\n",
       "      <td>o0kFgae9QtnYgRkVPqLJwa05zIhRlUjfF7O1tDw0ZDU=</td>\n",
       "      <td>197328</td>\n",
       "      <td>444</td>\n",
       "      <td>BLACKPINK</td>\n",
       "      <td>TEDDY|  FUTURE BOUNCE|  Bekuh BOOM</td>\n",
       "      <td>TEDDY</td>\n",
       "      <td>31.0</td>\n",
       "    </tr>\n",
       "    <tr>\n",
       "      <th>2</th>\n",
       "      <td>DwVvVurfpuz+XPuFvucclVQEyPqcpUkHR0ne1RQzPs0=</td>\n",
       "      <td>231781</td>\n",
       "      <td>465</td>\n",
       "      <td>SUPER JUNIOR</td>\n",
       "      <td>NaN</td>\n",
       "      <td>NaN</td>\n",
       "      <td>31.0</td>\n",
       "    </tr>\n",
       "    <tr>\n",
       "      <th>3</th>\n",
       "      <td>dKMBWoZyScdxSkihKG+Vf47nc18N9q4m58+b4e7dSSE=</td>\n",
       "      <td>273554</td>\n",
       "      <td>465</td>\n",
       "      <td>S.H.E</td>\n",
       "      <td>湯小康</td>\n",
       "      <td>徐世珍</td>\n",
       "      <td>3.0</td>\n",
       "    </tr>\n",
       "    <tr>\n",
       "      <th>4</th>\n",
       "      <td>W3bqWd3T+VeHFzHAUfARgW9AvVRaF4N5Yzm4Mr6Eo/o=</td>\n",
       "      <td>140329</td>\n",
       "      <td>726</td>\n",
       "      <td>貴族精選</td>\n",
       "      <td>Traditional</td>\n",
       "      <td>Traditional</td>\n",
       "      <td>52.0</td>\n",
       "    </tr>\n",
       "  </tbody>\n",
       "</table>\n",
       "</div>"
      ],
      "text/plain": [
       "                                        song_id  song_length genre_ids  \\\n",
       "0  CXoTN1eb7AI+DntdU1vbcwGRV4SCIDxZu+YD8JP8r4E=       247640       465   \n",
       "1  o0kFgae9QtnYgRkVPqLJwa05zIhRlUjfF7O1tDw0ZDU=       197328       444   \n",
       "2  DwVvVurfpuz+XPuFvucclVQEyPqcpUkHR0ne1RQzPs0=       231781       465   \n",
       "3  dKMBWoZyScdxSkihKG+Vf47nc18N9q4m58+b4e7dSSE=       273554       465   \n",
       "4  W3bqWd3T+VeHFzHAUfARgW9AvVRaF4N5Yzm4Mr6Eo/o=       140329       726   \n",
       "\n",
       "        artist_name                            composer     lyricist  language  \n",
       "0  張信哲 (Jeff Chang)                                  董貞          何啟弘       3.0  \n",
       "1         BLACKPINK  TEDDY|  FUTURE BOUNCE|  Bekuh BOOM        TEDDY      31.0  \n",
       "2      SUPER JUNIOR                                 NaN          NaN      31.0  \n",
       "3             S.H.E                                 湯小康          徐世珍       3.0  \n",
       "4              貴族精選                         Traditional  Traditional      52.0  "
      ]
     },
     "execution_count": 90,
     "metadata": {},
     "output_type": "execute_result"
    }
   ],
   "source": [
    "song_df.head()"
   ]
  },
  {
   "cell_type": "code",
   "execution_count": 91,
   "id": "e5e26425",
   "metadata": {},
   "outputs": [
    {
     "data": {
      "text/plain": [
       "465                7972\n",
       "1609               1185\n",
       "2022               1062\n",
       "921                 823\n",
       "958                 788\n",
       "                   ... \n",
       "118|1259              1\n",
       "184                   1\n",
       "465|2189|367          1\n",
       "786|139|125|109       1\n",
       "786|691               1\n",
       "Name: genre_ids, Length: 274, dtype: int64"
      ]
     },
     "execution_count": 91,
     "metadata": {},
     "output_type": "execute_result"
    }
   ],
   "source": [
    "song_df['genre_ids'].value_counts()"
   ]
  },
  {
   "cell_type": "markdown",
   "id": "15a8cb2f",
   "metadata": {},
   "source": [
    "### `Bar Plot`\n",
    "\n",
    "Let's plot top 7 count_values along with their Genre IDs"
   ]
  },
  {
   "cell_type": "code",
   "execution_count": 92,
   "id": "47e0a217",
   "metadata": {},
   "outputs": [
    {
     "data": {
      "image/png": "[encoded data removed]",
      "text/plain": [
       "<Figure size 640x480 with 1 Axes>"
      ]
     },
     "metadata": {},
     "output_type": "display_data"
    }
   ],
   "source": [
    "song_df['genre_ids'].value_counts()[:7].plot(kind='bar')\n",
    "plt.xlabel('Genre IDs')\n",
    "plt.ylabel('Value Counts')\n",
    "ax = plt.gca()\n",
    "ax.tick_params(axis='x', labelrotation = 0) # gca() returns current axes (or standalone visualization) in the current figure\n",
    "plt.title(\"BarDiagram of Top 7 : Genre_IDs vs their Frequency\",\n",
    "          color=\"orange\",\n",
    "          fontsize=16);\n"
   ]
  },
  {
   "cell_type": "markdown",
   "id": "006f4d1e",
   "metadata": {},
   "source": [
    "From this, Our `song_df` dataset contains large no. of songs with Genre_id with `value 465 `"
   ]
  },
  {
   "cell_type": "markdown",
   "id": "316f1c62",
   "metadata": {},
   "source": [
    "## `Step-3:` Data Preprocessing & Preparing Main Datasets.... "
   ]
  },
  {
   "cell_type": "code",
   "execution_count": 93,
   "id": "4d61b141",
   "metadata": {},
   "outputs": [
    {
     "data": {
      "text/plain": [
       "song_id            0\n",
       "song_length        0\n",
       "genre_ids        346\n",
       "artist_name        0\n",
       "composer        8382\n",
       "lyricist       14332\n",
       "language           0\n",
       "dtype: int64"
      ]
     },
     "execution_count": 93,
     "metadata": {},
     "output_type": "execute_result"
    }
   ],
   "source": [
    "song_df.isna().sum()"
   ]
  },
  {
   "cell_type": "markdown",
   "id": "0324db81",
   "metadata": {},
   "source": [
    "### Filling NaNs/Missing Values with Empty String.\n"
   ]
  },
  {
   "cell_type": "code",
   "execution_count": 94,
   "id": "e7219072",
   "metadata": {},
   "outputs": [
    {
     "data": {
      "text/plain": [
       "song_id        0\n",
       "song_length    0\n",
       "genre_ids      0\n",
       "artist_name    0\n",
       "composer       0\n",
       "lyricist       0\n",
       "language       0\n",
       "dtype: int64"
      ]
     },
     "execution_count": 94,
     "metadata": {},
     "output_type": "execute_result"
    }
   ],
   "source": [
    "song_df['genre_ids'].fillna(' ', inplace=True)\n",
    "song_df['composer'].fillna(' ', inplace=True)\n",
    "song_df['lyricist'].fillna(' ', inplace=True)\n",
    "\n",
    "song_df.isna().sum()"
   ]
  },
  {
   "cell_type": "code",
   "execution_count": 95,
   "id": "f989ffec",
   "metadata": {},
   "outputs": [
    {
     "data": {
      "text/plain": [
       "song_id         0\n",
       "name            2\n",
       "isrc       136548\n",
       "dtype: int64"
      ]
     },
     "execution_count": 95,
     "metadata": {},
     "output_type": "execute_result"
    }
   ],
   "source": [
    "song_extra_info_df.isna().sum()"
   ]
  },
  {
   "cell_type": "markdown",
   "id": "051559a2",
   "metadata": {},
   "source": [
    "We don't use `isrc` attribute in our main dataset. No need to clean it."
   ]
  },
  {
   "cell_type": "code",
   "execution_count": 96,
   "id": "d0b0c2ca",
   "metadata": {},
   "outputs": [
    {
     "data": {
      "text/plain": [
       "msno                    0\n",
       "song_id                 0\n",
       "source_system_tab      67\n",
       "source_screen_name    576\n",
       "source_type            50\n",
       "target                  0\n",
       "dtype: int64"
      ]
     },
     "execution_count": 96,
     "metadata": {},
     "output_type": "execute_result"
    }
   ],
   "source": [
    "train_df.isna().sum()"
   ]
  },
  {
   "cell_type": "markdown",
   "id": "e9499293",
   "metadata": {},
   "source": [
    "We only need `msno` and `song_id` in our main datset. No need to clean it."
   ]
  },
  {
   "cell_type": "markdown",
   "id": "26fa9d53",
   "metadata": {},
   "source": [
    "### Preparing Main Dataset"
   ]
  },
  {
   "cell_type": "code",
   "execution_count": 97,
   "id": "0a077cb0",
   "metadata": {},
   "outputs": [
    {
     "data": {
      "text/html": [
       "<div>\n",
       "<style scoped>\n",
       "    .dataframe tbody tr th:only-of-type {\n",
       "        vertical-align: middle;\n",
       "    }\n",
       "\n",
       "    .dataframe tbody tr th {\n",
       "        vertical-align: top;\n",
       "    }\n",
       "\n",
       "    .dataframe thead th {\n",
       "        text-align: right;\n",
       "    }\n",
       "</style>\n",
       "<table border=\"1\" class=\"dataframe\">\n",
       "  <thead>\n",
       "    <tr style=\"text-align: right;\">\n",
       "      <th></th>\n",
       "      <th>msno</th>\n",
       "      <th>song_id</th>\n",
       "    </tr>\n",
       "  </thead>\n",
       "  <tbody>\n",
       "    <tr>\n",
       "      <th>0</th>\n",
       "      <td>FGtllVqz18RPiwJj/edr2gV78zirAiY/9SmYvia+kCg=</td>\n",
       "      <td>BBzumQNXUHKdEBOB7mAJuzok+IJA1c2Ryg/yzTF6tik=</td>\n",
       "    </tr>\n",
       "    <tr>\n",
       "      <th>1</th>\n",
       "      <td>Xumu+NIjS6QYVxDS4/t3SawvJ7viT9hPKXmf0RtLNx8=</td>\n",
       "      <td>bhp/MpSNoqoxOIB+/l8WPqu6jldth4DIpCm3ayXnJqM=</td>\n",
       "    </tr>\n",
       "    <tr>\n",
       "      <th>2</th>\n",
       "      <td>Xumu+NIjS6QYVxDS4/t3SawvJ7viT9hPKXmf0RtLNx8=</td>\n",
       "      <td>JNWfrrC7zNN7BdMpsISKa4Mw+xVJYNnxXh3/Epw7QgY=</td>\n",
       "    </tr>\n",
       "    <tr>\n",
       "      <th>3</th>\n",
       "      <td>Xumu+NIjS6QYVxDS4/t3SawvJ7viT9hPKXmf0RtLNx8=</td>\n",
       "      <td>2A87tzfnJTSWqD7gIZHisolhe4DMdzkbd6LzO1KHjNs=</td>\n",
       "    </tr>\n",
       "    <tr>\n",
       "      <th>4</th>\n",
       "      <td>FGtllVqz18RPiwJj/edr2gV78zirAiY/9SmYvia+kCg=</td>\n",
       "      <td>3qm6XTZ6MOCU11x8FIVbAGH5l5uMkT3/ZalWG1oo2Gc=</td>\n",
       "    </tr>\n",
       "  </tbody>\n",
       "</table>\n",
       "</div>"
      ],
      "text/plain": [
       "                                           msno  \\\n",
       "0  FGtllVqz18RPiwJj/edr2gV78zirAiY/9SmYvia+kCg=   \n",
       "1  Xumu+NIjS6QYVxDS4/t3SawvJ7viT9hPKXmf0RtLNx8=   \n",
       "2  Xumu+NIjS6QYVxDS4/t3SawvJ7viT9hPKXmf0RtLNx8=   \n",
       "3  Xumu+NIjS6QYVxDS4/t3SawvJ7viT9hPKXmf0RtLNx8=   \n",
       "4  FGtllVqz18RPiwJj/edr2gV78zirAiY/9SmYvia+kCg=   \n",
       "\n",
       "                                        song_id  \n",
       "0  BBzumQNXUHKdEBOB7mAJuzok+IJA1c2Ryg/yzTF6tik=  \n",
       "1  bhp/MpSNoqoxOIB+/l8WPqu6jldth4DIpCm3ayXnJqM=  \n",
       "2  JNWfrrC7zNN7BdMpsISKa4Mw+xVJYNnxXh3/Epw7QgY=  \n",
       "3  2A87tzfnJTSWqD7gIZHisolhe4DMdzkbd6LzO1KHjNs=  \n",
       "4  3qm6XTZ6MOCU11x8FIVbAGH5l5uMkT3/ZalWG1oo2Gc=  "
      ]
     },
     "execution_count": 97,
     "metadata": {},
     "output_type": "execute_result"
    }
   ],
   "source": [
    "main_df = train_df.drop(['source_system_tab', 'source_screen_name', 'source_type', 'target'], axis = 1)\n",
    "main_df.head()"
   ]
  },
  {
   "cell_type": "markdown",
   "id": "ddad992e",
   "metadata": {},
   "source": [
    "Renaming `msno` to `user_id` for better understanding..."
   ]
  },
  {
   "cell_type": "code",
   "execution_count": 98,
   "id": "5b88ae4a",
   "metadata": {},
   "outputs": [
    {
     "data": {
      "text/html": [
       "<div>\n",
       "<style scoped>\n",
       "    .dataframe tbody tr th:only-of-type {\n",
       "        vertical-align: middle;\n",
       "    }\n",
       "\n",
       "    .dataframe tbody tr th {\n",
       "        vertical-align: top;\n",
       "    }\n",
       "\n",
       "    .dataframe thead th {\n",
       "        text-align: right;\n",
       "    }\n",
       "</style>\n",
       "<table border=\"1\" class=\"dataframe\">\n",
       "  <thead>\n",
       "    <tr style=\"text-align: right;\">\n",
       "      <th></th>\n",
       "      <th>user_id</th>\n",
       "      <th>song_id</th>\n",
       "    </tr>\n",
       "  </thead>\n",
       "  <tbody>\n",
       "    <tr>\n",
       "      <th>0</th>\n",
       "      <td>FGtllVqz18RPiwJj/edr2gV78zirAiY/9SmYvia+kCg=</td>\n",
       "      <td>BBzumQNXUHKdEBOB7mAJuzok+IJA1c2Ryg/yzTF6tik=</td>\n",
       "    </tr>\n",
       "    <tr>\n",
       "      <th>1</th>\n",
       "      <td>Xumu+NIjS6QYVxDS4/t3SawvJ7viT9hPKXmf0RtLNx8=</td>\n",
       "      <td>bhp/MpSNoqoxOIB+/l8WPqu6jldth4DIpCm3ayXnJqM=</td>\n",
       "    </tr>\n",
       "    <tr>\n",
       "      <th>2</th>\n",
       "      <td>Xumu+NIjS6QYVxDS4/t3SawvJ7viT9hPKXmf0RtLNx8=</td>\n",
       "      <td>JNWfrrC7zNN7BdMpsISKa4Mw+xVJYNnxXh3/Epw7QgY=</td>\n",
       "    </tr>\n",
       "    <tr>\n",
       "      <th>3</th>\n",
       "      <td>Xumu+NIjS6QYVxDS4/t3SawvJ7viT9hPKXmf0RtLNx8=</td>\n",
       "      <td>2A87tzfnJTSWqD7gIZHisolhe4DMdzkbd6LzO1KHjNs=</td>\n",
       "    </tr>\n",
       "    <tr>\n",
       "      <th>4</th>\n",
       "      <td>FGtllVqz18RPiwJj/edr2gV78zirAiY/9SmYvia+kCg=</td>\n",
       "      <td>3qm6XTZ6MOCU11x8FIVbAGH5l5uMkT3/ZalWG1oo2Gc=</td>\n",
       "    </tr>\n",
       "  </tbody>\n",
       "</table>\n",
       "</div>"
      ],
      "text/plain": [
       "                                        user_id  \\\n",
       "0  FGtllVqz18RPiwJj/edr2gV78zirAiY/9SmYvia+kCg=   \n",
       "1  Xumu+NIjS6QYVxDS4/t3SawvJ7viT9hPKXmf0RtLNx8=   \n",
       "2  Xumu+NIjS6QYVxDS4/t3SawvJ7viT9hPKXmf0RtLNx8=   \n",
       "3  Xumu+NIjS6QYVxDS4/t3SawvJ7viT9hPKXmf0RtLNx8=   \n",
       "4  FGtllVqz18RPiwJj/edr2gV78zirAiY/9SmYvia+kCg=   \n",
       "\n",
       "                                        song_id  \n",
       "0  BBzumQNXUHKdEBOB7mAJuzok+IJA1c2Ryg/yzTF6tik=  \n",
       "1  bhp/MpSNoqoxOIB+/l8WPqu6jldth4DIpCm3ayXnJqM=  \n",
       "2  JNWfrrC7zNN7BdMpsISKa4Mw+xVJYNnxXh3/Epw7QgY=  \n",
       "3  2A87tzfnJTSWqD7gIZHisolhe4DMdzkbd6LzO1KHjNs=  \n",
       "4  3qm6XTZ6MOCU11x8FIVbAGH5l5uMkT3/ZalWG1oo2Gc=  "
      ]
     },
     "execution_count": 98,
     "metadata": {},
     "output_type": "execute_result"
    }
   ],
   "source": [
    "## Renaming msno to user_id\n",
    "main_df.rename(columns={'msno': 'user_id'}, inplace=True)\n",
    "main_df.head()"
   ]
  },
  {
   "cell_type": "markdown",
   "id": "4d94bfef",
   "metadata": {},
   "source": [
    "Merging `main_df` with `song_df`\n",
    "\n",
    "Droping `song_length` and `language` columns"
   ]
  },
  {
   "cell_type": "code",
   "execution_count": 99,
   "id": "84d48a31",
   "metadata": {},
   "outputs": [
    {
     "data": {
      "text/html": [
       "<div>\n",
       "<style scoped>\n",
       "    .dataframe tbody tr th:only-of-type {\n",
       "        vertical-align: middle;\n",
       "    }\n",
       "\n",
       "    .dataframe tbody tr th {\n",
       "        vertical-align: top;\n",
       "    }\n",
       "\n",
       "    .dataframe thead th {\n",
       "        text-align: right;\n",
       "    }\n",
       "</style>\n",
       "<table border=\"1\" class=\"dataframe\">\n",
       "  <thead>\n",
       "    <tr style=\"text-align: right;\">\n",
       "      <th></th>\n",
       "      <th>user_id</th>\n",
       "      <th>song_id</th>\n",
       "      <th>genre_ids</th>\n",
       "      <th>artist_name</th>\n",
       "      <th>composer</th>\n",
       "      <th>lyricist</th>\n",
       "    </tr>\n",
       "  </thead>\n",
       "  <tbody>\n",
       "    <tr>\n",
       "      <th>0</th>\n",
       "      <td>FGtllVqz18RPiwJj/edr2gV78zirAiY/9SmYvia+kCg=</td>\n",
       "      <td>3Hg5kugV1S0wzEVLAEfqjIV5UHzb7bCrdBRQlGygLvU=</td>\n",
       "      <td>1259</td>\n",
       "      <td>Desiigner</td>\n",
       "      <td>Sidney Selby| Adnan Khan</td>\n",
       "      <td></td>\n",
       "    </tr>\n",
       "    <tr>\n",
       "      <th>1</th>\n",
       "      <td>hZyOA+0yqClPLt6uIEndf8fG8szH/95eKMbaxLE5z30=</td>\n",
       "      <td>3Hg5kugV1S0wzEVLAEfqjIV5UHzb7bCrdBRQlGygLvU=</td>\n",
       "      <td>1259</td>\n",
       "      <td>Desiigner</td>\n",
       "      <td>Sidney Selby| Adnan Khan</td>\n",
       "      <td></td>\n",
       "    </tr>\n",
       "    <tr>\n",
       "      <th>2</th>\n",
       "      <td>0LhkakIQDn36HZXI6ClQSO7W7jkpZAy+9MvYgPOZGrA=</td>\n",
       "      <td>skehue/d/R59G71dXYpntDwdjRRPlweN3JE8g40TgZU=</td>\n",
       "      <td>458</td>\n",
       "      <td>莊心妍</td>\n",
       "      <td>鄭建浩</td>\n",
       "      <td>鄭建浩</td>\n",
       "    </tr>\n",
       "    <tr>\n",
       "      <th>3</th>\n",
       "      <td>MofmAMt7P8LIcF4+LLlcjyIhYUzmv13L/LRwYFxiGYE=</td>\n",
       "      <td>skehue/d/R59G71dXYpntDwdjRRPlweN3JE8g40TgZU=</td>\n",
       "      <td>458</td>\n",
       "      <td>莊心妍</td>\n",
       "      <td>鄭建浩</td>\n",
       "      <td>鄭建浩</td>\n",
       "    </tr>\n",
       "    <tr>\n",
       "      <th>4</th>\n",
       "      <td>U9Z+N+szYGJHTPMn/C0V7yIyIC24fDI0RDRWChXATkg=</td>\n",
       "      <td>skehue/d/R59G71dXYpntDwdjRRPlweN3JE8g40TgZU=</td>\n",
       "      <td>458</td>\n",
       "      <td>莊心妍</td>\n",
       "      <td>鄭建浩</td>\n",
       "      <td>鄭建浩</td>\n",
       "    </tr>\n",
       "  </tbody>\n",
       "</table>\n",
       "</div>"
      ],
      "text/plain": [
       "                                        user_id  \\\n",
       "0  FGtllVqz18RPiwJj/edr2gV78zirAiY/9SmYvia+kCg=   \n",
       "1  hZyOA+0yqClPLt6uIEndf8fG8szH/95eKMbaxLE5z30=   \n",
       "2  0LhkakIQDn36HZXI6ClQSO7W7jkpZAy+9MvYgPOZGrA=   \n",
       "3  MofmAMt7P8LIcF4+LLlcjyIhYUzmv13L/LRwYFxiGYE=   \n",
       "4  U9Z+N+szYGJHTPMn/C0V7yIyIC24fDI0RDRWChXATkg=   \n",
       "\n",
       "                                        song_id genre_ids artist_name  \\\n",
       "0  3Hg5kugV1S0wzEVLAEfqjIV5UHzb7bCrdBRQlGygLvU=      1259   Desiigner   \n",
       "1  3Hg5kugV1S0wzEVLAEfqjIV5UHzb7bCrdBRQlGygLvU=      1259   Desiigner   \n",
       "2  skehue/d/R59G71dXYpntDwdjRRPlweN3JE8g40TgZU=       458         莊心妍   \n",
       "3  skehue/d/R59G71dXYpntDwdjRRPlweN3JE8g40TgZU=       458         莊心妍   \n",
       "4  skehue/d/R59G71dXYpntDwdjRRPlweN3JE8g40TgZU=       458         莊心妍   \n",
       "\n",
       "                   composer lyricist  \n",
       "0  Sidney Selby| Adnan Khan           \n",
       "1  Sidney Selby| Adnan Khan           \n",
       "2                       鄭建浩      鄭建浩  \n",
       "3                       鄭建浩      鄭建浩  \n",
       "4                       鄭建浩      鄭建浩  "
      ]
     },
     "execution_count": 99,
     "metadata": {},
     "output_type": "execute_result"
    }
   ],
   "source": [
    "## Merging main_df and song_df and Droping Columns\n",
    "\n",
    "main_df = main_df.merge(song_df, on='song_id')\n",
    "main_df = main_df.drop(['song_length', 'language'], axis=1)\n",
    "main_df.head()"
   ]
  },
  {
   "cell_type": "code",
   "execution_count": 100,
   "id": "583c3057",
   "metadata": {},
   "outputs": [
    {
     "data": {
      "text/html": [
       "<div>\n",
       "<style scoped>\n",
       "    .dataframe tbody tr th:only-of-type {\n",
       "        vertical-align: middle;\n",
       "    }\n",
       "\n",
       "    .dataframe tbody tr th {\n",
       "        vertical-align: top;\n",
       "    }\n",
       "\n",
       "    .dataframe thead th {\n",
       "        text-align: right;\n",
       "    }\n",
       "</style>\n",
       "<table border=\"1\" class=\"dataframe\">\n",
       "  <thead>\n",
       "    <tr style=\"text-align: right;\">\n",
       "      <th></th>\n",
       "      <th>song_id</th>\n",
       "      <th>name</th>\n",
       "      <th>isrc</th>\n",
       "    </tr>\n",
       "  </thead>\n",
       "  <tbody>\n",
       "    <tr>\n",
       "      <th>0</th>\n",
       "      <td>LP7pLJoJFBvyuUwvu+oLzjT+bI+UeBPURCecJsX1jjs=</td>\n",
       "      <td>我們</td>\n",
       "      <td>TWUM71200043</td>\n",
       "    </tr>\n",
       "    <tr>\n",
       "      <th>1</th>\n",
       "      <td>ClazTFnk6r0Bnuie44bocdNMM3rdlrq0bCGAsGUWcHE=</td>\n",
       "      <td>Let Me Love You</td>\n",
       "      <td>QMZSY1600015</td>\n",
       "    </tr>\n",
       "    <tr>\n",
       "      <th>2</th>\n",
       "      <td>u2ja/bZE3zhCGxvbbOB3zOoUjx27u40cf5g09UXMoKQ=</td>\n",
       "      <td>原諒我</td>\n",
       "      <td>TWA530887303</td>\n",
       "    </tr>\n",
       "    <tr>\n",
       "      <th>3</th>\n",
       "      <td>92Fqsy0+p6+RHe2EoLKjHahORHR1Kq1TBJoClW9v+Ts=</td>\n",
       "      <td>Classic</td>\n",
       "      <td>USSM11301446</td>\n",
       "    </tr>\n",
       "    <tr>\n",
       "      <th>4</th>\n",
       "      <td>0QFmz/+rJy1Q56C1DuYqT9hKKqi5TUqx0sN0IwvoHrw=</td>\n",
       "      <td>愛投羅網</td>\n",
       "      <td>TWA471306001</td>\n",
       "    </tr>\n",
       "  </tbody>\n",
       "</table>\n",
       "</div>"
      ],
      "text/plain": [
       "                                        song_id             name          isrc\n",
       "0  LP7pLJoJFBvyuUwvu+oLzjT+bI+UeBPURCecJsX1jjs=               我們  TWUM71200043\n",
       "1  ClazTFnk6r0Bnuie44bocdNMM3rdlrq0bCGAsGUWcHE=  Let Me Love You  QMZSY1600015\n",
       "2  u2ja/bZE3zhCGxvbbOB3zOoUjx27u40cf5g09UXMoKQ=              原諒我  TWA530887303\n",
       "3  92Fqsy0+p6+RHe2EoLKjHahORHR1Kq1TBJoClW9v+Ts=          Classic  USSM11301446\n",
       "4  0QFmz/+rJy1Q56C1DuYqT9hKKqi5TUqx0sN0IwvoHrw=             愛投羅網  TWA471306001"
      ]
     },
     "execution_count": 100,
     "metadata": {},
     "output_type": "execute_result"
    }
   ],
   "source": [
    "song_extra_info_df.head()"
   ]
  },
  {
   "cell_type": "markdown",
   "id": "d0c99188",
   "metadata": {},
   "source": [
    "Merging `song_extra_info_df` and `main_df`\n",
    "\n",
    "Droping `isrc` attribute."
   ]
  },
  {
   "cell_type": "code",
   "execution_count": 101,
   "id": "53fa3ebf",
   "metadata": {},
   "outputs": [
    {
     "data": {
      "text/html": [
       "<div>\n",
       "<style scoped>\n",
       "    .dataframe tbody tr th:only-of-type {\n",
       "        vertical-align: middle;\n",
       "    }\n",
       "\n",
       "    .dataframe tbody tr th {\n",
       "        vertical-align: top;\n",
       "    }\n",
       "\n",
       "    .dataframe thead th {\n",
       "        text-align: right;\n",
       "    }\n",
       "</style>\n",
       "<table border=\"1\" class=\"dataframe\">\n",
       "  <thead>\n",
       "    <tr style=\"text-align: right;\">\n",
       "      <th></th>\n",
       "      <th>user_id</th>\n",
       "      <th>song_id</th>\n",
       "      <th>genre_ids</th>\n",
       "      <th>artist_name</th>\n",
       "      <th>composer</th>\n",
       "      <th>lyricist</th>\n",
       "      <th>name</th>\n",
       "    </tr>\n",
       "  </thead>\n",
       "  <tbody>\n",
       "    <tr>\n",
       "      <th>0</th>\n",
       "      <td>FGtllVqz18RPiwJj/edr2gV78zirAiY/9SmYvia+kCg=</td>\n",
       "      <td>3Hg5kugV1S0wzEVLAEfqjIV5UHzb7bCrdBRQlGygLvU=</td>\n",
       "      <td>1259</td>\n",
       "      <td>Desiigner</td>\n",
       "      <td>Sidney Selby| Adnan Khan</td>\n",
       "      <td></td>\n",
       "      <td>Panda</td>\n",
       "    </tr>\n",
       "    <tr>\n",
       "      <th>1</th>\n",
       "      <td>hZyOA+0yqClPLt6uIEndf8fG8szH/95eKMbaxLE5z30=</td>\n",
       "      <td>3Hg5kugV1S0wzEVLAEfqjIV5UHzb7bCrdBRQlGygLvU=</td>\n",
       "      <td>1259</td>\n",
       "      <td>Desiigner</td>\n",
       "      <td>Sidney Selby| Adnan Khan</td>\n",
       "      <td></td>\n",
       "      <td>Panda</td>\n",
       "    </tr>\n",
       "    <tr>\n",
       "      <th>2</th>\n",
       "      <td>0LhkakIQDn36HZXI6ClQSO7W7jkpZAy+9MvYgPOZGrA=</td>\n",
       "      <td>skehue/d/R59G71dXYpntDwdjRRPlweN3JE8g40TgZU=</td>\n",
       "      <td>458</td>\n",
       "      <td>莊心妍</td>\n",
       "      <td>鄭建浩</td>\n",
       "      <td>鄭建浩</td>\n",
       "      <td>我過的很好</td>\n",
       "    </tr>\n",
       "    <tr>\n",
       "      <th>3</th>\n",
       "      <td>MofmAMt7P8LIcF4+LLlcjyIhYUzmv13L/LRwYFxiGYE=</td>\n",
       "      <td>skehue/d/R59G71dXYpntDwdjRRPlweN3JE8g40TgZU=</td>\n",
       "      <td>458</td>\n",
       "      <td>莊心妍</td>\n",
       "      <td>鄭建浩</td>\n",
       "      <td>鄭建浩</td>\n",
       "      <td>我過的很好</td>\n",
       "    </tr>\n",
       "    <tr>\n",
       "      <th>4</th>\n",
       "      <td>U9Z+N+szYGJHTPMn/C0V7yIyIC24fDI0RDRWChXATkg=</td>\n",
       "      <td>skehue/d/R59G71dXYpntDwdjRRPlweN3JE8g40TgZU=</td>\n",
       "      <td>458</td>\n",
       "      <td>莊心妍</td>\n",
       "      <td>鄭建浩</td>\n",
       "      <td>鄭建浩</td>\n",
       "      <td>我過的很好</td>\n",
       "    </tr>\n",
       "  </tbody>\n",
       "</table>\n",
       "</div>"
      ],
      "text/plain": [
       "                                        user_id  \\\n",
       "0  FGtllVqz18RPiwJj/edr2gV78zirAiY/9SmYvia+kCg=   \n",
       "1  hZyOA+0yqClPLt6uIEndf8fG8szH/95eKMbaxLE5z30=   \n",
       "2  0LhkakIQDn36HZXI6ClQSO7W7jkpZAy+9MvYgPOZGrA=   \n",
       "3  MofmAMt7P8LIcF4+LLlcjyIhYUzmv13L/LRwYFxiGYE=   \n",
       "4  U9Z+N+szYGJHTPMn/C0V7yIyIC24fDI0RDRWChXATkg=   \n",
       "\n",
       "                                        song_id genre_ids artist_name  \\\n",
       "0  3Hg5kugV1S0wzEVLAEfqjIV5UHzb7bCrdBRQlGygLvU=      1259   Desiigner   \n",
       "1  3Hg5kugV1S0wzEVLAEfqjIV5UHzb7bCrdBRQlGygLvU=      1259   Desiigner   \n",
       "2  skehue/d/R59G71dXYpntDwdjRRPlweN3JE8g40TgZU=       458         莊心妍   \n",
       "3  skehue/d/R59G71dXYpntDwdjRRPlweN3JE8g40TgZU=       458         莊心妍   \n",
       "4  skehue/d/R59G71dXYpntDwdjRRPlweN3JE8g40TgZU=       458         莊心妍   \n",
       "\n",
       "                   composer lyricist   name  \n",
       "0  Sidney Selby| Adnan Khan           Panda  \n",
       "1  Sidney Selby| Adnan Khan           Panda  \n",
       "2                       鄭建浩      鄭建浩  我過的很好  \n",
       "3                       鄭建浩      鄭建浩  我過的很好  \n",
       "4                       鄭建浩      鄭建浩  我過的很好  "
      ]
     },
     "execution_count": 101,
     "metadata": {},
     "output_type": "execute_result"
    }
   ],
   "source": [
    "## Merging and Droping\n",
    "\n",
    "main_df = main_df.merge(song_extra_info_df, on='song_id').drop('isrc', axis=1)\n",
    "main_df.head()"
   ]
  },
  {
   "cell_type": "markdown",
   "id": "b5056d20",
   "metadata": {},
   "source": [
    "Renaming `name` attribute with `song_name`"
   ]
  },
  {
   "cell_type": "code",
   "execution_count": 102,
   "id": "dc51aae9",
   "metadata": {},
   "outputs": [
    {
     "data": {
      "text/html": [
       "<div>\n",
       "<style scoped>\n",
       "    .dataframe tbody tr th:only-of-type {\n",
       "        vertical-align: middle;\n",
       "    }\n",
       "\n",
       "    .dataframe tbody tr th {\n",
       "        vertical-align: top;\n",
       "    }\n",
       "\n",
       "    .dataframe thead th {\n",
       "        text-align: right;\n",
       "    }\n",
       "</style>\n",
       "<table border=\"1\" class=\"dataframe\">\n",
       "  <thead>\n",
       "    <tr style=\"text-align: right;\">\n",
       "      <th></th>\n",
       "      <th>user_id</th>\n",
       "      <th>song_id</th>\n",
       "      <th>genre_ids</th>\n",
       "      <th>artist_name</th>\n",
       "      <th>composer</th>\n",
       "      <th>lyricist</th>\n",
       "      <th>song_name</th>\n",
       "    </tr>\n",
       "  </thead>\n",
       "  <tbody>\n",
       "    <tr>\n",
       "      <th>0</th>\n",
       "      <td>FGtllVqz18RPiwJj/edr2gV78zirAiY/9SmYvia+kCg=</td>\n",
       "      <td>3Hg5kugV1S0wzEVLAEfqjIV5UHzb7bCrdBRQlGygLvU=</td>\n",
       "      <td>1259</td>\n",
       "      <td>Desiigner</td>\n",
       "      <td>Sidney Selby| Adnan Khan</td>\n",
       "      <td></td>\n",
       "      <td>Panda</td>\n",
       "    </tr>\n",
       "    <tr>\n",
       "      <th>1</th>\n",
       "      <td>hZyOA+0yqClPLt6uIEndf8fG8szH/95eKMbaxLE5z30=</td>\n",
       "      <td>3Hg5kugV1S0wzEVLAEfqjIV5UHzb7bCrdBRQlGygLvU=</td>\n",
       "      <td>1259</td>\n",
       "      <td>Desiigner</td>\n",
       "      <td>Sidney Selby| Adnan Khan</td>\n",
       "      <td></td>\n",
       "      <td>Panda</td>\n",
       "    </tr>\n",
       "    <tr>\n",
       "      <th>2</th>\n",
       "      <td>0LhkakIQDn36HZXI6ClQSO7W7jkpZAy+9MvYgPOZGrA=</td>\n",
       "      <td>skehue/d/R59G71dXYpntDwdjRRPlweN3JE8g40TgZU=</td>\n",
       "      <td>458</td>\n",
       "      <td>莊心妍</td>\n",
       "      <td>鄭建浩</td>\n",
       "      <td>鄭建浩</td>\n",
       "      <td>我過的很好</td>\n",
       "    </tr>\n",
       "    <tr>\n",
       "      <th>3</th>\n",
       "      <td>MofmAMt7P8LIcF4+LLlcjyIhYUzmv13L/LRwYFxiGYE=</td>\n",
       "      <td>skehue/d/R59G71dXYpntDwdjRRPlweN3JE8g40TgZU=</td>\n",
       "      <td>458</td>\n",
       "      <td>莊心妍</td>\n",
       "      <td>鄭建浩</td>\n",
       "      <td>鄭建浩</td>\n",
       "      <td>我過的很好</td>\n",
       "    </tr>\n",
       "    <tr>\n",
       "      <th>4</th>\n",
       "      <td>U9Z+N+szYGJHTPMn/C0V7yIyIC24fDI0RDRWChXATkg=</td>\n",
       "      <td>skehue/d/R59G71dXYpntDwdjRRPlweN3JE8g40TgZU=</td>\n",
       "      <td>458</td>\n",
       "      <td>莊心妍</td>\n",
       "      <td>鄭建浩</td>\n",
       "      <td>鄭建浩</td>\n",
       "      <td>我過的很好</td>\n",
       "    </tr>\n",
       "  </tbody>\n",
       "</table>\n",
       "</div>"
      ],
      "text/plain": [
       "                                        user_id  \\\n",
       "0  FGtllVqz18RPiwJj/edr2gV78zirAiY/9SmYvia+kCg=   \n",
       "1  hZyOA+0yqClPLt6uIEndf8fG8szH/95eKMbaxLE5z30=   \n",
       "2  0LhkakIQDn36HZXI6ClQSO7W7jkpZAy+9MvYgPOZGrA=   \n",
       "3  MofmAMt7P8LIcF4+LLlcjyIhYUzmv13L/LRwYFxiGYE=   \n",
       "4  U9Z+N+szYGJHTPMn/C0V7yIyIC24fDI0RDRWChXATkg=   \n",
       "\n",
       "                                        song_id genre_ids artist_name  \\\n",
       "0  3Hg5kugV1S0wzEVLAEfqjIV5UHzb7bCrdBRQlGygLvU=      1259   Desiigner   \n",
       "1  3Hg5kugV1S0wzEVLAEfqjIV5UHzb7bCrdBRQlGygLvU=      1259   Desiigner   \n",
       "2  skehue/d/R59G71dXYpntDwdjRRPlweN3JE8g40TgZU=       458         莊心妍   \n",
       "3  skehue/d/R59G71dXYpntDwdjRRPlweN3JE8g40TgZU=       458         莊心妍   \n",
       "4  skehue/d/R59G71dXYpntDwdjRRPlweN3JE8g40TgZU=       458         莊心妍   \n",
       "\n",
       "                   composer lyricist song_name  \n",
       "0  Sidney Selby| Adnan Khan              Panda  \n",
       "1  Sidney Selby| Adnan Khan              Panda  \n",
       "2                       鄭建浩      鄭建浩     我過的很好  \n",
       "3                       鄭建浩      鄭建浩     我過的很好  \n",
       "4                       鄭建浩      鄭建浩     我過的很好  "
      ]
     },
     "execution_count": 102,
     "metadata": {},
     "output_type": "execute_result"
    }
   ],
   "source": [
    "## Renaming \n",
    "main_df.rename(columns={'name' : 'song_name'}, inplace=True)\n",
    "main_df.head()"
   ]
  },
  {
   "cell_type": "markdown",
   "id": "005fc5f1",
   "metadata": {},
   "source": [
    "### Performing Preprocessing for Our constructed `main_df` Dataset"
   ]
  },
  {
   "cell_type": "code",
   "execution_count": 103,
   "id": "99d24292",
   "metadata": {},
   "outputs": [
    {
     "data": {
      "text/plain": [
       "465                    710\n",
       "458                    400\n",
       "444                     65\n",
       "1609                    57\n",
       "921                     49\n",
       "359                     32\n",
       "                        26\n",
       "139                     24\n",
       "2022                    21\n",
       "1259                    20\n",
       "2122                    13\n",
       "139|125|109              7\n",
       "726                      7\n",
       "451                      7\n",
       "437                      7\n",
       "958                      6\n",
       "786|947                  6\n",
       "465|1259                 4\n",
       "1011                     4\n",
       "786                      4\n",
       "947                      4\n",
       "691                      3\n",
       "921|465                  3\n",
       "430                      3\n",
       "921|458                  2\n",
       "458|1287                 2\n",
       "698                      2\n",
       "444|1259                 2\n",
       "829                      2\n",
       "850                      2\n",
       "1152                     1\n",
       "880|458                  1\n",
       "465|829                  1\n",
       "864|857|850|843          1\n",
       "465|798                  1\n",
       "474                      1\n",
       "864|850|726|857|843      1\n",
       "388                      1\n",
       "864|786|850|857|843      1\n",
       "940                      1\n",
       "1609|465                 1\n",
       "465|2122                 1\n",
       "423                      1\n",
       "726|242                  1\n",
       "437|850                  1\n",
       "Name: genre_ids, dtype: int64"
      ]
     },
     "execution_count": 103,
     "metadata": {},
     "output_type": "execute_result"
    }
   ],
   "source": [
    "main_df['genre_ids'].value_counts()"
   ]
  },
  {
   "cell_type": "markdown",
   "id": "0317215a",
   "metadata": {},
   "source": [
    "You can see there are lots of `|` in genre_ids. \n",
    "Replacing `|` with `' '`"
   ]
  },
  {
   "cell_type": "code",
   "execution_count": 104,
   "id": "7bbdc062",
   "metadata": {},
   "outputs": [
    {
     "data": {
      "text/plain": [
       "1609 465    1\n",
       "465 2122    1\n",
       "423         1\n",
       "726 242     1\n",
       "437 850     1\n",
       "Name: genre_ids, dtype: int64"
      ]
     },
     "execution_count": 104,
     "metadata": {},
     "output_type": "execute_result"
    }
   ],
   "source": [
    "main_df['genre_ids'] = main_df['genre_ids'].str.replace('|', ' ', regex=True)\n",
    "main_df['genre_ids'].value_counts().tail()"
   ]
  },
  {
   "cell_type": "markdown",
   "id": "03cc0abc",
   "metadata": {},
   "source": [
    "Without using regex=True, Warining Appears:\n",
    "FutureWarning: The default value of regex will change from True to False in a future version\n",
    "\n",
    "Reason: In Series.str.replace, current default value for the param:regex is set to True. In a future version, it will be defaulted to false: regex=False.\n",
    "This means in the future, if you want to use regex with str.replace, you will need to set the regex param to True."
   ]
  },
  {
   "cell_type": "code",
   "execution_count": 105,
   "id": "136e9cf5",
   "metadata": {},
   "outputs": [],
   "source": [
    "### lets see all tuples values...\n",
    "# pd.set_option('display.max_rows', None)\n",
    "# pd.reset_option('display.max_rows') "
   ]
  },
  {
   "cell_type": "markdown",
   "id": "c8c50bcf",
   "metadata": {},
   "source": [
    "In attributes `artist_name`, `composer` and `lyricist`, there are '/' and '|' symbols,\n",
    "\n",
    "So, replacing that by \" \"."
   ]
  },
  {
   "cell_type": "code",
   "execution_count": 106,
   "id": "58b9ffdf",
   "metadata": {},
   "outputs": [],
   "source": [
    "main_df['artist_name'] = main_df['artist_name'].str.replace( '|',' ', regex=True)\n",
    "main_df['artist_name'] = main_df['artist_name'].str.replace( '/',' ',  regex=True)\n",
    "\n",
    "main_df['lyricist'] = main_df['lyricist'].str.replace( '|',' ', regex=True)\n",
    "main_df['lyricist'] = main_df['lyricist'].str.replace( '/',' ', regex=True)\n",
    "\n",
    "main_df['composer'] = main_df['composer'].str.replace( '|',' ', regex=True)\n",
    "main_df['composer'] = main_df['composer'].str.replace( '/',' ', regex=True)\n"
   ]
  },
  {
   "cell_type": "markdown",
   "id": "0fd2bb0c",
   "metadata": {},
   "source": [
    "### Converting string into Lower Case...."
   ]
  },
  {
   "cell_type": "code",
   "execution_count": 107,
   "id": "c10190fb",
   "metadata": {},
   "outputs": [],
   "source": [
    "main_df['artist_name']  = main_df['artist_name'].str.lower()\n",
    "main_df['lyricist']  = main_df['lyricist'].str.lower()\n",
    "main_df['composer']  = main_df['composer'].str.lower()"
   ]
  },
  {
   "cell_type": "markdown",
   "id": "17f380bf",
   "metadata": {},
   "source": [
    "### Creating new column `song_details` with values concatenating corresoponding values of attributes `artist_name`, `composer`, `lyricist` ."
   ]
  },
  {
   "cell_type": "code",
   "execution_count": 108,
   "id": "c0a284da",
   "metadata": {},
   "outputs": [],
   "source": [
    "main_df['song_details'] = main_df['artist_name'] + ' ' +  main_df['lyricist'] + ' ' +  main_df['composer'] + ' ' +  main_df['genre_ids']"
   ]
  },
  {
   "cell_type": "code",
   "execution_count": 109,
   "id": "2027cd82",
   "metadata": {},
   "outputs": [
    {
     "data": {
      "text/html": [
       "<div>\n",
       "<style scoped>\n",
       "    .dataframe tbody tr th:only-of-type {\n",
       "        vertical-align: middle;\n",
       "    }\n",
       "\n",
       "    .dataframe tbody tr th {\n",
       "        vertical-align: top;\n",
       "    }\n",
       "\n",
       "    .dataframe thead th {\n",
       "        text-align: right;\n",
       "    }\n",
       "</style>\n",
       "<table border=\"1\" class=\"dataframe\">\n",
       "  <thead>\n",
       "    <tr style=\"text-align: right;\">\n",
       "      <th></th>\n",
       "      <th>user_id</th>\n",
       "      <th>song_id</th>\n",
       "      <th>genre_ids</th>\n",
       "      <th>artist_name</th>\n",
       "      <th>composer</th>\n",
       "      <th>lyricist</th>\n",
       "      <th>song_name</th>\n",
       "      <th>song_details</th>\n",
       "    </tr>\n",
       "  </thead>\n",
       "  <tbody>\n",
       "    <tr>\n",
       "      <th>0</th>\n",
       "      <td>FGtllVqz18RPiwJj/edr2gV78zirAiY/9SmYvia+kCg=</td>\n",
       "      <td>3Hg5kugV1S0wzEVLAEfqjIV5UHzb7bCrdBRQlGygLvU=</td>\n",
       "      <td>1259</td>\n",
       "      <td>desiigner</td>\n",
       "      <td>sidney selby  adnan khan</td>\n",
       "      <td></td>\n",
       "      <td>Panda</td>\n",
       "      <td>desiigner   sidney selby  adnan khan 1259</td>\n",
       "    </tr>\n",
       "    <tr>\n",
       "      <th>1</th>\n",
       "      <td>hZyOA+0yqClPLt6uIEndf8fG8szH/95eKMbaxLE5z30=</td>\n",
       "      <td>3Hg5kugV1S0wzEVLAEfqjIV5UHzb7bCrdBRQlGygLvU=</td>\n",
       "      <td>1259</td>\n",
       "      <td>desiigner</td>\n",
       "      <td>sidney selby  adnan khan</td>\n",
       "      <td></td>\n",
       "      <td>Panda</td>\n",
       "      <td>desiigner   sidney selby  adnan khan 1259</td>\n",
       "    </tr>\n",
       "    <tr>\n",
       "      <th>2</th>\n",
       "      <td>0LhkakIQDn36HZXI6ClQSO7W7jkpZAy+9MvYgPOZGrA=</td>\n",
       "      <td>skehue/d/R59G71dXYpntDwdjRRPlweN3JE8g40TgZU=</td>\n",
       "      <td>458</td>\n",
       "      <td>莊心妍</td>\n",
       "      <td>鄭建浩</td>\n",
       "      <td>鄭建浩</td>\n",
       "      <td>我過的很好</td>\n",
       "      <td>莊心妍 鄭建浩 鄭建浩 458</td>\n",
       "    </tr>\n",
       "    <tr>\n",
       "      <th>3</th>\n",
       "      <td>MofmAMt7P8LIcF4+LLlcjyIhYUzmv13L/LRwYFxiGYE=</td>\n",
       "      <td>skehue/d/R59G71dXYpntDwdjRRPlweN3JE8g40TgZU=</td>\n",
       "      <td>458</td>\n",
       "      <td>莊心妍</td>\n",
       "      <td>鄭建浩</td>\n",
       "      <td>鄭建浩</td>\n",
       "      <td>我過的很好</td>\n",
       "      <td>莊心妍 鄭建浩 鄭建浩 458</td>\n",
       "    </tr>\n",
       "    <tr>\n",
       "      <th>4</th>\n",
       "      <td>U9Z+N+szYGJHTPMn/C0V7yIyIC24fDI0RDRWChXATkg=</td>\n",
       "      <td>skehue/d/R59G71dXYpntDwdjRRPlweN3JE8g40TgZU=</td>\n",
       "      <td>458</td>\n",
       "      <td>莊心妍</td>\n",
       "      <td>鄭建浩</td>\n",
       "      <td>鄭建浩</td>\n",
       "      <td>我過的很好</td>\n",
       "      <td>莊心妍 鄭建浩 鄭建浩 458</td>\n",
       "    </tr>\n",
       "  </tbody>\n",
       "</table>\n",
       "</div>"
      ],
      "text/plain": [
       "                                        user_id  \\\n",
       "0  FGtllVqz18RPiwJj/edr2gV78zirAiY/9SmYvia+kCg=   \n",
       "1  hZyOA+0yqClPLt6uIEndf8fG8szH/95eKMbaxLE5z30=   \n",
       "2  0LhkakIQDn36HZXI6ClQSO7W7jkpZAy+9MvYgPOZGrA=   \n",
       "3  MofmAMt7P8LIcF4+LLlcjyIhYUzmv13L/LRwYFxiGYE=   \n",
       "4  U9Z+N+szYGJHTPMn/C0V7yIyIC24fDI0RDRWChXATkg=   \n",
       "\n",
       "                                        song_id genre_ids artist_name  \\\n",
       "0  3Hg5kugV1S0wzEVLAEfqjIV5UHzb7bCrdBRQlGygLvU=      1259   desiigner   \n",
       "1  3Hg5kugV1S0wzEVLAEfqjIV5UHzb7bCrdBRQlGygLvU=      1259   desiigner   \n",
       "2  skehue/d/R59G71dXYpntDwdjRRPlweN3JE8g40TgZU=       458         莊心妍   \n",
       "3  skehue/d/R59G71dXYpntDwdjRRPlweN3JE8g40TgZU=       458         莊心妍   \n",
       "4  skehue/d/R59G71dXYpntDwdjRRPlweN3JE8g40TgZU=       458         莊心妍   \n",
       "\n",
       "                   composer lyricist song_name  \\\n",
       "0  sidney selby  adnan khan              Panda   \n",
       "1  sidney selby  adnan khan              Panda   \n",
       "2                       鄭建浩      鄭建浩     我過的很好   \n",
       "3                       鄭建浩      鄭建浩     我過的很好   \n",
       "4                       鄭建浩      鄭建浩     我過的很好   \n",
       "\n",
       "                                song_details  \n",
       "0  desiigner   sidney selby  adnan khan 1259  \n",
       "1  desiigner   sidney selby  adnan khan 1259  \n",
       "2                            莊心妍 鄭建浩 鄭建浩 458  \n",
       "3                            莊心妍 鄭建浩 鄭建浩 458  \n",
       "4                            莊心妍 鄭建浩 鄭建浩 458  "
      ]
     },
     "execution_count": 109,
     "metadata": {},
     "output_type": "execute_result"
    }
   ],
   "source": [
    "main_df.head()"
   ]
  },
  {
   "cell_type": "code",
   "execution_count": 110,
   "id": "cb6de9f9",
   "metadata": {},
   "outputs": [
    {
     "data": {
      "text/plain": [
       "EozJegFxTFIWDb9aJ7O8kSUHAgx4ZIvqf7IuN5Zck50=    19\n",
       "V5U4EGk2kaSKaUGSwhU6g3HBefxflEvAy1vWPu6UBQs=    18\n",
       "Bwg9yS76qujJJeKsYSzfJrMlkjK5Ui7KFkgUcjuXRCg=    12\n",
       "W9NYSCff57nmfyYCiX6IbW0/G3YuwC18h/rld+BGxMY=    11\n",
       "UzlQoa9tdrcpYdh4wksoh+SpWCFcKvRGPA+xLNqghmo=    11\n",
       "                                                ..\n",
       "rb7TT328utsdnd8COyhstig0zciXIURo7M464E60EHg=     1\n",
       "hSn7jMfIURFu+1W3PDIDTxbhM5SxRg9VFRoH23Rm2Ic=     1\n",
       "yrMfQXudhDaA/bOePZtkKErbjZc5pALG79FHPayEy5U=     1\n",
       "iP3eF1In0rH61CfgVmWVYj4CgFcQQ0iVZG7MBA+Plgo=     1\n",
       "j2Sx5B7BrjqCiT3ZwWK4AvepwM14QEalhTPi2/sgdG4=     1\n",
       "Name: user_id, Length: 975, dtype: int64"
      ]
     },
     "execution_count": 110,
     "metadata": {},
     "output_type": "execute_result"
    }
   ],
   "source": [
    "main_df.user_id.value_counts()"
   ]
  },
  {
   "cell_type": "markdown",
   "id": "f948dcb1",
   "metadata": {},
   "source": [
    "### Codes which  are written below was just used for debugging and testing purpose at the beginning Phase.\n",
    "\n",
    "user_history = main_df.groupby(['user_id'])['song_name']\n",
    "\n",
    "\n",
    "for key, item in user_history:\n",
    "    print(key)\n",
    "    print(item)\n",
    "    \n",
    "user_history_list = user_history.apply(list)\n",
    "user_history_list\n",
    "user_history_list.keys()\n",
    "\n",
    "main_df['song_name'].iloc[566]\n",
    "\n",
    "main_df['song_name'][566]\n",
    "\n",
    "def user_songs_history(userID):\n",
    "\n",
    "\n",
    "    user_history_values = user_history_list[userID]\n",
    "    print(f\"User ID: {userID}\\n\\n\")\n",
    "    print(\"Songs History:\\n\")\n",
    "    for i in range(len(user_history_values)):\n",
    "        print(f\"{i+1}. {user_history_values[i]}\\n\")\n",
    "   \n",
    "user_songs_history('+6qXndZ2nMn0cyAWZlBfOBGVqolfO2CRo1MdVznK7Kg=')\n"
   ]
  },
  {
   "cell_type": "markdown",
   "id": "391a5ec5",
   "metadata": {},
   "source": [
    "## `Step-4:` Computing Similarities betn Songs using Cosine_similarities.\n",
    "\n",
    "\n",
    "### Before the computation of Cosine Similarity, we need to remove duplicated or redundant values in song_details column which consists value append from genre_ids, artist_name, composer and lyricist. So, removing user_id from main_df and storing into temp_df. Now, temp_df consists of some duplicated tuples and we remove duplicated tuples and compute cosine_similarity. "
   ]
  },
  {
   "cell_type": "code",
   "execution_count": 111,
   "id": "95ac1cf3",
   "metadata": {},
   "outputs": [
    {
     "data": {
      "text/plain": [
       "0"
      ]
     },
     "execution_count": 111,
     "metadata": {},
     "output_type": "execute_result"
    }
   ],
   "source": [
    "main_df.duplicated().sum()"
   ]
  },
  {
   "cell_type": "markdown",
   "id": "871b8509",
   "metadata": {},
   "source": [
    "As main_df contains user_id so there will be rarely duplicated tuples. Here its zero. As Different users can listen to same song so we need to remove user_id and see for duplicate tuples in our dataset."
   ]
  },
  {
   "cell_type": "code",
   "execution_count": 112,
   "id": "67964d85",
   "metadata": {},
   "outputs": [
    {
     "data": {
      "text/html": [
       "<div>\n",
       "<style scoped>\n",
       "    .dataframe tbody tr th:only-of-type {\n",
       "        vertical-align: middle;\n",
       "    }\n",
       "\n",
       "    .dataframe tbody tr th {\n",
       "        vertical-align: top;\n",
       "    }\n",
       "\n",
       "    .dataframe thead th {\n",
       "        text-align: right;\n",
       "    }\n",
       "</style>\n",
       "<table border=\"1\" class=\"dataframe\">\n",
       "  <thead>\n",
       "    <tr style=\"text-align: right;\">\n",
       "      <th></th>\n",
       "      <th>user_id</th>\n",
       "      <th>song_id</th>\n",
       "      <th>genre_ids</th>\n",
       "      <th>artist_name</th>\n",
       "      <th>composer</th>\n",
       "      <th>lyricist</th>\n",
       "      <th>song_name</th>\n",
       "      <th>song_details</th>\n",
       "    </tr>\n",
       "  </thead>\n",
       "  <tbody>\n",
       "    <tr>\n",
       "      <th>0</th>\n",
       "      <td>FGtllVqz18RPiwJj/edr2gV78zirAiY/9SmYvia+kCg=</td>\n",
       "      <td>3Hg5kugV1S0wzEVLAEfqjIV5UHzb7bCrdBRQlGygLvU=</td>\n",
       "      <td>1259</td>\n",
       "      <td>desiigner</td>\n",
       "      <td>sidney selby  adnan khan</td>\n",
       "      <td></td>\n",
       "      <td>Panda</td>\n",
       "      <td>desiigner   sidney selby  adnan khan 1259</td>\n",
       "    </tr>\n",
       "    <tr>\n",
       "      <th>1</th>\n",
       "      <td>hZyOA+0yqClPLt6uIEndf8fG8szH/95eKMbaxLE5z30=</td>\n",
       "      <td>3Hg5kugV1S0wzEVLAEfqjIV5UHzb7bCrdBRQlGygLvU=</td>\n",
       "      <td>1259</td>\n",
       "      <td>desiigner</td>\n",
       "      <td>sidney selby  adnan khan</td>\n",
       "      <td></td>\n",
       "      <td>Panda</td>\n",
       "      <td>desiigner   sidney selby  adnan khan 1259</td>\n",
       "    </tr>\n",
       "    <tr>\n",
       "      <th>2</th>\n",
       "      <td>0LhkakIQDn36HZXI6ClQSO7W7jkpZAy+9MvYgPOZGrA=</td>\n",
       "      <td>skehue/d/R59G71dXYpntDwdjRRPlweN3JE8g40TgZU=</td>\n",
       "      <td>458</td>\n",
       "      <td>莊心妍</td>\n",
       "      <td>鄭建浩</td>\n",
       "      <td>鄭建浩</td>\n",
       "      <td>我過的很好</td>\n",
       "      <td>莊心妍 鄭建浩 鄭建浩 458</td>\n",
       "    </tr>\n",
       "    <tr>\n",
       "      <th>3</th>\n",
       "      <td>MofmAMt7P8LIcF4+LLlcjyIhYUzmv13L/LRwYFxiGYE=</td>\n",
       "      <td>skehue/d/R59G71dXYpntDwdjRRPlweN3JE8g40TgZU=</td>\n",
       "      <td>458</td>\n",
       "      <td>莊心妍</td>\n",
       "      <td>鄭建浩</td>\n",
       "      <td>鄭建浩</td>\n",
       "      <td>我過的很好</td>\n",
       "      <td>莊心妍 鄭建浩 鄭建浩 458</td>\n",
       "    </tr>\n",
       "    <tr>\n",
       "      <th>4</th>\n",
       "      <td>U9Z+N+szYGJHTPMn/C0V7yIyIC24fDI0RDRWChXATkg=</td>\n",
       "      <td>skehue/d/R59G71dXYpntDwdjRRPlweN3JE8g40TgZU=</td>\n",
       "      <td>458</td>\n",
       "      <td>莊心妍</td>\n",
       "      <td>鄭建浩</td>\n",
       "      <td>鄭建浩</td>\n",
       "      <td>我過的很好</td>\n",
       "      <td>莊心妍 鄭建浩 鄭建浩 458</td>\n",
       "    </tr>\n",
       "  </tbody>\n",
       "</table>\n",
       "</div>"
      ],
      "text/plain": [
       "                                        user_id  \\\n",
       "0  FGtllVqz18RPiwJj/edr2gV78zirAiY/9SmYvia+kCg=   \n",
       "1  hZyOA+0yqClPLt6uIEndf8fG8szH/95eKMbaxLE5z30=   \n",
       "2  0LhkakIQDn36HZXI6ClQSO7W7jkpZAy+9MvYgPOZGrA=   \n",
       "3  MofmAMt7P8LIcF4+LLlcjyIhYUzmv13L/LRwYFxiGYE=   \n",
       "4  U9Z+N+szYGJHTPMn/C0V7yIyIC24fDI0RDRWChXATkg=   \n",
       "\n",
       "                                        song_id genre_ids artist_name  \\\n",
       "0  3Hg5kugV1S0wzEVLAEfqjIV5UHzb7bCrdBRQlGygLvU=      1259   desiigner   \n",
       "1  3Hg5kugV1S0wzEVLAEfqjIV5UHzb7bCrdBRQlGygLvU=      1259   desiigner   \n",
       "2  skehue/d/R59G71dXYpntDwdjRRPlweN3JE8g40TgZU=       458         莊心妍   \n",
       "3  skehue/d/R59G71dXYpntDwdjRRPlweN3JE8g40TgZU=       458         莊心妍   \n",
       "4  skehue/d/R59G71dXYpntDwdjRRPlweN3JE8g40TgZU=       458         莊心妍   \n",
       "\n",
       "                   composer lyricist song_name  \\\n",
       "0  sidney selby  adnan khan              Panda   \n",
       "1  sidney selby  adnan khan              Panda   \n",
       "2                       鄭建浩      鄭建浩     我過的很好   \n",
       "3                       鄭建浩      鄭建浩     我過的很好   \n",
       "4                       鄭建浩      鄭建浩     我過的很好   \n",
       "\n",
       "                                song_details  \n",
       "0  desiigner   sidney selby  adnan khan 1259  \n",
       "1  desiigner   sidney selby  adnan khan 1259  \n",
       "2                            莊心妍 鄭建浩 鄭建浩 458  \n",
       "3                            莊心妍 鄭建浩 鄭建浩 458  \n",
       "4                            莊心妍 鄭建浩 鄭建浩 458  "
      ]
     },
     "execution_count": 112,
     "metadata": {},
     "output_type": "execute_result"
    }
   ],
   "source": [
    "temp_df = main_df.copy() # Making duplicate of Original dataset.\n",
    "temp_df.head()"
   ]
  },
  {
   "cell_type": "markdown",
   "id": "8b9500f8",
   "metadata": {},
   "source": [
    "# Computing Cosine Similarities Matrix for unique `song_details` values / for every unique songs with each others."
   ]
  },
  {
   "cell_type": "code",
   "execution_count": 113,
   "id": "3e67f57e",
   "metadata": {},
   "outputs": [
    {
     "data": {
      "text/plain": [
       "876"
      ]
     },
     "execution_count": 113,
     "metadata": {},
     "output_type": "execute_result"
    }
   ],
   "source": [
    "temp_df.song_details.duplicated().sum()"
   ]
  },
  {
   "cell_type": "code",
   "execution_count": 114,
   "id": "b2b101cb",
   "metadata": {},
   "outputs": [
    {
     "data": {
      "text/plain": [
       "(1509, 8)"
      ]
     },
     "execution_count": 114,
     "metadata": {},
     "output_type": "execute_result"
    }
   ],
   "source": [
    "temp_df.shape"
   ]
  },
  {
   "cell_type": "code",
   "execution_count": 115,
   "id": "03ec5b2e",
   "metadata": {},
   "outputs": [
    {
     "data": {
      "text/plain": [
       "0"
      ]
     },
     "execution_count": 115,
     "metadata": {},
     "output_type": "execute_result"
    }
   ],
   "source": [
    "temp_df.duplicated().sum()"
   ]
  },
  {
   "cell_type": "code",
   "execution_count": 116,
   "id": "3cda9ab2",
   "metadata": {},
   "outputs": [],
   "source": [
    "temp_df = temp_df.drop('user_id', axis=1) # Removing user_id from temp_df"
   ]
  },
  {
   "cell_type": "code",
   "execution_count": 117,
   "id": "22571cb1",
   "metadata": {},
   "outputs": [
    {
     "data": {
      "text/html": [
       "<div>\n",
       "<style scoped>\n",
       "    .dataframe tbody tr th:only-of-type {\n",
       "        vertical-align: middle;\n",
       "    }\n",
       "\n",
       "    .dataframe tbody tr th {\n",
       "        vertical-align: top;\n",
       "    }\n",
       "\n",
       "    .dataframe thead th {\n",
       "        text-align: right;\n",
       "    }\n",
       "</style>\n",
       "<table border=\"1\" class=\"dataframe\">\n",
       "  <thead>\n",
       "    <tr style=\"text-align: right;\">\n",
       "      <th></th>\n",
       "      <th>song_id</th>\n",
       "      <th>genre_ids</th>\n",
       "      <th>artist_name</th>\n",
       "      <th>composer</th>\n",
       "      <th>lyricist</th>\n",
       "      <th>song_name</th>\n",
       "      <th>song_details</th>\n",
       "    </tr>\n",
       "  </thead>\n",
       "  <tbody>\n",
       "    <tr>\n",
       "      <th>0</th>\n",
       "      <td>3Hg5kugV1S0wzEVLAEfqjIV5UHzb7bCrdBRQlGygLvU=</td>\n",
       "      <td>1259</td>\n",
       "      <td>desiigner</td>\n",
       "      <td>sidney selby  adnan khan</td>\n",
       "      <td></td>\n",
       "      <td>Panda</td>\n",
       "      <td>desiigner   sidney selby  adnan khan 1259</td>\n",
       "    </tr>\n",
       "    <tr>\n",
       "      <th>1</th>\n",
       "      <td>3Hg5kugV1S0wzEVLAEfqjIV5UHzb7bCrdBRQlGygLvU=</td>\n",
       "      <td>1259</td>\n",
       "      <td>desiigner</td>\n",
       "      <td>sidney selby  adnan khan</td>\n",
       "      <td></td>\n",
       "      <td>Panda</td>\n",
       "      <td>desiigner   sidney selby  adnan khan 1259</td>\n",
       "    </tr>\n",
       "    <tr>\n",
       "      <th>2</th>\n",
       "      <td>skehue/d/R59G71dXYpntDwdjRRPlweN3JE8g40TgZU=</td>\n",
       "      <td>458</td>\n",
       "      <td>莊心妍</td>\n",
       "      <td>鄭建浩</td>\n",
       "      <td>鄭建浩</td>\n",
       "      <td>我過的很好</td>\n",
       "      <td>莊心妍 鄭建浩 鄭建浩 458</td>\n",
       "    </tr>\n",
       "    <tr>\n",
       "      <th>3</th>\n",
       "      <td>skehue/d/R59G71dXYpntDwdjRRPlweN3JE8g40TgZU=</td>\n",
       "      <td>458</td>\n",
       "      <td>莊心妍</td>\n",
       "      <td>鄭建浩</td>\n",
       "      <td>鄭建浩</td>\n",
       "      <td>我過的很好</td>\n",
       "      <td>莊心妍 鄭建浩 鄭建浩 458</td>\n",
       "    </tr>\n",
       "    <tr>\n",
       "      <th>4</th>\n",
       "      <td>skehue/d/R59G71dXYpntDwdjRRPlweN3JE8g40TgZU=</td>\n",
       "      <td>458</td>\n",
       "      <td>莊心妍</td>\n",
       "      <td>鄭建浩</td>\n",
       "      <td>鄭建浩</td>\n",
       "      <td>我過的很好</td>\n",
       "      <td>莊心妍 鄭建浩 鄭建浩 458</td>\n",
       "    </tr>\n",
       "  </tbody>\n",
       "</table>\n",
       "</div>"
      ],
      "text/plain": [
       "                                        song_id genre_ids artist_name  \\\n",
       "0  3Hg5kugV1S0wzEVLAEfqjIV5UHzb7bCrdBRQlGygLvU=      1259   desiigner   \n",
       "1  3Hg5kugV1S0wzEVLAEfqjIV5UHzb7bCrdBRQlGygLvU=      1259   desiigner   \n",
       "2  skehue/d/R59G71dXYpntDwdjRRPlweN3JE8g40TgZU=       458         莊心妍   \n",
       "3  skehue/d/R59G71dXYpntDwdjRRPlweN3JE8g40TgZU=       458         莊心妍   \n",
       "4  skehue/d/R59G71dXYpntDwdjRRPlweN3JE8g40TgZU=       458         莊心妍   \n",
       "\n",
       "                   composer lyricist song_name  \\\n",
       "0  sidney selby  adnan khan              Panda   \n",
       "1  sidney selby  adnan khan              Panda   \n",
       "2                       鄭建浩      鄭建浩     我過的很好   \n",
       "3                       鄭建浩      鄭建浩     我過的很好   \n",
       "4                       鄭建浩      鄭建浩     我過的很好   \n",
       "\n",
       "                                song_details  \n",
       "0  desiigner   sidney selby  adnan khan 1259  \n",
       "1  desiigner   sidney selby  adnan khan 1259  \n",
       "2                            莊心妍 鄭建浩 鄭建浩 458  \n",
       "3                            莊心妍 鄭建浩 鄭建浩 458  \n",
       "4                            莊心妍 鄭建浩 鄭建浩 458  "
      ]
     },
     "execution_count": 117,
     "metadata": {},
     "output_type": "execute_result"
    }
   ],
   "source": [
    "temp_df.head()"
   ]
  },
  {
   "cell_type": "code",
   "execution_count": 118,
   "id": "a7159fce",
   "metadata": {},
   "outputs": [
    {
     "data": {
      "text/plain": [
       "810"
      ]
     },
     "execution_count": 118,
     "metadata": {},
     "output_type": "execute_result"
    }
   ],
   "source": [
    "temp_df.duplicated().sum()"
   ]
  },
  {
   "cell_type": "markdown",
   "id": "f3bd4ef8",
   "metadata": {},
   "source": [
    "There are `810`duplicated tuples.\n",
    "\n",
    "### Note : These things or concepts or ideas will only be known after proper debugging of outputs at evey steps. So, don't be panic if gets difficult for you to understand. Give some time and do experiments."
   ]
  },
  {
   "cell_type": "code",
   "execution_count": 119,
   "id": "d2cb9c3f",
   "metadata": {},
   "outputs": [
    {
     "data": {
      "text/plain": [
       "(699, 7)"
      ]
     },
     "execution_count": 119,
     "metadata": {},
     "output_type": "execute_result"
    }
   ],
   "source": [
    "temp_df = temp_df.drop_duplicates()\n",
    "temp_df.shape"
   ]
  },
  {
   "cell_type": "code",
   "execution_count": 120,
   "id": "bee2aabd",
   "metadata": {},
   "outputs": [
    {
     "data": {
      "text/plain": [
       "699"
      ]
     },
     "execution_count": 120,
     "metadata": {},
     "output_type": "execute_result"
    }
   ],
   "source": [
    "1509-810"
   ]
  },
  {
   "cell_type": "markdown",
   "id": "105bae28",
   "metadata": {},
   "source": [
    "There are `699` unique songs in our Dataset."
   ]
  },
  {
   "cell_type": "code",
   "execution_count": 121,
   "id": "afd8c838",
   "metadata": {},
   "outputs": [],
   "source": [
    "from sklearn.feature_extraction.text import TfidfVectorizer\n",
    "\n",
    "# Initializing tfidf vectorizer\n",
    "\n",
    "tfidf = TfidfVectorizer(analyzer='word', stop_words='english')\n",
    "\n",
    "# Fit and transform \n",
    "\n",
    "tfidf_matrix = tfidf.fit_transform(temp_df['song_details'])"
   ]
  },
  {
   "cell_type": "code",
   "execution_count": 122,
   "id": "cd72f597",
   "metadata": {},
   "outputs": [],
   "source": [
    "from sklearn.metrics.pairwise import cosine_similarity\n",
    "\n",
    "cosine_similarities = cosine_similarity(tfidf_matrix)"
   ]
  },
  {
   "cell_type": "code",
   "execution_count": 123,
   "id": "718be8e7",
   "metadata": {},
   "outputs": [
    {
     "data": {
      "text/plain": [
       "array([[1.        , 0.        , 0.        , ..., 0.        , 0.        ,\n",
       "        0.        ],\n",
       "       [0.        , 1.        , 0.03069817, ..., 0.        , 0.        ,\n",
       "        0.        ]])"
      ]
     },
     "execution_count": 123,
     "metadata": {},
     "output_type": "execute_result"
    }
   ],
   "source": [
    "cosine_similarities[:2]"
   ]
  },
  {
   "cell_type": "code",
   "execution_count": 124,
   "id": "b68577fd",
   "metadata": {},
   "outputs": [],
   "source": [
    "similarities = {} ## For storing similarity matrix for every songs."
   ]
  },
  {
   "cell_type": "markdown",
   "id": "7caa61f5",
   "metadata": {},
   "source": [
    "## Commented lines are just for debugging and analysis purpose.\n",
    "\n",
    "We are storing `50 most similar songs` for each songs of our dataset  in `Similarities Dictionary`.\n",
    "\n",
    "The code below will store similarities dictionary as : \n",
    "\n",
    "{song1: [( cosine_similarity, song_name, artist_name), ... to 50 most similar songs with song1],\n",
    "\n",
    " song2: [( cosine_similarity, song_name, artist_name), ... to 50 most similar songs with song2],\n",
    " \n",
    " ....\n",
    " \n",
    " ....}"
   ]
  },
  {
   "cell_type": "code",
   "execution_count": 125,
   "id": "168203a3",
   "metadata": {},
   "outputs": [],
   "source": [
    "for i in range(len(cosine_similarities)):\n",
    "    # Now we'll sort each element in cosine_similarities and get the indexes of the songs.\n",
    "    \n",
    "    similar_score = cosine_similarities[i]\n",
    "    \n",
    "#     print(similar_score)\n",
    "#     print(f\"Max:{max(similar_score)}\")\n",
    "#     print(f\"Min: {min(similar_score)}\")\n",
    "    \n",
    "    similar_indices = cosine_similarities[i].argsort()\n",
    "    \n",
    "#     print(f\"Argsot: {similar_indices}\")\n",
    "#     print(f\"INDEX-4328: {similar_score[4328]}\")\n",
    "#     print(similar_indices)\n",
    "    \n",
    "# Retrieving 50 index values with maximum similarity and maximum similarity index value will be from the end of similar_indices list\n",
    "    similar_indices = similar_indices[:-50:-1] \n",
    "    \n",
    "#     print(f\"Similar INdices: {similar_indices}\")\n",
    "    \n",
    " # After that, we'll store in similarities each name of the 50 most similar songs.\n",
    " # Except the first one that is the same song.\n",
    "    similarities[temp_df['song_name'].iloc[i]] = [(cosine_similarities[i][x], temp_df['song_name'].iloc[x], temp_df['artist_name'].iloc[x]) for x in similar_indices][1:]\n",
    "   "
   ]
  },
  {
   "cell_type": "code",
   "execution_count": 132,
   "id": "b8943801",
   "metadata": {},
   "outputs": [],
   "source": [
    "# similarities"
   ]
  },
  {
   "cell_type": "markdown",
   "id": "4b164afe",
   "metadata": {},
   "source": [
    "## Its output takes lots of pages in git,Showing Output of Similarities like this\n",
    "\n",
    "{\n",
    "#### 'Panda': [(0.6372222477539108, 'Tiimmy Turner', 'desiigner'),\n",
    "\n",
    "  (0.2015057132188654, 'Know Better', 'various artists'),\n",
    "  (0.17767445140893937,\n",
    "  \n",
    "   \"우리 지금 만나 Let's Meet Now (feat. 장기하와 얼굴들 Kiha & The Faces)\",\n",
    "   'leessang'),\n",
    "   \n",
    "   ..... \n",
    "   ....\n",
    "   ....\n",
    "   \n",
    "  (0.0, '放我的真心在你的手心', '張智成 (z-chen chang)'),\n",
    "  \n",
    "  (0.0, '差一點我們會飛', '哪一天我們會飛')],\n",
    "  \n",
    "  \n",
    " #### '我過的很好': \n",
    " \n",
    "  [(0.9685502100586879, '幸福離我好遠', '莊心妍'),\n",
    " \n",
    "  (0.9685502100586879, '不想管太多', '莊心妍'),\n",
    "  \n",
    "  (0.1673097962986712, '我知道', '莊心妍'),\n",
    "  \n",
    "  (0.09196377314756442, '青春無敵 (Invincible)', 'various artists'),\n",
    "  \n",
    "  ..... \n",
    "  .....\n",
    "  \n",
    "  (0.042026430702879265, '上行之詩 (Pilgrim Song)', 'various artists'),\n",
    "  \n",
    "  (0.0416696437255625, '再遇見 (Met Again)', '蘇打綠 (sodagreen)'),\n",
    "  \n",
    "  (0.041355296602618524, '長大以後的世界 (Grown Up)', '王源 (roy wang)')]\n",
    "  \n",
    "  .......}\n",
    "\n"
   ]
  },
  {
   "cell_type": "markdown",
   "id": "1b65b8b8",
   "metadata": {},
   "source": [
    "### Just print in jupyter notebook and see the results."
   ]
  },
  {
   "cell_type": "markdown",
   "id": "9a800bbc",
   "metadata": {},
   "source": [
    "## `Step-5:` Constructing Content Based Recommendation System.\n",
    "\n",
    "`Constructor function` will initialize computed similarities dict for every songs to similarity_mat.Also, stores user's playlist history as a list into user_history_list. ( This was experimented before and are provided in markdown section. Scroll above how i come to this step.)\n",
    "\n",
    "`PrintRecommendedSongs` will print mentioned number of most similar and disinct songs(not already in his/her previous playlist) for user according to user's previous playlist.\n",
    "\n",
    "`user_songs_history` will return user's playlist history using userID.\n",
    "\n",
    "`return_most_similar_songs` will return recommended songs for particular songs according to cosine similarities values.\n",
    "\n",
    "`recommend` will take recommendation dictionary with keys: userID and number_songs. It will recommend mentioned number of distinct and most similar songs for the particular user with that userID\n",
    "\n"
   ]
  },
  {
   "cell_type": "code",
   "execution_count": 127,
   "id": "b6de9882",
   "metadata": {},
   "outputs": [],
   "source": [
    "class ContentBasedRecommender:\n",
    "    def __init__(self, similarity_matrix):\n",
    "        self.similarity_mat = similarity_matrix\n",
    "        self.user_history_list = main_df.groupby(['user_id'])['song_name'].apply(list)\n",
    "    \n",
    "    def PrintRecommendedSongs(self, song, recom_song, number_songs, user_play_list):\n",
    "        print(f\"Length of Possible Recommended Songs : {len(recom_song)}\\n\")\n",
    "        print(f'The {number_songs} recommended songs are:')\n",
    "        i=0\n",
    "        k=0\n",
    "        temp_recom_list = []\n",
    "        while(i!=number_songs):\n",
    "            \n",
    "            if k < len(recom_song): # Handling index out of range error...\n",
    "                    if recom_song[k][1] in user_play_list or recom_song[k][1] in temp_recom_list:\n",
    "                        k = k+1\n",
    "                    else:\n",
    "                        if recom_song[k][0] != 0.0:   # Enters if similarity_score less than 0.0\n",
    "                            print(f\"Number {i+1}:\")\n",
    "                            print(f\"{recom_song[k][1]} by {recom_song[k][2]} with {recom_song[k][0]} similarity score\") \n",
    "                            print(\"--------------------\")\n",
    "                            temp_recom_list.append(recom_song[k][1])\n",
    "\n",
    "                            # print(temp_recom_list)\n",
    "\n",
    "                            i=i+1\n",
    "                            k=k+1\n",
    "                        else: ## Not Displaying songs with cosine_similarity score of Zero. You can customize this setting yourself.\n",
    "                            print(\"Opps!!! No Similar Songs for Recommendations. You can go through most popular songs of this week!!!\")\n",
    "                            break\n",
    "\n",
    "            else:\n",
    "                print(\"Opps !!! There are no more similar songs!!!\")\n",
    "                break\n",
    "        \n",
    "                \n",
    "\n",
    "            \n",
    "    def user_songs_history(self, userID):\n",
    "        user_history_values = self.user_history_list[userID]\n",
    "        user_playlist = []\n",
    "        print(f\"User ID: {userID}\\n\\n\")\n",
    "        print(\"Songs History:\\n\")\n",
    "        for i in range(len(user_history_values)):\n",
    "            song  = user_history_values[i]\n",
    "            print(f\"{i+1}. {song}\\n\")\n",
    "            user_playlist.append(song)\n",
    "        return user_playlist\n",
    "        \n",
    "        \n",
    "    def return_most_similar_song(self, song, number_songs):\n",
    "         recom_song = self.similarity_mat[song][:number_songs]\n",
    "         return recom_song\n",
    "        \n",
    "    \n",
    "    \n",
    "    def recommend(self, recommendation):\n",
    "            # Get playlist of particular user\n",
    "            user_play_list = self.user_songs_history(recommendation['userID_recom'])\n",
    "            # Get number of songs to recommend\n",
    "            recom_song_list = []\n",
    "            number_songs = recommendation['number_songs']\n",
    "            \n",
    "            # Get the number of songs most similars from matrix similarities\n",
    "            \n",
    "            for song in user_play_list:\n",
    "                 recom_song_list.extend(self.return_most_similar_song(song, number_songs))\n",
    "#           print(\"I am Correct...\")\n",
    "#           print(recom_song_list)\n",
    "            recom_song_list = sorted(recom_song_list, reverse=True)\n",
    "            # print each item\n",
    "#           print(recom_song_list)\n",
    "            self.PrintRecommendedSongs(song=song,\n",
    "                                       recom_song=recom_song_list,\n",
    "                                       number_songs=number_songs,\n",
    "                                       user_play_list=user_play_list)\n"
   ]
  },
  {
   "cell_type": "markdown",
   "id": "8fdf24af",
   "metadata": {},
   "source": [
    "## `Step-6:` Making Recommendation of Songs to user \n",
    "\n",
    "Making Recommendation of songs to Users according to userID and number of songs user requested."
   ]
  },
  {
   "cell_type": "code",
   "execution_count": 128,
   "id": "3649932f",
   "metadata": {},
   "outputs": [],
   "source": [
    "recommedations = ContentBasedRecommender(similarities)"
   ]
  },
  {
   "cell_type": "code",
   "execution_count": 129,
   "id": "19e37b46",
   "metadata": {},
   "outputs": [],
   "source": [
    "recommendation = {\n",
    "    \"userID_recom\": main_df['user_id'].iloc[1],\n",
    "    \"number_songs\": 50 \n",
    "}"
   ]
  },
  {
   "cell_type": "code",
   "execution_count": 130,
   "id": "f775877d",
   "metadata": {
    "scrolled": false
   },
   "outputs": [
    {
     "name": "stdout",
     "output_type": "stream",
     "text": [
      "User ID: hZyOA+0yqClPLt6uIEndf8fG8szH/95eKMbaxLE5z30=\n",
      "\n",
      "\n",
      "Songs History:\n",
      "\n",
      "1. Panda\n",
      "\n",
      "Length of Possible Recommended Songs : 48\n",
      "\n",
      "The 50 recommended songs are:\n",
      "Number 1:\n",
      "Tiimmy Turner by desiigner with 0.6372222477539108 similarity score\n",
      "--------------------\n",
      "Number 2:\n",
      "Know Better by various artists with 0.2015057132188654 similarity score\n",
      "--------------------\n",
      "Number 3:\n",
      "우리 지금 만나 Let's Meet Now (feat. 장기하와 얼굴들 Kiha & The Faces) by leessang with 0.17767445140893937 similarity score\n",
      "--------------------\n",
      "Number 4:\n",
      "Sometimes by geeks with 0.1593882964940167 similarity score\n",
      "--------------------\n",
      "Number 5:\n",
      "Where'd You Go (feat. Holly Brook & Jonah Matranga) by fort minor with 0.13735827152835292 similarity score\n",
      "--------------------\n",
      "Number 6:\n",
      "Turn Around [5|4|3|2|1] by flo rida with 0.13735827152835292 similarity score\n",
      "--------------------\n",
      "Number 7:\n",
      "Pull Up (feat. Lil Uzi Vert) by wiz khalifa with 0.13735827152835292 similarity score\n",
      "--------------------\n",
      "Number 8:\n",
      "你不愛我 by 玖壹壹 with 0.12423277761241787 similarity score\n",
      "--------------------\n",
      "Number 9:\n",
      "Same Love (feat. Mary Lambert) by macklemore & ryan lewis with 0.12347165298926878 similarity score\n",
      "--------------------\n",
      "Number 10:\n",
      "心電感應 by under lover (地下情人) with 0.08657924206912064 similarity score\n",
      "--------------------\n",
      "Number 11:\n",
      "La La La by sam smith with 0.08603402744413446 similarity score\n",
      "--------------------\n",
      "Number 12:\n",
      "Sing For The Moment by eminem with 0.07976388273961801 similarity score\n",
      "--------------------\n",
      "Number 13:\n",
      "Trap Queen by fetty wap with 0.06128570622004471 similarity score\n",
      "--------------------\n",
      "Number 14:\n",
      "Why You Always Hatin? by yg with 0.05607870563074463 similarity score\n",
      "--------------------\n",
      "Number 15:\n",
      "Me| Myself & I by g-eazy with 0.03903227669831226 similarity score\n",
      "--------------------\n",
      "Opps!!! No Similar Songs for Recommendations. You can go through most popular songs of this week!!!\n"
     ]
    }
   ],
   "source": [
    "recommedations.recommend(recommendation)"
   ]
  },
  {
   "attachments": {
    "image-3.png": {
     "image/png": "[encoded data removed]"
    }
   },
   "cell_type": "markdown",
   "id": "4e1d97a8",
   "metadata": {},
   "source": [
    "### Further Scope & Enhancements:\n",
    "\n",
    "1) If you can display output in dataframe table, it might look beautiful and clear.\n",
    "\n",
    "2) Also, you can append listened songs by user from recommended list and make it realistic.\n",
    "\n",
    "3) Also , you can encode and decode chinese like language and so on. So, you can improve alot!\n",
    "\n",
    "As it was for intern. Limiting my features to this much. ![image-3.png](attachment:image-3.png)"
   ]
  },
  {
   "attachments": {
    "image.png": {
     "image/png": "[encoded data removed]"
    }
   },
   "cell_type": "markdown",
   "id": "ca6f1701",
   "metadata": {},
   "source": [
    "![image.png](attachment:image.png)"
   ]
  },
  {
   "cell_type": "markdown",
   "id": "9c924a90",
   "metadata": {},
   "source": [
    "# Thank You for Visiting and Exploring my ideas and codes. Glad to share this to you.\n"
   ]
  },
  {
   "cell_type": "markdown",
   "id": "4c8e5da4",
   "metadata": {},
   "source": [
    "### `Finally completed my third task successfully`\n",
    "\n",
    "## Thanking to `LetsGrowMore` and Respected sir `Aman Kesarwami` for this \n",
    "\n",
    "## golden opportunity to improve and enhance myself in the field of\n",
    "\n",
    "## DataScience\n",
    "\n",
    "\n",
    "### Also, i would like to thanks my mate Aman Poddar for coordination.\n",
    "\n",
    "His linkedin id : https://www.linkedin.com/in/amanpoddar375/\n",
    "\n",
    "###  References:\n",
    "\n",
    "https://github.com/ugis22/music_recommender\n",
    "https://towardsdatascience.com/the-abc-of-building-a-music-recommender-system-part-i-230e99da9cad\n",
    "\n",
    "\n",
    "### Contact  me:\n",
    "\n",
    "linkedin: https://www.linkedin.com/in/abhishek-thapa-b9a733199/\n",
    "\n",
    "### Youtube Channel : `64bitCODING`\n",
    "\n",
    "Plese do Like and Suscribe and Support me.Thanks every passionate learner in advance!\n",
    "Also, Dont forget to reference my contents if you are using anywhere.\n",
    "\n",
    "<img src=\"yt-channel.png\"/>\n",
    "\n",
    "Copyright © 2022, Abhishek Thapa Inc. All Rights Reserved"
   ]
  },
  {
   "cell_type": "code",
   "execution_count": null,
   "id": "9f944a74",
   "metadata": {},
   "outputs": [],
   "source": []
  }
 ],
 "metadata": {
  "kernelspec": {
   "display_name": "Python 3 (ipykernel)",
   "language": "python",
   "name": "python3"
  },
  "language_info": {
   "codemirror_mode": {
    "name": "ipython",
    "version": 3
   },
   "file_extension": ".py",
   "mimetype": "text/x-python",
   "name": "python",
   "nbconvert_exporter": "python",
   "pygments_lexer": "ipython3",
   "version": "3.10.4"
  }
 },
 "nbformat": 4,
 "nbformat_minor": 5
}
