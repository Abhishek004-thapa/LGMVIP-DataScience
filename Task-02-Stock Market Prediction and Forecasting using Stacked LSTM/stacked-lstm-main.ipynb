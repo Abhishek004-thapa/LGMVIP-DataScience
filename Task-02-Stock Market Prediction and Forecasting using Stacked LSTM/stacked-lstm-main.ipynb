{
 "cells": [
  {
   "cell_type": "markdown",
   "id": "9aa24be9",
   "metadata": {},
   "source": [
    "# `INTERN ON LetsGrowMore(LGM)`\n",
    "## ` Beginner Level Task:`\n",
    "### `Task no. 02 - Stock Market Prediction And Forecasting Using Stacked LSTM`\n",
    "`Dataset from url :` https://raw.githubusercontent.com/mwitiderrick/stockprice/master/NSE-TATAGLOBAL.csv"
   ]
  },
  {
   "cell_type": "markdown",
   "id": "7041eab0",
   "metadata": {},
   "source": [
    "<img src=\"task-2-3.png\" />"
   ]
  },
  {
   "cell_type": "markdown",
   "id": "d31c01ee",
   "metadata": {},
   "source": [
    "## `Abstract :` \n",
    "This project focuses on techniques and tools for handling Time Series Datasets. Main aim of this project is to make Stock Market Prediction and Forecasting using Stacked LSTM. \n",
    "\n",
    "Long short-term memory (LSTM) is an artificial neural network used in the fields of artificial intelligence and deep learning.\n",
    "\n",
    "It is a variety of recurrent neural networks (RNNs) that are capable of learning long-term dependencies, especially in sequence prediction problems. LSTM has feedback connections, i.e., it is capable of processing the entire sequence of data, apart from single data points such as images.\n",
    "\n",
    "### `Two approaches for solving this problem`\n",
    "\n",
    "i) Univariate Time Series Analysis : univariate time series model here means that there are only one dependent variable on the time series model\n",
    "\n",
    "ii) Multivariate Time Series Analysis: it consist of more than one time-dependent variable and each variable depends not only on its past values but also has some dependency on other variables.\n",
    "\n",
    "### `STEPS : `\n",
    "\n",
    "1) Importing Libraries and Loading data\n",
    "\n",
    "2) Cleaning data and sorting data by date.\n",
    "\n",
    "3) Applying univariate approch by selecting `Closing Price` as target variables.\n",
    "\n",
    "4) Exploration and Analysis of Datasets.\n",
    "\n",
    "5) Preprocessing by MinMax Scaler.\n",
    "\n",
    "6) Preparing train and test datasets.\n",
    "\n",
    "7) Constructing Stacked LSTM model.\n",
    "\n",
    "8) Evaluation of Model.\n",
    "\n",
    "9) Forecasting for future 30 days.\n",
    "\n",
    "10) Acknowledgement and References\n"
   ]
  },
  {
   "cell_type": "markdown",
   "id": "9e71f80a",
   "metadata": {},
   "source": [
    "# `Let's Dive into the project`"
   ]
  },
  {
   "cell_type": "markdown",
   "id": "99d3c99b",
   "metadata": {},
   "source": [
    "## `Step-1:` Importing required important libraries and loading dataset..."
   ]
  },
  {
   "cell_type": "code",
   "execution_count": 151,
   "id": "0ab64608",
   "metadata": {},
   "outputs": [],
   "source": [
    "import pandas as pd\n",
    "import matplotlib.pyplot as plt\n",
    "import numpy as np"
   ]
  },
  {
   "cell_type": "code",
   "execution_count": 152,
   "id": "a6671841",
   "metadata": {},
   "outputs": [
    {
     "data": {
      "text/html": [
       "<div>\n",
       "<style scoped>\n",
       "    .dataframe tbody tr th:only-of-type {\n",
       "        vertical-align: middle;\n",
       "    }\n",
       "\n",
       "    .dataframe tbody tr th {\n",
       "        vertical-align: top;\n",
       "    }\n",
       "\n",
       "    .dataframe thead th {\n",
       "        text-align: right;\n",
       "    }\n",
       "</style>\n",
       "<table border=\"1\" class=\"dataframe\">\n",
       "  <thead>\n",
       "    <tr style=\"text-align: right;\">\n",
       "      <th></th>\n",
       "      <th>Date</th>\n",
       "      <th>Open</th>\n",
       "      <th>High</th>\n",
       "      <th>Low</th>\n",
       "      <th>Last</th>\n",
       "      <th>Close</th>\n",
       "      <th>Total Trade Quantity</th>\n",
       "      <th>Turnover (Lacs)</th>\n",
       "    </tr>\n",
       "  </thead>\n",
       "  <tbody>\n",
       "    <tr>\n",
       "      <th>0</th>\n",
       "      <td>2018-09-28</td>\n",
       "      <td>234.05</td>\n",
       "      <td>235.95</td>\n",
       "      <td>230.20</td>\n",
       "      <td>233.50</td>\n",
       "      <td>233.75</td>\n",
       "      <td>3069914</td>\n",
       "      <td>7162.35</td>\n",
       "    </tr>\n",
       "    <tr>\n",
       "      <th>1</th>\n",
       "      <td>2018-09-27</td>\n",
       "      <td>234.55</td>\n",
       "      <td>236.80</td>\n",
       "      <td>231.10</td>\n",
       "      <td>233.80</td>\n",
       "      <td>233.25</td>\n",
       "      <td>5082859</td>\n",
       "      <td>11859.95</td>\n",
       "    </tr>\n",
       "    <tr>\n",
       "      <th>2</th>\n",
       "      <td>2018-09-26</td>\n",
       "      <td>240.00</td>\n",
       "      <td>240.00</td>\n",
       "      <td>232.50</td>\n",
       "      <td>235.00</td>\n",
       "      <td>234.25</td>\n",
       "      <td>2240909</td>\n",
       "      <td>5248.60</td>\n",
       "    </tr>\n",
       "    <tr>\n",
       "      <th>3</th>\n",
       "      <td>2018-09-25</td>\n",
       "      <td>233.30</td>\n",
       "      <td>236.75</td>\n",
       "      <td>232.00</td>\n",
       "      <td>236.25</td>\n",
       "      <td>236.10</td>\n",
       "      <td>2349368</td>\n",
       "      <td>5503.90</td>\n",
       "    </tr>\n",
       "    <tr>\n",
       "      <th>4</th>\n",
       "      <td>2018-09-24</td>\n",
       "      <td>233.55</td>\n",
       "      <td>239.20</td>\n",
       "      <td>230.75</td>\n",
       "      <td>234.00</td>\n",
       "      <td>233.30</td>\n",
       "      <td>3423509</td>\n",
       "      <td>7999.55</td>\n",
       "    </tr>\n",
       "    <tr>\n",
       "      <th>...</th>\n",
       "      <td>...</td>\n",
       "      <td>...</td>\n",
       "      <td>...</td>\n",
       "      <td>...</td>\n",
       "      <td>...</td>\n",
       "      <td>...</td>\n",
       "      <td>...</td>\n",
       "      <td>...</td>\n",
       "    </tr>\n",
       "    <tr>\n",
       "      <th>2030</th>\n",
       "      <td>2010-07-27</td>\n",
       "      <td>117.60</td>\n",
       "      <td>119.50</td>\n",
       "      <td>112.00</td>\n",
       "      <td>118.80</td>\n",
       "      <td>118.65</td>\n",
       "      <td>586100</td>\n",
       "      <td>694.98</td>\n",
       "    </tr>\n",
       "    <tr>\n",
       "      <th>2031</th>\n",
       "      <td>2010-07-26</td>\n",
       "      <td>120.10</td>\n",
       "      <td>121.00</td>\n",
       "      <td>117.10</td>\n",
       "      <td>117.10</td>\n",
       "      <td>117.60</td>\n",
       "      <td>658440</td>\n",
       "      <td>780.01</td>\n",
       "    </tr>\n",
       "    <tr>\n",
       "      <th>2032</th>\n",
       "      <td>2010-07-23</td>\n",
       "      <td>121.80</td>\n",
       "      <td>121.95</td>\n",
       "      <td>120.25</td>\n",
       "      <td>120.35</td>\n",
       "      <td>120.65</td>\n",
       "      <td>281312</td>\n",
       "      <td>340.31</td>\n",
       "    </tr>\n",
       "    <tr>\n",
       "      <th>2033</th>\n",
       "      <td>2010-07-22</td>\n",
       "      <td>120.30</td>\n",
       "      <td>122.00</td>\n",
       "      <td>120.25</td>\n",
       "      <td>120.75</td>\n",
       "      <td>120.90</td>\n",
       "      <td>293312</td>\n",
       "      <td>355.17</td>\n",
       "    </tr>\n",
       "    <tr>\n",
       "      <th>2034</th>\n",
       "      <td>2010-07-21</td>\n",
       "      <td>122.10</td>\n",
       "      <td>123.00</td>\n",
       "      <td>121.05</td>\n",
       "      <td>121.10</td>\n",
       "      <td>121.55</td>\n",
       "      <td>658666</td>\n",
       "      <td>803.56</td>\n",
       "    </tr>\n",
       "  </tbody>\n",
       "</table>\n",
       "<p>2035 rows × 8 columns</p>\n",
       "</div>"
      ],
      "text/plain": [
       "            Date    Open    High     Low    Last   Close  \\\n",
       "0     2018-09-28  234.05  235.95  230.20  233.50  233.75   \n",
       "1     2018-09-27  234.55  236.80  231.10  233.80  233.25   \n",
       "2     2018-09-26  240.00  240.00  232.50  235.00  234.25   \n",
       "3     2018-09-25  233.30  236.75  232.00  236.25  236.10   \n",
       "4     2018-09-24  233.55  239.20  230.75  234.00  233.30   \n",
       "...          ...     ...     ...     ...     ...     ...   \n",
       "2030  2010-07-27  117.60  119.50  112.00  118.80  118.65   \n",
       "2031  2010-07-26  120.10  121.00  117.10  117.10  117.60   \n",
       "2032  2010-07-23  121.80  121.95  120.25  120.35  120.65   \n",
       "2033  2010-07-22  120.30  122.00  120.25  120.75  120.90   \n",
       "2034  2010-07-21  122.10  123.00  121.05  121.10  121.55   \n",
       "\n",
       "      Total Trade Quantity  Turnover (Lacs)  \n",
       "0                  3069914          7162.35  \n",
       "1                  5082859         11859.95  \n",
       "2                  2240909          5248.60  \n",
       "3                  2349368          5503.90  \n",
       "4                  3423509          7999.55  \n",
       "...                    ...              ...  \n",
       "2030                586100           694.98  \n",
       "2031                658440           780.01  \n",
       "2032                281312           340.31  \n",
       "2033                293312           355.17  \n",
       "2034                658666           803.56  \n",
       "\n",
       "[2035 rows x 8 columns]"
      ]
     },
     "execution_count": 152,
     "metadata": {},
     "output_type": "execute_result"
    }
   ],
   "source": [
    "# Loading dataset\n",
    "\n",
    "url = \"https://raw.githubusercontent.com/mwitiderrick/stockprice/master/NSE-TATAGLOBAL.csv\"\n",
    "tataglobal_df = pd.read_csv(url)\n",
    "tataglobal_df"
   ]
  },
  {
   "cell_type": "code",
   "execution_count": 153,
   "id": "881bae89",
   "metadata": {},
   "outputs": [
    {
     "data": {
      "text/plain": [
       "(2035, 8)"
      ]
     },
     "execution_count": 153,
     "metadata": {},
     "output_type": "execute_result"
    }
   ],
   "source": [
    "tataglobal_df.shape"
   ]
  },
  {
   "cell_type": "code",
   "execution_count": 154,
   "id": "bcb9f7f8",
   "metadata": {},
   "outputs": [
    {
     "data": {
      "text/plain": [
       "Date                     object\n",
       "Open                    float64\n",
       "High                    float64\n",
       "Low                     float64\n",
       "Last                    float64\n",
       "Close                   float64\n",
       "Total Trade Quantity      int64\n",
       "Turnover (Lacs)         float64\n",
       "dtype: object"
      ]
     },
     "execution_count": 154,
     "metadata": {},
     "output_type": "execute_result"
    }
   ],
   "source": [
    "tataglobal_df.dtypes"
   ]
  },
  {
   "cell_type": "code",
   "execution_count": 155,
   "id": "5cf76078",
   "metadata": {},
   "outputs": [
    {
     "name": "stdout",
     "output_type": "stream",
     "text": [
      "<class 'pandas.core.frame.DataFrame'>\n",
      "RangeIndex: 2035 entries, 0 to 2034\n",
      "Data columns (total 8 columns):\n",
      " #   Column                Non-Null Count  Dtype  \n",
      "---  ------                --------------  -----  \n",
      " 0   Date                  2035 non-null   object \n",
      " 1   Open                  2035 non-null   float64\n",
      " 2   High                  2035 non-null   float64\n",
      " 3   Low                   2035 non-null   float64\n",
      " 4   Last                  2035 non-null   float64\n",
      " 5   Close                 2035 non-null   float64\n",
      " 6   Total Trade Quantity  2035 non-null   int64  \n",
      " 7   Turnover (Lacs)       2035 non-null   float64\n",
      "dtypes: float64(6), int64(1), object(1)\n",
      "memory usage: 127.3+ KB\n"
     ]
    }
   ],
   "source": [
    "tataglobal_df.info()"
   ]
  },
  {
   "cell_type": "code",
   "execution_count": 156,
   "id": "8df58b97",
   "metadata": {},
   "outputs": [
    {
     "data": {
      "text/html": [
       "<div>\n",
       "<style scoped>\n",
       "    .dataframe tbody tr th:only-of-type {\n",
       "        vertical-align: middle;\n",
       "    }\n",
       "\n",
       "    .dataframe tbody tr th {\n",
       "        vertical-align: top;\n",
       "    }\n",
       "\n",
       "    .dataframe thead th {\n",
       "        text-align: right;\n",
       "    }\n",
       "</style>\n",
       "<table border=\"1\" class=\"dataframe\">\n",
       "  <thead>\n",
       "    <tr style=\"text-align: right;\">\n",
       "      <th></th>\n",
       "      <th>Open</th>\n",
       "      <th>High</th>\n",
       "      <th>Low</th>\n",
       "      <th>Last</th>\n",
       "      <th>Close</th>\n",
       "      <th>Total Trade Quantity</th>\n",
       "      <th>Turnover (Lacs)</th>\n",
       "    </tr>\n",
       "  </thead>\n",
       "  <tbody>\n",
       "    <tr>\n",
       "      <th>count</th>\n",
       "      <td>2035.000000</td>\n",
       "      <td>2035.000000</td>\n",
       "      <td>2035.000000</td>\n",
       "      <td>2035.000000</td>\n",
       "      <td>2035.00000</td>\n",
       "      <td>2.035000e+03</td>\n",
       "      <td>2035.000000</td>\n",
       "    </tr>\n",
       "    <tr>\n",
       "      <th>mean</th>\n",
       "      <td>149.713735</td>\n",
       "      <td>151.992826</td>\n",
       "      <td>147.293931</td>\n",
       "      <td>149.474251</td>\n",
       "      <td>149.45027</td>\n",
       "      <td>2.335681e+06</td>\n",
       "      <td>3899.980565</td>\n",
       "    </tr>\n",
       "    <tr>\n",
       "      <th>std</th>\n",
       "      <td>48.664509</td>\n",
       "      <td>49.413109</td>\n",
       "      <td>47.931958</td>\n",
       "      <td>48.732570</td>\n",
       "      <td>48.71204</td>\n",
       "      <td>2.091778e+06</td>\n",
       "      <td>4570.767877</td>\n",
       "    </tr>\n",
       "    <tr>\n",
       "      <th>min</th>\n",
       "      <td>81.100000</td>\n",
       "      <td>82.800000</td>\n",
       "      <td>80.000000</td>\n",
       "      <td>81.000000</td>\n",
       "      <td>80.95000</td>\n",
       "      <td>3.961000e+04</td>\n",
       "      <td>37.040000</td>\n",
       "    </tr>\n",
       "    <tr>\n",
       "      <th>25%</th>\n",
       "      <td>120.025000</td>\n",
       "      <td>122.100000</td>\n",
       "      <td>118.300000</td>\n",
       "      <td>120.075000</td>\n",
       "      <td>120.05000</td>\n",
       "      <td>1.146444e+06</td>\n",
       "      <td>1427.460000</td>\n",
       "    </tr>\n",
       "    <tr>\n",
       "      <th>50%</th>\n",
       "      <td>141.500000</td>\n",
       "      <td>143.400000</td>\n",
       "      <td>139.600000</td>\n",
       "      <td>141.100000</td>\n",
       "      <td>141.25000</td>\n",
       "      <td>1.783456e+06</td>\n",
       "      <td>2512.030000</td>\n",
       "    </tr>\n",
       "    <tr>\n",
       "      <th>75%</th>\n",
       "      <td>157.175000</td>\n",
       "      <td>159.400000</td>\n",
       "      <td>155.150000</td>\n",
       "      <td>156.925000</td>\n",
       "      <td>156.90000</td>\n",
       "      <td>2.813594e+06</td>\n",
       "      <td>4539.015000</td>\n",
       "    </tr>\n",
       "    <tr>\n",
       "      <th>max</th>\n",
       "      <td>327.700000</td>\n",
       "      <td>328.750000</td>\n",
       "      <td>321.650000</td>\n",
       "      <td>325.950000</td>\n",
       "      <td>325.75000</td>\n",
       "      <td>2.919102e+07</td>\n",
       "      <td>55755.080000</td>\n",
       "    </tr>\n",
       "  </tbody>\n",
       "</table>\n",
       "</div>"
      ],
      "text/plain": [
       "              Open         High          Low         Last       Close  \\\n",
       "count  2035.000000  2035.000000  2035.000000  2035.000000  2035.00000   \n",
       "mean    149.713735   151.992826   147.293931   149.474251   149.45027   \n",
       "std      48.664509    49.413109    47.931958    48.732570    48.71204   \n",
       "min      81.100000    82.800000    80.000000    81.000000    80.95000   \n",
       "25%     120.025000   122.100000   118.300000   120.075000   120.05000   \n",
       "50%     141.500000   143.400000   139.600000   141.100000   141.25000   \n",
       "75%     157.175000   159.400000   155.150000   156.925000   156.90000   \n",
       "max     327.700000   328.750000   321.650000   325.950000   325.75000   \n",
       "\n",
       "       Total Trade Quantity  Turnover (Lacs)  \n",
       "count          2.035000e+03      2035.000000  \n",
       "mean           2.335681e+06      3899.980565  \n",
       "std            2.091778e+06      4570.767877  \n",
       "min            3.961000e+04        37.040000  \n",
       "25%            1.146444e+06      1427.460000  \n",
       "50%            1.783456e+06      2512.030000  \n",
       "75%            2.813594e+06      4539.015000  \n",
       "max            2.919102e+07     55755.080000  "
      ]
     },
     "execution_count": 156,
     "metadata": {},
     "output_type": "execute_result"
    }
   ],
   "source": [
    "tataglobal_df.describe()"
   ]
  },
  {
   "cell_type": "code",
   "execution_count": 157,
   "id": "a72fbed1",
   "metadata": {},
   "outputs": [
    {
     "data": {
      "text/plain": [
       "Date                    0\n",
       "Open                    0\n",
       "High                    0\n",
       "Low                     0\n",
       "Last                    0\n",
       "Close                   0\n",
       "Total Trade Quantity    0\n",
       "Turnover (Lacs)         0\n",
       "dtype: int64"
      ]
     },
     "execution_count": 157,
     "metadata": {},
     "output_type": "execute_result"
    }
   ],
   "source": [
    "tataglobal_df.isna().sum()"
   ]
  },
  {
   "cell_type": "code",
   "execution_count": 158,
   "id": "1e44bb14",
   "metadata": {},
   "outputs": [
    {
     "data": {
      "text/html": [
       "<div>\n",
       "<style scoped>\n",
       "    .dataframe tbody tr th:only-of-type {\n",
       "        vertical-align: middle;\n",
       "    }\n",
       "\n",
       "    .dataframe tbody tr th {\n",
       "        vertical-align: top;\n",
       "    }\n",
       "\n",
       "    .dataframe thead th {\n",
       "        text-align: right;\n",
       "    }\n",
       "</style>\n",
       "<table border=\"1\" class=\"dataframe\">\n",
       "  <thead>\n",
       "    <tr style=\"text-align: right;\">\n",
       "      <th></th>\n",
       "      <th>Date</th>\n",
       "      <th>Open</th>\n",
       "      <th>High</th>\n",
       "      <th>Low</th>\n",
       "      <th>Last</th>\n",
       "      <th>Close</th>\n",
       "      <th>Total Trade Quantity</th>\n",
       "      <th>Turnover (Lacs)</th>\n",
       "    </tr>\n",
       "  </thead>\n",
       "  <tbody>\n",
       "    <tr>\n",
       "      <th>0</th>\n",
       "      <td>2018-09-28</td>\n",
       "      <td>234.05</td>\n",
       "      <td>235.95</td>\n",
       "      <td>230.20</td>\n",
       "      <td>233.50</td>\n",
       "      <td>233.75</td>\n",
       "      <td>3069914</td>\n",
       "      <td>7162.35</td>\n",
       "    </tr>\n",
       "    <tr>\n",
       "      <th>1</th>\n",
       "      <td>2018-09-27</td>\n",
       "      <td>234.55</td>\n",
       "      <td>236.80</td>\n",
       "      <td>231.10</td>\n",
       "      <td>233.80</td>\n",
       "      <td>233.25</td>\n",
       "      <td>5082859</td>\n",
       "      <td>11859.95</td>\n",
       "    </tr>\n",
       "    <tr>\n",
       "      <th>2</th>\n",
       "      <td>2018-09-26</td>\n",
       "      <td>240.00</td>\n",
       "      <td>240.00</td>\n",
       "      <td>232.50</td>\n",
       "      <td>235.00</td>\n",
       "      <td>234.25</td>\n",
       "      <td>2240909</td>\n",
       "      <td>5248.60</td>\n",
       "    </tr>\n",
       "    <tr>\n",
       "      <th>3</th>\n",
       "      <td>2018-09-25</td>\n",
       "      <td>233.30</td>\n",
       "      <td>236.75</td>\n",
       "      <td>232.00</td>\n",
       "      <td>236.25</td>\n",
       "      <td>236.10</td>\n",
       "      <td>2349368</td>\n",
       "      <td>5503.90</td>\n",
       "    </tr>\n",
       "    <tr>\n",
       "      <th>4</th>\n",
       "      <td>2018-09-24</td>\n",
       "      <td>233.55</td>\n",
       "      <td>239.20</td>\n",
       "      <td>230.75</td>\n",
       "      <td>234.00</td>\n",
       "      <td>233.30</td>\n",
       "      <td>3423509</td>\n",
       "      <td>7999.55</td>\n",
       "    </tr>\n",
       "  </tbody>\n",
       "</table>\n",
       "</div>"
      ],
      "text/plain": [
       "         Date    Open    High     Low    Last   Close  Total Trade Quantity  \\\n",
       "0  2018-09-28  234.05  235.95  230.20  233.50  233.75               3069914   \n",
       "1  2018-09-27  234.55  236.80  231.10  233.80  233.25               5082859   \n",
       "2  2018-09-26  240.00  240.00  232.50  235.00  234.25               2240909   \n",
       "3  2018-09-25  233.30  236.75  232.00  236.25  236.10               2349368   \n",
       "4  2018-09-24  233.55  239.20  230.75  234.00  233.30               3423509   \n",
       "\n",
       "   Turnover (Lacs)  \n",
       "0          7162.35  \n",
       "1         11859.95  \n",
       "2          5248.60  \n",
       "3          5503.90  \n",
       "4          7999.55  "
      ]
     },
     "execution_count": 158,
     "metadata": {},
     "output_type": "execute_result"
    }
   ],
   "source": [
    "tataglobal_df.head()"
   ]
  },
  {
   "cell_type": "code",
   "execution_count": 159,
   "id": "88cee5f4",
   "metadata": {},
   "outputs": [
    {
     "data": {
      "image/png": "[encoded data removed]",
      "text/plain": [
       "<Figure size 640x480 with 1 Axes>"
      ]
     },
     "metadata": {},
     "output_type": "display_data"
    }
   ],
   "source": [
    "tataglobal_df.Close.hist();"
   ]
  },
  {
   "cell_type": "markdown",
   "id": "0cbbf999",
   "metadata": {},
   "source": [
    "### Parsing Dates \n",
    "\n",
    "When we work with time series data, we want to enrich the time & date component as much as possible \n",
    "\n",
    "We can do that by telling pandas which our column has dates in it using the `parse_dates` parameters"
   ]
  },
  {
   "cell_type": "code",
   "execution_count": 160,
   "id": "17fc2ed5",
   "metadata": {},
   "outputs": [
    {
     "data": {
      "text/html": [
       "<div>\n",
       "<style scoped>\n",
       "    .dataframe tbody tr th:only-of-type {\n",
       "        vertical-align: middle;\n",
       "    }\n",
       "\n",
       "    .dataframe tbody tr th {\n",
       "        vertical-align: top;\n",
       "    }\n",
       "\n",
       "    .dataframe thead th {\n",
       "        text-align: right;\n",
       "    }\n",
       "</style>\n",
       "<table border=\"1\" class=\"dataframe\">\n",
       "  <thead>\n",
       "    <tr style=\"text-align: right;\">\n",
       "      <th></th>\n",
       "      <th>Date</th>\n",
       "      <th>Open</th>\n",
       "      <th>High</th>\n",
       "      <th>Low</th>\n",
       "      <th>Last</th>\n",
       "      <th>Close</th>\n",
       "      <th>Total Trade Quantity</th>\n",
       "      <th>Turnover (Lacs)</th>\n",
       "    </tr>\n",
       "  </thead>\n",
       "  <tbody>\n",
       "    <tr>\n",
       "      <th>0</th>\n",
       "      <td>2018-09-28</td>\n",
       "      <td>234.05</td>\n",
       "      <td>235.95</td>\n",
       "      <td>230.20</td>\n",
       "      <td>233.50</td>\n",
       "      <td>233.75</td>\n",
       "      <td>3069914</td>\n",
       "      <td>7162.35</td>\n",
       "    </tr>\n",
       "    <tr>\n",
       "      <th>1</th>\n",
       "      <td>2018-09-27</td>\n",
       "      <td>234.55</td>\n",
       "      <td>236.80</td>\n",
       "      <td>231.10</td>\n",
       "      <td>233.80</td>\n",
       "      <td>233.25</td>\n",
       "      <td>5082859</td>\n",
       "      <td>11859.95</td>\n",
       "    </tr>\n",
       "    <tr>\n",
       "      <th>2</th>\n",
       "      <td>2018-09-26</td>\n",
       "      <td>240.00</td>\n",
       "      <td>240.00</td>\n",
       "      <td>232.50</td>\n",
       "      <td>235.00</td>\n",
       "      <td>234.25</td>\n",
       "      <td>2240909</td>\n",
       "      <td>5248.60</td>\n",
       "    </tr>\n",
       "    <tr>\n",
       "      <th>3</th>\n",
       "      <td>2018-09-25</td>\n",
       "      <td>233.30</td>\n",
       "      <td>236.75</td>\n",
       "      <td>232.00</td>\n",
       "      <td>236.25</td>\n",
       "      <td>236.10</td>\n",
       "      <td>2349368</td>\n",
       "      <td>5503.90</td>\n",
       "    </tr>\n",
       "    <tr>\n",
       "      <th>4</th>\n",
       "      <td>2018-09-24</td>\n",
       "      <td>233.55</td>\n",
       "      <td>239.20</td>\n",
       "      <td>230.75</td>\n",
       "      <td>234.00</td>\n",
       "      <td>233.30</td>\n",
       "      <td>3423509</td>\n",
       "      <td>7999.55</td>\n",
       "    </tr>\n",
       "  </tbody>\n",
       "</table>\n",
       "</div>"
      ],
      "text/plain": [
       "        Date    Open    High     Low    Last   Close  Total Trade Quantity  \\\n",
       "0 2018-09-28  234.05  235.95  230.20  233.50  233.75               3069914   \n",
       "1 2018-09-27  234.55  236.80  231.10  233.80  233.25               5082859   \n",
       "2 2018-09-26  240.00  240.00  232.50  235.00  234.25               2240909   \n",
       "3 2018-09-25  233.30  236.75  232.00  236.25  236.10               2349368   \n",
       "4 2018-09-24  233.55  239.20  230.75  234.00  233.30               3423509   \n",
       "\n",
       "   Turnover (Lacs)  \n",
       "0          7162.35  \n",
       "1         11859.95  \n",
       "2          5248.60  \n",
       "3          5503.90  \n",
       "4          7999.55  "
      ]
     },
     "execution_count": 160,
     "metadata": {},
     "output_type": "execute_result"
    }
   ],
   "source": [
    "# Imoporting data again but this time parse dates\n",
    "\n",
    "df = pd.read_csv(url, \n",
    "                 parse_dates=[\"Date\"])\n",
    "df.head()"
   ]
  },
  {
   "cell_type": "code",
   "execution_count": 161,
   "id": "39e55ddc",
   "metadata": {},
   "outputs": [
    {
     "data": {
      "text/plain": [
       "dtype('<M8[ns]')"
      ]
     },
     "execution_count": 161,
     "metadata": {},
     "output_type": "execute_result"
    }
   ],
   "source": [
    "df.Date.dtype"
   ]
  },
  {
   "cell_type": "code",
   "execution_count": 162,
   "id": "17722410",
   "metadata": {},
   "outputs": [
    {
     "data": {
      "text/plain": [
       "dtype('O')"
      ]
     },
     "execution_count": 162,
     "metadata": {},
     "output_type": "execute_result"
    }
   ],
   "source": [
    "tataglobal_df.Date.dtype"
   ]
  },
  {
   "cell_type": "code",
   "execution_count": 163,
   "id": "e86a8d18",
   "metadata": {},
   "outputs": [
    {
     "data": {
      "text/plain": [
       "0    2018-09-28\n",
       "1    2018-09-27\n",
       "2    2018-09-26\n",
       "3    2018-09-25\n",
       "4    2018-09-24\n",
       "Name: Date, dtype: object"
      ]
     },
     "execution_count": 163,
     "metadata": {},
     "output_type": "execute_result"
    }
   ],
   "source": [
    "tataglobal_df.Date.head()"
   ]
  },
  {
   "cell_type": "code",
   "execution_count": 164,
   "id": "1c0248ff",
   "metadata": {},
   "outputs": [
    {
     "data": {
      "text/plain": [
       "0   2018-09-28\n",
       "1   2018-09-27\n",
       "2   2018-09-26\n",
       "3   2018-09-25\n",
       "4   2018-09-24\n",
       "Name: Date, dtype: datetime64[ns]"
      ]
     },
     "execution_count": 164,
     "metadata": {},
     "output_type": "execute_result"
    }
   ],
   "source": [
    "df.Date.head()"
   ]
  },
  {
   "cell_type": "markdown",
   "id": "0a77dd04",
   "metadata": {},
   "source": [
    "### <M8[ns] is equivalent to datetime64[ns]"
   ]
  },
  {
   "cell_type": "markdown",
   "id": "a653dd45",
   "metadata": {},
   "source": [
    "## `Step-2:` Data Cleaning and Sorting by date from oldest to newest data..."
   ]
  },
  {
   "cell_type": "code",
   "execution_count": 165,
   "id": "a6078080",
   "metadata": {},
   "outputs": [
    {
     "data": {
      "text/plain": [
       "Date                    0\n",
       "Open                    0\n",
       "High                    0\n",
       "Low                     0\n",
       "Last                    0\n",
       "Close                   0\n",
       "Total Trade Quantity    0\n",
       "Turnover (Lacs)         0\n",
       "dtype: int64"
      ]
     },
     "execution_count": 165,
     "metadata": {},
     "output_type": "execute_result"
    }
   ],
   "source": [
    "df.isna().sum()"
   ]
  },
  {
   "cell_type": "markdown",
   "id": "688963c2",
   "metadata": {},
   "source": [
    "`Sort DataFrame by Date`\n",
    "\n",
    "While working with time series data, it's a good idea to sort it by data"
   ]
  },
  {
   "cell_type": "code",
   "execution_count": 166,
   "id": "9a40e8a2",
   "metadata": {},
   "outputs": [
    {
     "data": {
      "text/html": [
       "<div>\n",
       "<style scoped>\n",
       "    .dataframe tbody tr th:only-of-type {\n",
       "        vertical-align: middle;\n",
       "    }\n",
       "\n",
       "    .dataframe tbody tr th {\n",
       "        vertical-align: top;\n",
       "    }\n",
       "\n",
       "    .dataframe thead th {\n",
       "        text-align: right;\n",
       "    }\n",
       "</style>\n",
       "<table border=\"1\" class=\"dataframe\">\n",
       "  <thead>\n",
       "    <tr style=\"text-align: right;\">\n",
       "      <th></th>\n",
       "      <th>Date</th>\n",
       "      <th>Open</th>\n",
       "      <th>High</th>\n",
       "      <th>Low</th>\n",
       "      <th>Last</th>\n",
       "      <th>Close</th>\n",
       "      <th>Total Trade Quantity</th>\n",
       "      <th>Turnover (Lacs)</th>\n",
       "    </tr>\n",
       "  </thead>\n",
       "  <tbody>\n",
       "    <tr>\n",
       "      <th>0</th>\n",
       "      <td>2018-09-28</td>\n",
       "      <td>234.05</td>\n",
       "      <td>235.95</td>\n",
       "      <td>230.20</td>\n",
       "      <td>233.50</td>\n",
       "      <td>233.75</td>\n",
       "      <td>3069914</td>\n",
       "      <td>7162.35</td>\n",
       "    </tr>\n",
       "    <tr>\n",
       "      <th>1</th>\n",
       "      <td>2018-09-27</td>\n",
       "      <td>234.55</td>\n",
       "      <td>236.80</td>\n",
       "      <td>231.10</td>\n",
       "      <td>233.80</td>\n",
       "      <td>233.25</td>\n",
       "      <td>5082859</td>\n",
       "      <td>11859.95</td>\n",
       "    </tr>\n",
       "    <tr>\n",
       "      <th>2</th>\n",
       "      <td>2018-09-26</td>\n",
       "      <td>240.00</td>\n",
       "      <td>240.00</td>\n",
       "      <td>232.50</td>\n",
       "      <td>235.00</td>\n",
       "      <td>234.25</td>\n",
       "      <td>2240909</td>\n",
       "      <td>5248.60</td>\n",
       "    </tr>\n",
       "    <tr>\n",
       "      <th>3</th>\n",
       "      <td>2018-09-25</td>\n",
       "      <td>233.30</td>\n",
       "      <td>236.75</td>\n",
       "      <td>232.00</td>\n",
       "      <td>236.25</td>\n",
       "      <td>236.10</td>\n",
       "      <td>2349368</td>\n",
       "      <td>5503.90</td>\n",
       "    </tr>\n",
       "    <tr>\n",
       "      <th>4</th>\n",
       "      <td>2018-09-24</td>\n",
       "      <td>233.55</td>\n",
       "      <td>239.20</td>\n",
       "      <td>230.75</td>\n",
       "      <td>234.00</td>\n",
       "      <td>233.30</td>\n",
       "      <td>3423509</td>\n",
       "      <td>7999.55</td>\n",
       "    </tr>\n",
       "  </tbody>\n",
       "</table>\n",
       "</div>"
      ],
      "text/plain": [
       "        Date    Open    High     Low    Last   Close  Total Trade Quantity  \\\n",
       "0 2018-09-28  234.05  235.95  230.20  233.50  233.75               3069914   \n",
       "1 2018-09-27  234.55  236.80  231.10  233.80  233.25               5082859   \n",
       "2 2018-09-26  240.00  240.00  232.50  235.00  234.25               2240909   \n",
       "3 2018-09-25  233.30  236.75  232.00  236.25  236.10               2349368   \n",
       "4 2018-09-24  233.55  239.20  230.75  234.00  233.30               3423509   \n",
       "\n",
       "   Turnover (Lacs)  \n",
       "0          7162.35  \n",
       "1         11859.95  \n",
       "2          5248.60  \n",
       "3          5503.90  \n",
       "4          7999.55  "
      ]
     },
     "execution_count": 166,
     "metadata": {},
     "output_type": "execute_result"
    }
   ],
   "source": [
    "df.head()"
   ]
  },
  {
   "cell_type": "code",
   "execution_count": 167,
   "id": "fb59c91c",
   "metadata": {},
   "outputs": [
    {
     "data": {
      "text/html": [
       "<div>\n",
       "<style scoped>\n",
       "    .dataframe tbody tr th:only-of-type {\n",
       "        vertical-align: middle;\n",
       "    }\n",
       "\n",
       "    .dataframe tbody tr th {\n",
       "        vertical-align: top;\n",
       "    }\n",
       "\n",
       "    .dataframe thead th {\n",
       "        text-align: right;\n",
       "    }\n",
       "</style>\n",
       "<table border=\"1\" class=\"dataframe\">\n",
       "  <thead>\n",
       "    <tr style=\"text-align: right;\">\n",
       "      <th></th>\n",
       "      <th>Date</th>\n",
       "      <th>Open</th>\n",
       "      <th>High</th>\n",
       "      <th>Low</th>\n",
       "      <th>Last</th>\n",
       "      <th>Close</th>\n",
       "      <th>Total Trade Quantity</th>\n",
       "      <th>Turnover (Lacs)</th>\n",
       "    </tr>\n",
       "  </thead>\n",
       "  <tbody>\n",
       "    <tr>\n",
       "      <th>2030</th>\n",
       "      <td>2010-07-27</td>\n",
       "      <td>117.6</td>\n",
       "      <td>119.50</td>\n",
       "      <td>112.00</td>\n",
       "      <td>118.80</td>\n",
       "      <td>118.65</td>\n",
       "      <td>586100</td>\n",
       "      <td>694.98</td>\n",
       "    </tr>\n",
       "    <tr>\n",
       "      <th>2031</th>\n",
       "      <td>2010-07-26</td>\n",
       "      <td>120.1</td>\n",
       "      <td>121.00</td>\n",
       "      <td>117.10</td>\n",
       "      <td>117.10</td>\n",
       "      <td>117.60</td>\n",
       "      <td>658440</td>\n",
       "      <td>780.01</td>\n",
       "    </tr>\n",
       "    <tr>\n",
       "      <th>2032</th>\n",
       "      <td>2010-07-23</td>\n",
       "      <td>121.8</td>\n",
       "      <td>121.95</td>\n",
       "      <td>120.25</td>\n",
       "      <td>120.35</td>\n",
       "      <td>120.65</td>\n",
       "      <td>281312</td>\n",
       "      <td>340.31</td>\n",
       "    </tr>\n",
       "    <tr>\n",
       "      <th>2033</th>\n",
       "      <td>2010-07-22</td>\n",
       "      <td>120.3</td>\n",
       "      <td>122.00</td>\n",
       "      <td>120.25</td>\n",
       "      <td>120.75</td>\n",
       "      <td>120.90</td>\n",
       "      <td>293312</td>\n",
       "      <td>355.17</td>\n",
       "    </tr>\n",
       "    <tr>\n",
       "      <th>2034</th>\n",
       "      <td>2010-07-21</td>\n",
       "      <td>122.1</td>\n",
       "      <td>123.00</td>\n",
       "      <td>121.05</td>\n",
       "      <td>121.10</td>\n",
       "      <td>121.55</td>\n",
       "      <td>658666</td>\n",
       "      <td>803.56</td>\n",
       "    </tr>\n",
       "  </tbody>\n",
       "</table>\n",
       "</div>"
      ],
      "text/plain": [
       "           Date   Open    High     Low    Last   Close  Total Trade Quantity  \\\n",
       "2030 2010-07-27  117.6  119.50  112.00  118.80  118.65                586100   \n",
       "2031 2010-07-26  120.1  121.00  117.10  117.10  117.60                658440   \n",
       "2032 2010-07-23  121.8  121.95  120.25  120.35  120.65                281312   \n",
       "2033 2010-07-22  120.3  122.00  120.25  120.75  120.90                293312   \n",
       "2034 2010-07-21  122.1  123.00  121.05  121.10  121.55                658666   \n",
       "\n",
       "      Turnover (Lacs)  \n",
       "2030           694.98  \n",
       "2031           780.01  \n",
       "2032           340.31  \n",
       "2033           355.17  \n",
       "2034           803.56  "
      ]
     },
     "execution_count": 167,
     "metadata": {},
     "output_type": "execute_result"
    }
   ],
   "source": [
    "df.tail()"
   ]
  },
  {
   "cell_type": "code",
   "execution_count": 168,
   "id": "824492d5",
   "metadata": {},
   "outputs": [
    {
     "data": {
      "text/plain": [
       "2034   2010-07-21\n",
       "2033   2010-07-22\n",
       "2032   2010-07-23\n",
       "2031   2010-07-26\n",
       "2030   2010-07-27\n",
       "Name: Date, dtype: datetime64[ns]"
      ]
     },
     "execution_count": 168,
     "metadata": {},
     "output_type": "execute_result"
    }
   ],
   "source": [
    "# Sort Dataframe in date order\n",
    "\n",
    "df.sort_values(by=[\"Date\"], inplace=True, ascending=True)\n",
    "df.Date.head()"
   ]
  },
  {
   "cell_type": "code",
   "execution_count": 169,
   "id": "78ffaec7",
   "metadata": {},
   "outputs": [
    {
     "data": {
      "image/png": "[encoded data removed]",
      "text/plain": [
       "<Figure size 640x480 with 1 Axes>"
      ]
     },
     "metadata": {},
     "output_type": "display_data"
    }
   ],
   "source": [
    "# Let's visualize closing price vs Date... \n",
    "\n",
    "\n",
    "fig, ax = plt.subplots()\n",
    "ax.scatter(df.Date, df.Close);"
   ]
  },
  {
   "cell_type": "code",
   "execution_count": 170,
   "id": "f75b7e01",
   "metadata": {},
   "outputs": [
    {
     "data": {
      "text/html": [
       "<div>\n",
       "<style scoped>\n",
       "    .dataframe tbody tr th:only-of-type {\n",
       "        vertical-align: middle;\n",
       "    }\n",
       "\n",
       "    .dataframe tbody tr th {\n",
       "        vertical-align: top;\n",
       "    }\n",
       "\n",
       "    .dataframe thead th {\n",
       "        text-align: right;\n",
       "    }\n",
       "</style>\n",
       "<table border=\"1\" class=\"dataframe\">\n",
       "  <thead>\n",
       "    <tr style=\"text-align: right;\">\n",
       "      <th></th>\n",
       "      <th>Date</th>\n",
       "      <th>Open</th>\n",
       "      <th>High</th>\n",
       "      <th>Low</th>\n",
       "      <th>Last</th>\n",
       "      <th>Close</th>\n",
       "      <th>Total Trade Quantity</th>\n",
       "      <th>Turnover (Lacs)</th>\n",
       "    </tr>\n",
       "  </thead>\n",
       "  <tbody>\n",
       "    <tr>\n",
       "      <th>2034</th>\n",
       "      <td>2010-07-21</td>\n",
       "      <td>122.10</td>\n",
       "      <td>123.00</td>\n",
       "      <td>121.05</td>\n",
       "      <td>121.10</td>\n",
       "      <td>121.55</td>\n",
       "      <td>658666</td>\n",
       "      <td>803.56</td>\n",
       "    </tr>\n",
       "    <tr>\n",
       "      <th>2033</th>\n",
       "      <td>2010-07-22</td>\n",
       "      <td>120.30</td>\n",
       "      <td>122.00</td>\n",
       "      <td>120.25</td>\n",
       "      <td>120.75</td>\n",
       "      <td>120.90</td>\n",
       "      <td>293312</td>\n",
       "      <td>355.17</td>\n",
       "    </tr>\n",
       "    <tr>\n",
       "      <th>2032</th>\n",
       "      <td>2010-07-23</td>\n",
       "      <td>121.80</td>\n",
       "      <td>121.95</td>\n",
       "      <td>120.25</td>\n",
       "      <td>120.35</td>\n",
       "      <td>120.65</td>\n",
       "      <td>281312</td>\n",
       "      <td>340.31</td>\n",
       "    </tr>\n",
       "    <tr>\n",
       "      <th>2031</th>\n",
       "      <td>2010-07-26</td>\n",
       "      <td>120.10</td>\n",
       "      <td>121.00</td>\n",
       "      <td>117.10</td>\n",
       "      <td>117.10</td>\n",
       "      <td>117.60</td>\n",
       "      <td>658440</td>\n",
       "      <td>780.01</td>\n",
       "    </tr>\n",
       "    <tr>\n",
       "      <th>2030</th>\n",
       "      <td>2010-07-27</td>\n",
       "      <td>117.60</td>\n",
       "      <td>119.50</td>\n",
       "      <td>112.00</td>\n",
       "      <td>118.80</td>\n",
       "      <td>118.65</td>\n",
       "      <td>586100</td>\n",
       "      <td>694.98</td>\n",
       "    </tr>\n",
       "    <tr>\n",
       "      <th>...</th>\n",
       "      <td>...</td>\n",
       "      <td>...</td>\n",
       "      <td>...</td>\n",
       "      <td>...</td>\n",
       "      <td>...</td>\n",
       "      <td>...</td>\n",
       "      <td>...</td>\n",
       "      <td>...</td>\n",
       "    </tr>\n",
       "    <tr>\n",
       "      <th>4</th>\n",
       "      <td>2018-09-24</td>\n",
       "      <td>233.55</td>\n",
       "      <td>239.20</td>\n",
       "      <td>230.75</td>\n",
       "      <td>234.00</td>\n",
       "      <td>233.30</td>\n",
       "      <td>3423509</td>\n",
       "      <td>7999.55</td>\n",
       "    </tr>\n",
       "    <tr>\n",
       "      <th>3</th>\n",
       "      <td>2018-09-25</td>\n",
       "      <td>233.30</td>\n",
       "      <td>236.75</td>\n",
       "      <td>232.00</td>\n",
       "      <td>236.25</td>\n",
       "      <td>236.10</td>\n",
       "      <td>2349368</td>\n",
       "      <td>5503.90</td>\n",
       "    </tr>\n",
       "    <tr>\n",
       "      <th>2</th>\n",
       "      <td>2018-09-26</td>\n",
       "      <td>240.00</td>\n",
       "      <td>240.00</td>\n",
       "      <td>232.50</td>\n",
       "      <td>235.00</td>\n",
       "      <td>234.25</td>\n",
       "      <td>2240909</td>\n",
       "      <td>5248.60</td>\n",
       "    </tr>\n",
       "    <tr>\n",
       "      <th>1</th>\n",
       "      <td>2018-09-27</td>\n",
       "      <td>234.55</td>\n",
       "      <td>236.80</td>\n",
       "      <td>231.10</td>\n",
       "      <td>233.80</td>\n",
       "      <td>233.25</td>\n",
       "      <td>5082859</td>\n",
       "      <td>11859.95</td>\n",
       "    </tr>\n",
       "    <tr>\n",
       "      <th>0</th>\n",
       "      <td>2018-09-28</td>\n",
       "      <td>234.05</td>\n",
       "      <td>235.95</td>\n",
       "      <td>230.20</td>\n",
       "      <td>233.50</td>\n",
       "      <td>233.75</td>\n",
       "      <td>3069914</td>\n",
       "      <td>7162.35</td>\n",
       "    </tr>\n",
       "  </tbody>\n",
       "</table>\n",
       "<p>2035 rows × 8 columns</p>\n",
       "</div>"
      ],
      "text/plain": [
       "           Date    Open    High     Low    Last   Close  Total Trade Quantity  \\\n",
       "2034 2010-07-21  122.10  123.00  121.05  121.10  121.55                658666   \n",
       "2033 2010-07-22  120.30  122.00  120.25  120.75  120.90                293312   \n",
       "2032 2010-07-23  121.80  121.95  120.25  120.35  120.65                281312   \n",
       "2031 2010-07-26  120.10  121.00  117.10  117.10  117.60                658440   \n",
       "2030 2010-07-27  117.60  119.50  112.00  118.80  118.65                586100   \n",
       "...         ...     ...     ...     ...     ...     ...                   ...   \n",
       "4    2018-09-24  233.55  239.20  230.75  234.00  233.30               3423509   \n",
       "3    2018-09-25  233.30  236.75  232.00  236.25  236.10               2349368   \n",
       "2    2018-09-26  240.00  240.00  232.50  235.00  234.25               2240909   \n",
       "1    2018-09-27  234.55  236.80  231.10  233.80  233.25               5082859   \n",
       "0    2018-09-28  234.05  235.95  230.20  233.50  233.75               3069914   \n",
       "\n",
       "      Turnover (Lacs)  \n",
       "2034           803.56  \n",
       "2033           355.17  \n",
       "2032           340.31  \n",
       "2031           780.01  \n",
       "2030           694.98  \n",
       "...               ...  \n",
       "4             7999.55  \n",
       "3             5503.90  \n",
       "2             5248.60  \n",
       "1            11859.95  \n",
       "0             7162.35  \n",
       "\n",
       "[2035 rows x 8 columns]"
      ]
     },
     "execution_count": 170,
     "metadata": {},
     "output_type": "execute_result"
    }
   ],
   "source": [
    "df"
   ]
  },
  {
   "cell_type": "markdown",
   "id": "f08b97b3",
   "metadata": {},
   "source": [
    "### Make a copy of the original DataFrame\n",
    "\n",
    "It is better to save our original database and make unchanged.\n",
    "\n",
    "For changing lets make its copy"
   ]
  },
  {
   "cell_type": "code",
   "execution_count": 171,
   "id": "4103b6c1",
   "metadata": {},
   "outputs": [
    {
     "data": {
      "text/html": [
       "<div>\n",
       "<style scoped>\n",
       "    .dataframe tbody tr th:only-of-type {\n",
       "        vertical-align: middle;\n",
       "    }\n",
       "\n",
       "    .dataframe tbody tr th {\n",
       "        vertical-align: top;\n",
       "    }\n",
       "\n",
       "    .dataframe thead th {\n",
       "        text-align: right;\n",
       "    }\n",
       "</style>\n",
       "<table border=\"1\" class=\"dataframe\">\n",
       "  <thead>\n",
       "    <tr style=\"text-align: right;\">\n",
       "      <th></th>\n",
       "      <th>Date</th>\n",
       "      <th>Open</th>\n",
       "      <th>High</th>\n",
       "      <th>Low</th>\n",
       "      <th>Last</th>\n",
       "      <th>Close</th>\n",
       "      <th>Total Trade Quantity</th>\n",
       "      <th>Turnover (Lacs)</th>\n",
       "    </tr>\n",
       "  </thead>\n",
       "  <tbody>\n",
       "    <tr>\n",
       "      <th>2034</th>\n",
       "      <td>2010-07-21</td>\n",
       "      <td>122.10</td>\n",
       "      <td>123.00</td>\n",
       "      <td>121.05</td>\n",
       "      <td>121.10</td>\n",
       "      <td>121.55</td>\n",
       "      <td>658666</td>\n",
       "      <td>803.56</td>\n",
       "    </tr>\n",
       "    <tr>\n",
       "      <th>2033</th>\n",
       "      <td>2010-07-22</td>\n",
       "      <td>120.30</td>\n",
       "      <td>122.00</td>\n",
       "      <td>120.25</td>\n",
       "      <td>120.75</td>\n",
       "      <td>120.90</td>\n",
       "      <td>293312</td>\n",
       "      <td>355.17</td>\n",
       "    </tr>\n",
       "    <tr>\n",
       "      <th>2032</th>\n",
       "      <td>2010-07-23</td>\n",
       "      <td>121.80</td>\n",
       "      <td>121.95</td>\n",
       "      <td>120.25</td>\n",
       "      <td>120.35</td>\n",
       "      <td>120.65</td>\n",
       "      <td>281312</td>\n",
       "      <td>340.31</td>\n",
       "    </tr>\n",
       "    <tr>\n",
       "      <th>2031</th>\n",
       "      <td>2010-07-26</td>\n",
       "      <td>120.10</td>\n",
       "      <td>121.00</td>\n",
       "      <td>117.10</td>\n",
       "      <td>117.10</td>\n",
       "      <td>117.60</td>\n",
       "      <td>658440</td>\n",
       "      <td>780.01</td>\n",
       "    </tr>\n",
       "    <tr>\n",
       "      <th>2030</th>\n",
       "      <td>2010-07-27</td>\n",
       "      <td>117.60</td>\n",
       "      <td>119.50</td>\n",
       "      <td>112.00</td>\n",
       "      <td>118.80</td>\n",
       "      <td>118.65</td>\n",
       "      <td>586100</td>\n",
       "      <td>694.98</td>\n",
       "    </tr>\n",
       "    <tr>\n",
       "      <th>...</th>\n",
       "      <td>...</td>\n",
       "      <td>...</td>\n",
       "      <td>...</td>\n",
       "      <td>...</td>\n",
       "      <td>...</td>\n",
       "      <td>...</td>\n",
       "      <td>...</td>\n",
       "      <td>...</td>\n",
       "    </tr>\n",
       "    <tr>\n",
       "      <th>4</th>\n",
       "      <td>2018-09-24</td>\n",
       "      <td>233.55</td>\n",
       "      <td>239.20</td>\n",
       "      <td>230.75</td>\n",
       "      <td>234.00</td>\n",
       "      <td>233.30</td>\n",
       "      <td>3423509</td>\n",
       "      <td>7999.55</td>\n",
       "    </tr>\n",
       "    <tr>\n",
       "      <th>3</th>\n",
       "      <td>2018-09-25</td>\n",
       "      <td>233.30</td>\n",
       "      <td>236.75</td>\n",
       "      <td>232.00</td>\n",
       "      <td>236.25</td>\n",
       "      <td>236.10</td>\n",
       "      <td>2349368</td>\n",
       "      <td>5503.90</td>\n",
       "    </tr>\n",
       "    <tr>\n",
       "      <th>2</th>\n",
       "      <td>2018-09-26</td>\n",
       "      <td>240.00</td>\n",
       "      <td>240.00</td>\n",
       "      <td>232.50</td>\n",
       "      <td>235.00</td>\n",
       "      <td>234.25</td>\n",
       "      <td>2240909</td>\n",
       "      <td>5248.60</td>\n",
       "    </tr>\n",
       "    <tr>\n",
       "      <th>1</th>\n",
       "      <td>2018-09-27</td>\n",
       "      <td>234.55</td>\n",
       "      <td>236.80</td>\n",
       "      <td>231.10</td>\n",
       "      <td>233.80</td>\n",
       "      <td>233.25</td>\n",
       "      <td>5082859</td>\n",
       "      <td>11859.95</td>\n",
       "    </tr>\n",
       "    <tr>\n",
       "      <th>0</th>\n",
       "      <td>2018-09-28</td>\n",
       "      <td>234.05</td>\n",
       "      <td>235.95</td>\n",
       "      <td>230.20</td>\n",
       "      <td>233.50</td>\n",
       "      <td>233.75</td>\n",
       "      <td>3069914</td>\n",
       "      <td>7162.35</td>\n",
       "    </tr>\n",
       "  </tbody>\n",
       "</table>\n",
       "<p>2035 rows × 8 columns</p>\n",
       "</div>"
      ],
      "text/plain": [
       "           Date    Open    High     Low    Last   Close  Total Trade Quantity  \\\n",
       "2034 2010-07-21  122.10  123.00  121.05  121.10  121.55                658666   \n",
       "2033 2010-07-22  120.30  122.00  120.25  120.75  120.90                293312   \n",
       "2032 2010-07-23  121.80  121.95  120.25  120.35  120.65                281312   \n",
       "2031 2010-07-26  120.10  121.00  117.10  117.10  117.60                658440   \n",
       "2030 2010-07-27  117.60  119.50  112.00  118.80  118.65                586100   \n",
       "...         ...     ...     ...     ...     ...     ...                   ...   \n",
       "4    2018-09-24  233.55  239.20  230.75  234.00  233.30               3423509   \n",
       "3    2018-09-25  233.30  236.75  232.00  236.25  236.10               2349368   \n",
       "2    2018-09-26  240.00  240.00  232.50  235.00  234.25               2240909   \n",
       "1    2018-09-27  234.55  236.80  231.10  233.80  233.25               5082859   \n",
       "0    2018-09-28  234.05  235.95  230.20  233.50  233.75               3069914   \n",
       "\n",
       "      Turnover (Lacs)  \n",
       "2034           803.56  \n",
       "2033           355.17  \n",
       "2032           340.31  \n",
       "2031           780.01  \n",
       "2030           694.98  \n",
       "...               ...  \n",
       "4             7999.55  \n",
       "3             5503.90  \n",
       "2             5248.60  \n",
       "1            11859.95  \n",
       "0             7162.35  \n",
       "\n",
       "[2035 rows x 8 columns]"
      ]
     },
     "execution_count": 171,
     "metadata": {},
     "output_type": "execute_result"
    }
   ],
   "source": [
    "copy_df = df.copy()\n",
    "copy_df"
   ]
  },
  {
   "cell_type": "code",
   "execution_count": 172,
   "id": "bc3712b2",
   "metadata": {},
   "outputs": [
    {
     "data": {
      "text/html": [
       "<div>\n",
       "<style scoped>\n",
       "    .dataframe tbody tr th:only-of-type {\n",
       "        vertical-align: middle;\n",
       "    }\n",
       "\n",
       "    .dataframe tbody tr th {\n",
       "        vertical-align: top;\n",
       "    }\n",
       "\n",
       "    .dataframe thead th {\n",
       "        text-align: right;\n",
       "    }\n",
       "</style>\n",
       "<table border=\"1\" class=\"dataframe\">\n",
       "  <thead>\n",
       "    <tr style=\"text-align: right;\">\n",
       "      <th></th>\n",
       "      <th>index</th>\n",
       "      <th>Date</th>\n",
       "      <th>Open</th>\n",
       "      <th>High</th>\n",
       "      <th>Low</th>\n",
       "      <th>Last</th>\n",
       "      <th>Close</th>\n",
       "      <th>Total Trade Quantity</th>\n",
       "      <th>Turnover (Lacs)</th>\n",
       "    </tr>\n",
       "  </thead>\n",
       "  <tbody>\n",
       "    <tr>\n",
       "      <th>0</th>\n",
       "      <td>2034</td>\n",
       "      <td>2010-07-21</td>\n",
       "      <td>122.10</td>\n",
       "      <td>123.00</td>\n",
       "      <td>121.05</td>\n",
       "      <td>121.10</td>\n",
       "      <td>121.55</td>\n",
       "      <td>658666</td>\n",
       "      <td>803.56</td>\n",
       "    </tr>\n",
       "    <tr>\n",
       "      <th>1</th>\n",
       "      <td>2033</td>\n",
       "      <td>2010-07-22</td>\n",
       "      <td>120.30</td>\n",
       "      <td>122.00</td>\n",
       "      <td>120.25</td>\n",
       "      <td>120.75</td>\n",
       "      <td>120.90</td>\n",
       "      <td>293312</td>\n",
       "      <td>355.17</td>\n",
       "    </tr>\n",
       "    <tr>\n",
       "      <th>2</th>\n",
       "      <td>2032</td>\n",
       "      <td>2010-07-23</td>\n",
       "      <td>121.80</td>\n",
       "      <td>121.95</td>\n",
       "      <td>120.25</td>\n",
       "      <td>120.35</td>\n",
       "      <td>120.65</td>\n",
       "      <td>281312</td>\n",
       "      <td>340.31</td>\n",
       "    </tr>\n",
       "    <tr>\n",
       "      <th>3</th>\n",
       "      <td>2031</td>\n",
       "      <td>2010-07-26</td>\n",
       "      <td>120.10</td>\n",
       "      <td>121.00</td>\n",
       "      <td>117.10</td>\n",
       "      <td>117.10</td>\n",
       "      <td>117.60</td>\n",
       "      <td>658440</td>\n",
       "      <td>780.01</td>\n",
       "    </tr>\n",
       "    <tr>\n",
       "      <th>4</th>\n",
       "      <td>2030</td>\n",
       "      <td>2010-07-27</td>\n",
       "      <td>117.60</td>\n",
       "      <td>119.50</td>\n",
       "      <td>112.00</td>\n",
       "      <td>118.80</td>\n",
       "      <td>118.65</td>\n",
       "      <td>586100</td>\n",
       "      <td>694.98</td>\n",
       "    </tr>\n",
       "    <tr>\n",
       "      <th>...</th>\n",
       "      <td>...</td>\n",
       "      <td>...</td>\n",
       "      <td>...</td>\n",
       "      <td>...</td>\n",
       "      <td>...</td>\n",
       "      <td>...</td>\n",
       "      <td>...</td>\n",
       "      <td>...</td>\n",
       "      <td>...</td>\n",
       "    </tr>\n",
       "    <tr>\n",
       "      <th>2030</th>\n",
       "      <td>4</td>\n",
       "      <td>2018-09-24</td>\n",
       "      <td>233.55</td>\n",
       "      <td>239.20</td>\n",
       "      <td>230.75</td>\n",
       "      <td>234.00</td>\n",
       "      <td>233.30</td>\n",
       "      <td>3423509</td>\n",
       "      <td>7999.55</td>\n",
       "    </tr>\n",
       "    <tr>\n",
       "      <th>2031</th>\n",
       "      <td>3</td>\n",
       "      <td>2018-09-25</td>\n",
       "      <td>233.30</td>\n",
       "      <td>236.75</td>\n",
       "      <td>232.00</td>\n",
       "      <td>236.25</td>\n",
       "      <td>236.10</td>\n",
       "      <td>2349368</td>\n",
       "      <td>5503.90</td>\n",
       "    </tr>\n",
       "    <tr>\n",
       "      <th>2032</th>\n",
       "      <td>2</td>\n",
       "      <td>2018-09-26</td>\n",
       "      <td>240.00</td>\n",
       "      <td>240.00</td>\n",
       "      <td>232.50</td>\n",
       "      <td>235.00</td>\n",
       "      <td>234.25</td>\n",
       "      <td>2240909</td>\n",
       "      <td>5248.60</td>\n",
       "    </tr>\n",
       "    <tr>\n",
       "      <th>2033</th>\n",
       "      <td>1</td>\n",
       "      <td>2018-09-27</td>\n",
       "      <td>234.55</td>\n",
       "      <td>236.80</td>\n",
       "      <td>231.10</td>\n",
       "      <td>233.80</td>\n",
       "      <td>233.25</td>\n",
       "      <td>5082859</td>\n",
       "      <td>11859.95</td>\n",
       "    </tr>\n",
       "    <tr>\n",
       "      <th>2034</th>\n",
       "      <td>0</td>\n",
       "      <td>2018-09-28</td>\n",
       "      <td>234.05</td>\n",
       "      <td>235.95</td>\n",
       "      <td>230.20</td>\n",
       "      <td>233.50</td>\n",
       "      <td>233.75</td>\n",
       "      <td>3069914</td>\n",
       "      <td>7162.35</td>\n",
       "    </tr>\n",
       "  </tbody>\n",
       "</table>\n",
       "<p>2035 rows × 9 columns</p>\n",
       "</div>"
      ],
      "text/plain": [
       "      index       Date    Open    High     Low    Last   Close  \\\n",
       "0      2034 2010-07-21  122.10  123.00  121.05  121.10  121.55   \n",
       "1      2033 2010-07-22  120.30  122.00  120.25  120.75  120.90   \n",
       "2      2032 2010-07-23  121.80  121.95  120.25  120.35  120.65   \n",
       "3      2031 2010-07-26  120.10  121.00  117.10  117.10  117.60   \n",
       "4      2030 2010-07-27  117.60  119.50  112.00  118.80  118.65   \n",
       "...     ...        ...     ...     ...     ...     ...     ...   \n",
       "2030      4 2018-09-24  233.55  239.20  230.75  234.00  233.30   \n",
       "2031      3 2018-09-25  233.30  236.75  232.00  236.25  236.10   \n",
       "2032      2 2018-09-26  240.00  240.00  232.50  235.00  234.25   \n",
       "2033      1 2018-09-27  234.55  236.80  231.10  233.80  233.25   \n",
       "2034      0 2018-09-28  234.05  235.95  230.20  233.50  233.75   \n",
       "\n",
       "      Total Trade Quantity  Turnover (Lacs)  \n",
       "0                   658666           803.56  \n",
       "1                   293312           355.17  \n",
       "2                   281312           340.31  \n",
       "3                   658440           780.01  \n",
       "4                   586100           694.98  \n",
       "...                    ...              ...  \n",
       "2030               3423509          7999.55  \n",
       "2031               2349368          5503.90  \n",
       "2032               2240909          5248.60  \n",
       "2033               5082859         11859.95  \n",
       "2034               3069914          7162.35  \n",
       "\n",
       "[2035 rows x 9 columns]"
      ]
     },
     "execution_count": 172,
     "metadata": {},
     "output_type": "execute_result"
    }
   ],
   "source": [
    "copy_df.reset_index(inplace =True)\n",
    "copy_df"
   ]
  },
  {
   "cell_type": "code",
   "execution_count": 173,
   "id": "a4540c2e",
   "metadata": {},
   "outputs": [],
   "source": [
    "copy_df.drop(\"index\", axis=1, inplace=True)"
   ]
  },
  {
   "cell_type": "code",
   "execution_count": 174,
   "id": "5a854aee",
   "metadata": {},
   "outputs": [
    {
     "data": {
      "text/html": [
       "<div>\n",
       "<style scoped>\n",
       "    .dataframe tbody tr th:only-of-type {\n",
       "        vertical-align: middle;\n",
       "    }\n",
       "\n",
       "    .dataframe tbody tr th {\n",
       "        vertical-align: top;\n",
       "    }\n",
       "\n",
       "    .dataframe thead th {\n",
       "        text-align: right;\n",
       "    }\n",
       "</style>\n",
       "<table border=\"1\" class=\"dataframe\">\n",
       "  <thead>\n",
       "    <tr style=\"text-align: right;\">\n",
       "      <th></th>\n",
       "      <th>Date</th>\n",
       "      <th>Open</th>\n",
       "      <th>High</th>\n",
       "      <th>Low</th>\n",
       "      <th>Last</th>\n",
       "      <th>Close</th>\n",
       "      <th>Total Trade Quantity</th>\n",
       "      <th>Turnover (Lacs)</th>\n",
       "    </tr>\n",
       "  </thead>\n",
       "  <tbody>\n",
       "    <tr>\n",
       "      <th>0</th>\n",
       "      <td>2010-07-21</td>\n",
       "      <td>122.10</td>\n",
       "      <td>123.00</td>\n",
       "      <td>121.05</td>\n",
       "      <td>121.10</td>\n",
       "      <td>121.55</td>\n",
       "      <td>658666</td>\n",
       "      <td>803.56</td>\n",
       "    </tr>\n",
       "    <tr>\n",
       "      <th>1</th>\n",
       "      <td>2010-07-22</td>\n",
       "      <td>120.30</td>\n",
       "      <td>122.00</td>\n",
       "      <td>120.25</td>\n",
       "      <td>120.75</td>\n",
       "      <td>120.90</td>\n",
       "      <td>293312</td>\n",
       "      <td>355.17</td>\n",
       "    </tr>\n",
       "    <tr>\n",
       "      <th>2</th>\n",
       "      <td>2010-07-23</td>\n",
       "      <td>121.80</td>\n",
       "      <td>121.95</td>\n",
       "      <td>120.25</td>\n",
       "      <td>120.35</td>\n",
       "      <td>120.65</td>\n",
       "      <td>281312</td>\n",
       "      <td>340.31</td>\n",
       "    </tr>\n",
       "    <tr>\n",
       "      <th>3</th>\n",
       "      <td>2010-07-26</td>\n",
       "      <td>120.10</td>\n",
       "      <td>121.00</td>\n",
       "      <td>117.10</td>\n",
       "      <td>117.10</td>\n",
       "      <td>117.60</td>\n",
       "      <td>658440</td>\n",
       "      <td>780.01</td>\n",
       "    </tr>\n",
       "    <tr>\n",
       "      <th>4</th>\n",
       "      <td>2010-07-27</td>\n",
       "      <td>117.60</td>\n",
       "      <td>119.50</td>\n",
       "      <td>112.00</td>\n",
       "      <td>118.80</td>\n",
       "      <td>118.65</td>\n",
       "      <td>586100</td>\n",
       "      <td>694.98</td>\n",
       "    </tr>\n",
       "    <tr>\n",
       "      <th>...</th>\n",
       "      <td>...</td>\n",
       "      <td>...</td>\n",
       "      <td>...</td>\n",
       "      <td>...</td>\n",
       "      <td>...</td>\n",
       "      <td>...</td>\n",
       "      <td>...</td>\n",
       "      <td>...</td>\n",
       "    </tr>\n",
       "    <tr>\n",
       "      <th>2030</th>\n",
       "      <td>2018-09-24</td>\n",
       "      <td>233.55</td>\n",
       "      <td>239.20</td>\n",
       "      <td>230.75</td>\n",
       "      <td>234.00</td>\n",
       "      <td>233.30</td>\n",
       "      <td>3423509</td>\n",
       "      <td>7999.55</td>\n",
       "    </tr>\n",
       "    <tr>\n",
       "      <th>2031</th>\n",
       "      <td>2018-09-25</td>\n",
       "      <td>233.30</td>\n",
       "      <td>236.75</td>\n",
       "      <td>232.00</td>\n",
       "      <td>236.25</td>\n",
       "      <td>236.10</td>\n",
       "      <td>2349368</td>\n",
       "      <td>5503.90</td>\n",
       "    </tr>\n",
       "    <tr>\n",
       "      <th>2032</th>\n",
       "      <td>2018-09-26</td>\n",
       "      <td>240.00</td>\n",
       "      <td>240.00</td>\n",
       "      <td>232.50</td>\n",
       "      <td>235.00</td>\n",
       "      <td>234.25</td>\n",
       "      <td>2240909</td>\n",
       "      <td>5248.60</td>\n",
       "    </tr>\n",
       "    <tr>\n",
       "      <th>2033</th>\n",
       "      <td>2018-09-27</td>\n",
       "      <td>234.55</td>\n",
       "      <td>236.80</td>\n",
       "      <td>231.10</td>\n",
       "      <td>233.80</td>\n",
       "      <td>233.25</td>\n",
       "      <td>5082859</td>\n",
       "      <td>11859.95</td>\n",
       "    </tr>\n",
       "    <tr>\n",
       "      <th>2034</th>\n",
       "      <td>2018-09-28</td>\n",
       "      <td>234.05</td>\n",
       "      <td>235.95</td>\n",
       "      <td>230.20</td>\n",
       "      <td>233.50</td>\n",
       "      <td>233.75</td>\n",
       "      <td>3069914</td>\n",
       "      <td>7162.35</td>\n",
       "    </tr>\n",
       "  </tbody>\n",
       "</table>\n",
       "<p>2035 rows × 8 columns</p>\n",
       "</div>"
      ],
      "text/plain": [
       "           Date    Open    High     Low    Last   Close  Total Trade Quantity  \\\n",
       "0    2010-07-21  122.10  123.00  121.05  121.10  121.55                658666   \n",
       "1    2010-07-22  120.30  122.00  120.25  120.75  120.90                293312   \n",
       "2    2010-07-23  121.80  121.95  120.25  120.35  120.65                281312   \n",
       "3    2010-07-26  120.10  121.00  117.10  117.10  117.60                658440   \n",
       "4    2010-07-27  117.60  119.50  112.00  118.80  118.65                586100   \n",
       "...         ...     ...     ...     ...     ...     ...                   ...   \n",
       "2030 2018-09-24  233.55  239.20  230.75  234.00  233.30               3423509   \n",
       "2031 2018-09-25  233.30  236.75  232.00  236.25  236.10               2349368   \n",
       "2032 2018-09-26  240.00  240.00  232.50  235.00  234.25               2240909   \n",
       "2033 2018-09-27  234.55  236.80  231.10  233.80  233.25               5082859   \n",
       "2034 2018-09-28  234.05  235.95  230.20  233.50  233.75               3069914   \n",
       "\n",
       "      Turnover (Lacs)  \n",
       "0              803.56  \n",
       "1              355.17  \n",
       "2              340.31  \n",
       "3              780.01  \n",
       "4              694.98  \n",
       "...               ...  \n",
       "2030          7999.55  \n",
       "2031          5503.90  \n",
       "2032          5248.60  \n",
       "2033         11859.95  \n",
       "2034          7162.35  \n",
       "\n",
       "[2035 rows x 8 columns]"
      ]
     },
     "execution_count": 174,
     "metadata": {},
     "output_type": "execute_result"
    }
   ],
   "source": [
    "copy_df"
   ]
  },
  {
   "cell_type": "code",
   "execution_count": 175,
   "id": "d0c48f84",
   "metadata": {},
   "outputs": [
    {
     "data": {
      "text/html": [
       "<div>\n",
       "<style scoped>\n",
       "    .dataframe tbody tr th:only-of-type {\n",
       "        vertical-align: middle;\n",
       "    }\n",
       "\n",
       "    .dataframe tbody tr th {\n",
       "        vertical-align: top;\n",
       "    }\n",
       "\n",
       "    .dataframe thead th {\n",
       "        text-align: right;\n",
       "    }\n",
       "</style>\n",
       "<table border=\"1\" class=\"dataframe\">\n",
       "  <thead>\n",
       "    <tr style=\"text-align: right;\">\n",
       "      <th></th>\n",
       "      <th>Open</th>\n",
       "      <th>High</th>\n",
       "      <th>Low</th>\n",
       "      <th>Last</th>\n",
       "      <th>Close</th>\n",
       "      <th>Total Trade Quantity</th>\n",
       "      <th>Turnover (Lacs)</th>\n",
       "    </tr>\n",
       "  </thead>\n",
       "  <tbody>\n",
       "    <tr>\n",
       "      <th>Open</th>\n",
       "      <td>1.000000</td>\n",
       "      <td>0.999015</td>\n",
       "      <td>0.998825</td>\n",
       "      <td>0.997781</td>\n",
       "      <td>0.997840</td>\n",
       "      <td>0.385951</td>\n",
       "      <td>0.612877</td>\n",
       "    </tr>\n",
       "    <tr>\n",
       "      <th>High</th>\n",
       "      <td>0.999015</td>\n",
       "      <td>1.000000</td>\n",
       "      <td>0.998773</td>\n",
       "      <td>0.999155</td>\n",
       "      <td>0.999194</td>\n",
       "      <td>0.406405</td>\n",
       "      <td>0.630589</td>\n",
       "    </tr>\n",
       "    <tr>\n",
       "      <th>Low</th>\n",
       "      <td>0.998825</td>\n",
       "      <td>0.998773</td>\n",
       "      <td>1.000000</td>\n",
       "      <td>0.999051</td>\n",
       "      <td>0.999119</td>\n",
       "      <td>0.380621</td>\n",
       "      <td>0.608502</td>\n",
       "    </tr>\n",
       "    <tr>\n",
       "      <th>Last</th>\n",
       "      <td>0.997781</td>\n",
       "      <td>0.999155</td>\n",
       "      <td>0.999051</td>\n",
       "      <td>1.000000</td>\n",
       "      <td>0.999961</td>\n",
       "      <td>0.399328</td>\n",
       "      <td>0.624584</td>\n",
       "    </tr>\n",
       "    <tr>\n",
       "      <th>Close</th>\n",
       "      <td>0.997840</td>\n",
       "      <td>0.999194</td>\n",
       "      <td>0.999119</td>\n",
       "      <td>0.999961</td>\n",
       "      <td>1.000000</td>\n",
       "      <td>0.398911</td>\n",
       "      <td>0.624213</td>\n",
       "    </tr>\n",
       "    <tr>\n",
       "      <th>Total Trade Quantity</th>\n",
       "      <td>0.385951</td>\n",
       "      <td>0.406405</td>\n",
       "      <td>0.380621</td>\n",
       "      <td>0.399328</td>\n",
       "      <td>0.398911</td>\n",
       "      <td>1.000000</td>\n",
       "      <td>0.926931</td>\n",
       "    </tr>\n",
       "    <tr>\n",
       "      <th>Turnover (Lacs)</th>\n",
       "      <td>0.612877</td>\n",
       "      <td>0.630589</td>\n",
       "      <td>0.608502</td>\n",
       "      <td>0.624584</td>\n",
       "      <td>0.624213</td>\n",
       "      <td>0.926931</td>\n",
       "      <td>1.000000</td>\n",
       "    </tr>\n",
       "  </tbody>\n",
       "</table>\n",
       "</div>"
      ],
      "text/plain": [
       "                          Open      High       Low      Last     Close  \\\n",
       "Open                  1.000000  0.999015  0.998825  0.997781  0.997840   \n",
       "High                  0.999015  1.000000  0.998773  0.999155  0.999194   \n",
       "Low                   0.998825  0.998773  1.000000  0.999051  0.999119   \n",
       "Last                  0.997781  0.999155  0.999051  1.000000  0.999961   \n",
       "Close                 0.997840  0.999194  0.999119  0.999961  1.000000   \n",
       "Total Trade Quantity  0.385951  0.406405  0.380621  0.399328  0.398911   \n",
       "Turnover (Lacs)       0.612877  0.630589  0.608502  0.624584  0.624213   \n",
       "\n",
       "                      Total Trade Quantity  Turnover (Lacs)  \n",
       "Open                              0.385951         0.612877  \n",
       "High                              0.406405         0.630589  \n",
       "Low                               0.380621         0.608502  \n",
       "Last                              0.399328         0.624584  \n",
       "Close                             0.398911         0.624213  \n",
       "Total Trade Quantity              1.000000         0.926931  \n",
       "Turnover (Lacs)                   0.926931         1.000000  "
      ]
     },
     "execution_count": 175,
     "metadata": {},
     "output_type": "execute_result"
    }
   ],
   "source": [
    "# Let's see correlation matrix...\n",
    "copy_df.corr()"
   ]
  },
  {
   "cell_type": "code",
   "execution_count": 176,
   "id": "3555ba44",
   "metadata": {},
   "outputs": [
    {
     "data": {
      "image/png": "[encoded data removed]",
      "text/plain": [
       "<Figure size 1000x700 with 1 Axes>"
      ]
     },
     "metadata": {},
     "output_type": "display_data"
    }
   ],
   "source": [
    "plt.figure(figsize=(10,7))\n",
    "plt.plot(copy_df[\"Date\"],\n",
    "         copy_df[\"Close\"])\n",
    "plt.xlabel(\"Date\")\n",
    "plt.ylabel(\"Closed Price\");\n",
    "plt.title(\"Variation of Closing price with different Date year\",\n",
    "          color=\"orange\",\n",
    "          fontsize=18);"
   ]
  },
  {
   "cell_type": "markdown",
   "id": "f3c6b21e",
   "metadata": {},
   "source": [
    "## `Step-3:` Applying univariate approch by selecting Closing Price as target variables."
   ]
  },
  {
   "cell_type": "markdown",
   "id": "66f37d61",
   "metadata": {},
   "source": [
    "### Univariate Analysis of Closing Price\n",
    "\n",
    "For this task, i am just doing univariate analysis of Closing Price using Stacked LSTM and just taking close attribute from our dataset"
   ]
  },
  {
   "cell_type": "code",
   "execution_count": 177,
   "id": "bceea047",
   "metadata": {},
   "outputs": [
    {
     "data": {
      "text/plain": [
       "0       121.55\n",
       "1       120.90\n",
       "2       120.65\n",
       "3       117.60\n",
       "4       118.65\n",
       "         ...  \n",
       "2030    233.30\n",
       "2031    236.10\n",
       "2032    234.25\n",
       "2033    233.25\n",
       "2034    233.75\n",
       "Name: Close, Length: 2035, dtype: float64"
      ]
     },
     "execution_count": 177,
     "metadata": {},
     "output_type": "execute_result"
    }
   ],
   "source": [
    "# Considering only `Close` variable...\n",
    "\n",
    "close_df = copy_df[\"Close\"]\n",
    "close_df"
   ]
  },
  {
   "cell_type": "markdown",
   "id": "ee65d0a3",
   "metadata": {},
   "source": [
    "## `Step-4:` Exploration and Analysis of Datasets."
   ]
  },
  {
   "cell_type": "code",
   "execution_count": 178,
   "id": "a472271a",
   "metadata": {},
   "outputs": [
    {
     "data": {
      "text/plain": [
       "2035"
      ]
     },
     "execution_count": 178,
     "metadata": {},
     "output_type": "execute_result"
    }
   ],
   "source": [
    "close_df.size"
   ]
  },
  {
   "cell_type": "code",
   "execution_count": 179,
   "id": "78036dd4",
   "metadata": {},
   "outputs": [
    {
     "data": {
      "text/plain": [
       "(2035,)"
      ]
     },
     "execution_count": 179,
     "metadata": {},
     "output_type": "execute_result"
    }
   ],
   "source": [
    "close_df.shape"
   ]
  },
  {
   "cell_type": "code",
   "execution_count": 180,
   "id": "1044696a",
   "metadata": {},
   "outputs": [
    {
     "name": "stdout",
     "output_type": "stream",
     "text": [
      "<class 'pandas.core.series.Series'>\n",
      "RangeIndex: 2035 entries, 0 to 2034\n",
      "Series name: Close\n",
      "Non-Null Count  Dtype  \n",
      "--------------  -----  \n",
      "2035 non-null   float64\n",
      "dtypes: float64(1)\n",
      "memory usage: 16.0 KB\n"
     ]
    }
   ],
   "source": [
    "close_df.info()"
   ]
  },
  {
   "cell_type": "code",
   "execution_count": 181,
   "id": "c7efe5b7",
   "metadata": {},
   "outputs": [
    {
     "data": {
      "text/plain": [
       "count    2035.00000\n",
       "mean      149.45027\n",
       "std        48.71204\n",
       "min        80.95000\n",
       "25%       120.05000\n",
       "50%       141.25000\n",
       "75%       156.90000\n",
       "max       325.75000\n",
       "Name: Close, dtype: float64"
      ]
     },
     "execution_count": 181,
     "metadata": {},
     "output_type": "execute_result"
    }
   ],
   "source": [
    "close_df.describe()"
   ]
  },
  {
   "cell_type": "code",
   "execution_count": 182,
   "id": "5b8b8e63",
   "metadata": {},
   "outputs": [
    {
     "data": {
      "image/png": "[encoded data removed]",
      "text/plain": [
       "<Figure size 640x480 with 1 Axes>"
      ]
     },
     "metadata": {},
     "output_type": "display_data"
    }
   ],
   "source": [
    "plt.plot(copy_df.Date, close_df)\n",
    "plt.xlabel(\"Time in Year\")\n",
    "plt.ylabel(\"Closing Price\");\n",
    "plt.title(\"Variation of Closing price with Time\",\n",
    "          color=\"orange\",\n",
    "          fontsize=18);"
   ]
  },
  {
   "cell_type": "markdown",
   "id": "71a655c0",
   "metadata": {},
   "source": [
    "## `Step-5:` Preprocessing by MinMax Scaler.\n",
    "\n",
    "### LSTM is very sensitive to small change in value and so to the scale of the data. Thus, using `MinMax Scaler`, we scale it in the range of [0,1]"
   ]
  },
  {
   "cell_type": "code",
   "execution_count": 183,
   "id": "b5033eb4",
   "metadata": {},
   "outputs": [
    {
     "data": {
      "text/plain": [
       "array([[0.16584967],\n",
       "       [0.16319444],\n",
       "       [0.1621732 ],\n",
       "       ...,\n",
       "       [0.62622549],\n",
       "       [0.62214052],\n",
       "       [0.62418301]])"
      ]
     },
     "execution_count": 183,
     "metadata": {},
     "output_type": "execute_result"
    }
   ],
   "source": [
    "from sklearn.preprocessing import MinMaxScaler\n",
    "\n",
    "minmax = MinMaxScaler(feature_range=(0,1)) # (0,1) by default.But mentioned for understanding\n",
    "close_df = minmax.fit_transform(np.array(close_df).reshape(-1, 1))\n",
    "close_df"
   ]
  },
  {
   "cell_type": "markdown",
   "id": "3afba642",
   "metadata": {},
   "source": [
    "## `Step-6:` Preparing train and test datasets.\n",
    "\n",
    "We normally split dataset using `train_test_split()` or Cross validation\n",
    "\n",
    "but for `Time Series Datasets`, we split manually in such a way that train datasets must have oldest data than that of test dataset"
   ]
  },
  {
   "cell_type": "code",
   "execution_count": 184,
   "id": "d650103b",
   "metadata": {},
   "outputs": [],
   "source": [
    "train_size = int(len(close_df)*0.7)\n",
    "test_size = len(close_df) - train_size\n",
    "train_data = close_df[:train_size, :] # Slicing row from 0 to train_size indexlocation but column is kept unsliced.\n",
    "test_data = close_df[train_size:len(close_df), :1]"
   ]
  },
  {
   "cell_type": "code",
   "execution_count": 185,
   "id": "66593ae7",
   "metadata": {},
   "outputs": [
    {
     "data": {
      "text/plain": [
       "(1424, 1)"
      ]
     },
     "execution_count": 185,
     "metadata": {},
     "output_type": "execute_result"
    }
   ],
   "source": [
    "train_data.shape"
   ]
  },
  {
   "cell_type": "code",
   "execution_count": 186,
   "id": "2adbff41",
   "metadata": {},
   "outputs": [
    {
     "data": {
      "text/plain": [
       "(611, 1)"
      ]
     },
     "execution_count": 186,
     "metadata": {},
     "output_type": "execute_result"
    }
   ],
   "source": [
    "test_data.shape"
   ]
  },
  {
   "cell_type": "code",
   "execution_count": 187,
   "id": "50391408",
   "metadata": {},
   "outputs": [
    {
     "data": {
      "text/plain": [
       "2035"
      ]
     },
     "execution_count": 187,
     "metadata": {},
     "output_type": "execute_result"
    }
   ],
   "source": [
    "1424 + 611"
   ]
  },
  {
   "cell_type": "code",
   "execution_count": 188,
   "id": "9a9b0926",
   "metadata": {},
   "outputs": [
    {
     "data": {
      "text/plain": [
       "array([[0.1621732 ],\n",
       "       [0.15951797],\n",
       "       [0.16707516],\n",
       "       [0.15992647],\n",
       "       [0.16053922],\n",
       "       [0.16441993],\n",
       "       [0.16687092],\n",
       "       [0.1693219 ],\n",
       "       [0.16074346],\n",
       "       [0.15972222],\n",
       "       [0.16401144],\n",
       "       [0.15727124],\n",
       "       [0.14705882],\n",
       "       [0.14460784],\n",
       "       [0.15175654],\n",
       "       [0.15441176],\n",
       "       [0.15216503],\n",
       "       [0.14848856],\n",
       "       [0.15522876],\n",
       "       [0.15767974],\n",
       "       [0.1621732 ],\n",
       "       [0.16094771],\n",
       "       [0.16339869],\n",
       "       [0.15931373],\n",
       "       [0.15972222],\n",
       "       [0.16115196],\n",
       "       [0.16666667],\n",
       "       [0.15747549],\n",
       "       [0.15379902],\n",
       "       [0.14848856],\n",
       "       [0.15114379],\n",
       "       [0.1503268 ],\n",
       "       [0.15155229],\n",
       "       [0.15645425],\n",
       "       [0.16033497],\n",
       "       [0.1566585 ],\n",
       "       [0.15686275],\n",
       "       [0.17749183],\n",
       "       [0.17973856],\n",
       "       [0.1744281 ],\n",
       "       [0.19281046],\n",
       "       [0.18607026],\n",
       "       [0.18811275],\n",
       "       [0.18443627],\n",
       "       [0.18280229],\n",
       "       [0.18464052],\n",
       "       [0.18178105],\n",
       "       [0.18913399],\n",
       "       [0.1870915 ],\n",
       "       [0.17687908],\n",
       "       [0.18382353],\n",
       "       [0.19158497],\n",
       "       [0.19914216],\n",
       "       [0.20526961],\n",
       "       [0.22038399],\n",
       "       [0.21711601],\n",
       "       [0.21629902],\n",
       "       [0.21854575],\n",
       "       [0.21098856],\n",
       "       [0.21303105],\n",
       "       [0.21221405],\n",
       "       [0.20915033],\n",
       "       [0.21098856],\n",
       "       [0.21098856],\n",
       "       [0.2001634 ],\n",
       "       [0.2005719 ],\n",
       "       [0.21609477],\n",
       "       [0.20772059],\n",
       "       [0.2064951 ],\n",
       "       [0.21446078],\n",
       "       [0.20506536],\n",
       "       [0.23080065],\n",
       "       [0.24183007],\n",
       "       [0.25      ],\n",
       "       [0.24530229],\n",
       "       [0.23468137],\n",
       "       [0.22385621],\n",
       "       [0.23427288],\n",
       "       [0.23754085],\n",
       "       [0.25306373],\n",
       "       [0.25449346],\n",
       "       [0.23202614],\n",
       "       [0.23018791],\n",
       "       [0.22875817],\n",
       "       [0.23325163],\n",
       "       [0.23161765],\n",
       "       [0.23651961],\n",
       "       [0.24632353],\n",
       "       [0.23468137],\n",
       "       [0.23958333],\n",
       "       [0.24223856],\n",
       "       [0.24305556],\n",
       "       [0.24080882],\n",
       "       [0.23713235],\n",
       "       [0.24203431],\n",
       "       [0.24223856],\n",
       "       [0.24571078],\n",
       "       [0.24775327],\n",
       "       [0.24836601],\n",
       "       [0.25020425],\n",
       "       [0.25020425],\n",
       "       [0.23999183],\n",
       "       [0.22201797],\n",
       "       [0.23080065],\n",
       "       [0.22896242],\n",
       "       [0.24060458],\n",
       "       [0.24080882],\n",
       "       [0.23304739],\n",
       "       [0.23325163],\n",
       "       [0.23672386],\n",
       "       [0.25102124],\n",
       "       [0.24387255],\n",
       "       [0.25980392],\n",
       "       [0.26879085],\n",
       "       [0.22896242],\n",
       "       [0.23958333],\n",
       "       [0.25081699],\n",
       "       [0.24857026],\n",
       "       [0.29554739],\n",
       "       [0.28574346],\n",
       "       [0.2871732 ],\n",
       "       [0.28880719],\n",
       "       [0.27328431],\n",
       "       [0.29513889],\n",
       "       [0.28308824],\n",
       "       [0.28982843],\n",
       "       [0.30085784],\n",
       "       [0.29166667],\n",
       "       [0.29227941],\n",
       "       [0.29861111],\n",
       "       [0.28206699],\n",
       "       [0.26327614],\n",
       "       [0.23202614],\n",
       "       [0.24101307],\n",
       "       [0.23876634],\n",
       "       [0.23549837],\n",
       "       [0.22058824],\n",
       "       [0.20588235],\n",
       "       [0.1875    ],\n",
       "       [0.19219771],\n",
       "       [0.18995098],\n",
       "       [0.16727941],\n",
       "       [0.1815768 ],\n",
       "       [0.15400327],\n",
       "       [0.14726307],\n",
       "       [0.16482843],\n",
       "       [0.15379902],\n",
       "       [0.15992647],\n",
       "       [0.14174837],\n",
       "       [0.14848856],\n",
       "       [0.1499183 ],\n",
       "       [0.13950163],\n",
       "       [0.15339052],\n",
       "       [0.16339869],\n",
       "       [0.16748366],\n",
       "       [0.1752451 ],\n",
       "       [0.16727941],\n",
       "       [0.16584967],\n",
       "       [0.1744281 ],\n",
       "       [0.17340686],\n",
       "       [0.1689134 ],\n",
       "       [0.1752451 ],\n",
       "       [0.17544935],\n",
       "       [0.17320261],\n",
       "       [0.17320261],\n",
       "       [0.17075163],\n",
       "       [0.17769608],\n",
       "       [0.17708333],\n",
       "       [0.17708333],\n",
       "       [0.16462418],\n",
       "       [0.16605392],\n",
       "       [0.15706699],\n",
       "       [0.15482026],\n",
       "       [0.14726307],\n",
       "       [0.16176471],\n",
       "       [0.15788399],\n",
       "       [0.16401144],\n",
       "       [0.16768791],\n",
       "       [0.17401961],\n",
       "       [0.17769608],\n",
       "       [0.17769608],\n",
       "       [0.1807598 ],\n",
       "       [0.17851307],\n",
       "       [0.17892157],\n",
       "       [0.17769608],\n",
       "       [0.19035948],\n",
       "       [0.18055556],\n",
       "       [0.19362745],\n",
       "       [0.19076797],\n",
       "       [0.19056373],\n",
       "       [0.19485294],\n",
       "       [0.20241013],\n",
       "       [0.18566176],\n",
       "       [0.19178922],\n",
       "       [0.19403595],\n",
       "       [0.19362745],\n",
       "       [0.19709967],\n",
       "       [0.20220588],\n",
       "       [0.19566993],\n",
       "       [0.20077614],\n",
       "       [0.23161765],\n",
       "       [0.24877451],\n",
       "       [0.25245098],\n",
       "       [0.24795752],\n",
       "       [0.26633987],\n",
       "       [0.25714869],\n",
       "       [0.25735294],\n",
       "       [0.24918301],\n",
       "       [0.24611928],\n",
       "       [0.23611111],\n",
       "       [0.24162582],\n",
       "       [0.24183007],\n",
       "       [0.24775327],\n",
       "       [0.24775327],\n",
       "       [0.24121732],\n",
       "       [0.23815359],\n",
       "       [0.23672386],\n",
       "       [0.23325163],\n",
       "       [0.2559232 ],\n",
       "       [0.24571078],\n",
       "       [0.25490196],\n",
       "       [0.25449346],\n",
       "       [0.25245098],\n",
       "       [0.24693627],\n",
       "       [0.24448529],\n",
       "       [0.22937092],\n",
       "       [0.23917484],\n",
       "       [0.24489379],\n",
       "       [0.26041667],\n",
       "       [0.26082516],\n",
       "       [0.26756536],\n",
       "       [0.26531863],\n",
       "       [0.25388072],\n",
       "       [0.28860294],\n",
       "       [0.28676471],\n",
       "       [0.27634804],\n",
       "       [0.28431373],\n",
       "       [0.28451797],\n",
       "       [0.28267974],\n",
       "       [0.28431373],\n",
       "       [0.28982843],\n",
       "       [0.29289216],\n",
       "       [0.29452614],\n",
       "       [0.28451797],\n",
       "       [0.28594771],\n",
       "       [0.29595588],\n",
       "       [0.28921569],\n",
       "       [0.28410948],\n",
       "       [0.27982026],\n",
       "       [0.2745098 ],\n",
       "       [0.28288399],\n",
       "       [0.29084967],\n",
       "       [0.28737745],\n",
       "       [0.29003268],\n",
       "       [0.28901144],\n",
       "       [0.29738562],\n",
       "       [0.29064542],\n",
       "       [0.29473039],\n",
       "       [0.31352124],\n",
       "       [0.30739379],\n",
       "       [0.30392157],\n",
       "       [0.29146242],\n",
       "       [0.29268791],\n",
       "       [0.29861111],\n",
       "       [0.30187908],\n",
       "       [0.29840686],\n",
       "       [0.29289216],\n",
       "       [0.30085784],\n",
       "       [0.3002451 ],\n",
       "       [0.29370915],\n",
       "       [0.27185458],\n",
       "       [0.28002451],\n",
       "       [0.27308007],\n",
       "       [0.26062092],\n",
       "       [0.24816176],\n",
       "       [0.25367647],\n",
       "       [0.26940359],\n",
       "       [0.26327614],\n",
       "       [0.26388889],\n",
       "       [0.27961601],\n",
       "       [0.29187092],\n",
       "       [0.30187908],\n",
       "       [0.30228758],\n",
       "       [0.2943219 ],\n",
       "       [0.30473856],\n",
       "       [0.30085784],\n",
       "       [0.30004085],\n",
       "       [0.29064542],\n",
       "       [0.30841503],\n",
       "       [0.31658497],\n",
       "       [0.3192402 ],\n",
       "       [0.31556373],\n",
       "       [0.30821078],\n",
       "       [0.31004902],\n",
       "       [0.30984477],\n",
       "       [0.30147059],\n",
       "       [0.28676471],\n",
       "       [0.27124183],\n",
       "       [0.27859477],\n",
       "       [0.27593954],\n",
       "       [0.28472222],\n",
       "       [0.28860294],\n",
       "       [0.28227124],\n",
       "       [0.30718954],\n",
       "       [0.29575163],\n",
       "       [0.31372549],\n",
       "       [0.3496732 ],\n",
       "       [0.36172386],\n",
       "       [0.37908497],\n",
       "       [0.38582516],\n",
       "       [0.3809232 ],\n",
       "       [0.39236111],\n",
       "       [0.37908497],\n",
       "       [0.38480392],\n",
       "       [0.3690768 ],\n",
       "       [0.37275327],\n",
       "       [0.36376634],\n",
       "       [0.36846405],\n",
       "       [0.37275327],\n",
       "       [0.35723039],\n",
       "       [0.36029412],\n",
       "       [0.3619281 ],\n",
       "       [0.35355392],\n",
       "       [0.34375   ],\n",
       "       [0.3500817 ],\n",
       "       [0.34926471],\n",
       "       [0.36560458],\n",
       "       [0.34742647],\n",
       "       [0.3314951 ],\n",
       "       [0.3065768 ],\n",
       "       [0.34007353],\n",
       "       [0.3995098 ],\n",
       "       [0.46119281],\n",
       "       [0.44791667],\n",
       "       [0.46343954],\n",
       "       [0.47058824],\n",
       "       [0.44485294],\n",
       "       [0.47222222],\n",
       "       [0.4628268 ],\n",
       "       [0.45894608],\n",
       "       [0.44689542],\n",
       "       [0.47426471],\n",
       "       [0.47814542],\n",
       "       [0.47651144],\n",
       "       [0.45894608],\n",
       "       [0.47283497],\n",
       "       [0.51062092],\n",
       "       [0.50980392],\n",
       "       [0.51450163],\n",
       "       [0.52410131],\n",
       "       [0.53553922],\n",
       "       [0.51613562],\n",
       "       [0.53553922],\n",
       "       [0.52941176],\n",
       "       [0.54064542],\n",
       "       [0.55249183],\n",
       "       [0.54227941],\n",
       "       [0.53615196],\n",
       "       [0.49101307],\n",
       "       [0.47263072],\n",
       "       [0.50531046],\n",
       "       [0.48059641],\n",
       "       [0.49918301],\n",
       "       [0.51000817],\n",
       "       [0.5126634 ],\n",
       "       [0.50653595],\n",
       "       [0.5249183 ],\n",
       "       [0.52553105],\n",
       "       [0.52022059],\n",
       "       [0.52083333],\n",
       "       [0.52471405],\n",
       "       [0.53533497],\n",
       "       [0.52818627],\n",
       "       [0.52553105],\n",
       "       [0.52839052],\n",
       "       [0.51409314],\n",
       "       [0.50510621],\n",
       "       [0.49897876],\n",
       "       [0.52573529],\n",
       "       [0.50796569],\n",
       "       [0.52634804],\n",
       "       [0.57005719],\n",
       "       [0.59579248],\n",
       "       [0.59640523],\n",
       "       [0.59987745],\n",
       "       [0.59395425],\n",
       "       [0.58966503],\n",
       "       [0.62806373],\n",
       "       [0.58843954],\n",
       "       [0.58639706],\n",
       "       [0.65155229],\n",
       "       [0.63398693],\n",
       "       [0.62683824],\n",
       "       [0.67708333],\n",
       "       [0.6942402 ],\n",
       "       [0.69852941],\n",
       "       [0.7310049 ],\n",
       "       [0.79227941],\n",
       "       [0.78513072],\n",
       "       [0.78880719],\n",
       "       [0.79187092],\n",
       "       [0.80780229],\n",
       "       [0.80269608],\n",
       "       [0.84477124],\n",
       "       [0.81392974],\n",
       "       [0.84211601],\n",
       "       [0.82761438],\n",
       "       [0.80923203],\n",
       "       [0.8129085 ],\n",
       "       [0.79248366],\n",
       "       [0.82945261],\n",
       "       [0.84763072],\n",
       "       [0.8880719 ],\n",
       "       [0.84497549],\n",
       "       [0.83129085],\n",
       "       [0.8306781 ],\n",
       "       [0.84109477],\n",
       "       [0.85743464],\n",
       "       [0.89746732],\n",
       "       [0.89828431],\n",
       "       [0.89542484],\n",
       "       [0.90604575],\n",
       "       [0.91911765],\n",
       "       [0.91748366],\n",
       "       [0.92177288],\n",
       "       [0.96180556],\n",
       "       [0.94750817],\n",
       "       [0.94035948],\n",
       "       [0.94056373],\n",
       "       [0.94485294],\n",
       "       [0.94771242],\n",
       "       [0.96670752],\n",
       "       [0.95731209],\n",
       "       [0.95241013],\n",
       "       [0.94914216],\n",
       "       [1.        ],\n",
       "       [0.98876634],\n",
       "       [0.96180556],\n",
       "       [0.9501634 ],\n",
       "       [0.91707516],\n",
       "       [0.92892157],\n",
       "       [0.93096405],\n",
       "       [0.92422386],\n",
       "       [0.9121732 ],\n",
       "       [0.9121732 ],\n",
       "       [0.90216503],\n",
       "       [0.91115196],\n",
       "       [0.85661765],\n",
       "       [0.84722222],\n",
       "       [0.79207516],\n",
       "       [0.78492647],\n",
       "       [0.75878268],\n",
       "       [0.81372549],\n",
       "       [0.81495098],\n",
       "       [0.80596405],\n",
       "       [0.83394608],\n",
       "       [0.82107843],\n",
       "       [0.80923203],\n",
       "       [0.79513889],\n",
       "       [0.76388889],\n",
       "       [0.74305556],\n",
       "       [0.75837418],\n",
       "       [0.74019608],\n",
       "       [0.77512255],\n",
       "       [0.78656046],\n",
       "       [0.79268791],\n",
       "       [0.79473039],\n",
       "       [0.79207516],\n",
       "       [0.79534314],\n",
       "       [0.78921569],\n",
       "       [0.76776961],\n",
       "       [0.78615196],\n",
       "       [0.76552288],\n",
       "       [0.79697712],\n",
       "       [0.8057598 ],\n",
       "       [0.80698529],\n",
       "       [0.81147876],\n",
       "       [0.78206699],\n",
       "       [0.73386438],\n",
       "       [0.73978758],\n",
       "       [0.74448529],\n",
       "       [0.72671569],\n",
       "       [0.72283497],\n",
       "       [0.74040033],\n",
       "       [0.74693627],\n",
       "       [0.72630719],\n",
       "       [0.80065359],\n",
       "       [0.79187092],\n",
       "       [0.77328431],\n",
       "       [0.78451797],\n",
       "       [0.78329248],\n",
       "       [0.80412582],\n",
       "       [0.79473039],\n",
       "       [0.7879902 ],\n",
       "       [0.7879902 ],\n",
       "       [0.79473039],\n",
       "       [0.81168301],\n",
       "       [0.81699346],\n",
       "       [0.82986111],\n",
       "       [0.83843954],\n",
       "       [0.83884804],\n",
       "       [0.82781863],\n",
       "       [0.82598039],\n",
       "       [0.85028595],\n",
       "       [0.85886438],\n",
       "       [0.86254085],\n",
       "       [0.88480392],\n",
       "       [0.86519608],\n",
       "       [0.84027778],\n",
       "       [0.84497549],\n",
       "       [0.87111928],\n",
       "       [0.85273693],\n",
       "       [0.86213235],\n",
       "       [0.83455882],\n",
       "       [0.84375   ],\n",
       "       [0.71466503],\n",
       "       [0.66053922],\n",
       "       [0.65420752],\n",
       "       [0.68035131],\n",
       "       [0.6689134 ],\n",
       "       [0.66421569],\n",
       "       [0.67892157],\n",
       "       [0.69138072],\n",
       "       [0.70894608],\n",
       "       [0.72263072],\n",
       "       [0.73406863],\n",
       "       [0.72120098],\n",
       "       [0.74979575],\n",
       "       [0.7689951 ],\n",
       "       [0.74468954],\n",
       "       [0.7120098 ],\n",
       "       [0.74673203],\n",
       "       [0.75490196],\n",
       "       [0.76041667],\n",
       "       [0.75980392],\n",
       "       [0.74652778],\n",
       "       [0.76245915],\n",
       "       [0.77062908],\n",
       "       [0.80412582],\n",
       "       [0.78104575],\n",
       "       [0.79411765],\n",
       "       [0.76021242],\n",
       "       [0.73488562],\n",
       "       [0.72406046],\n",
       "       [0.73999183],\n",
       "       [0.74979575],\n",
       "       [0.76143791],\n",
       "       [0.75428922],\n",
       "       [0.74754902],\n",
       "       [0.76960784],\n",
       "       [0.7495915 ],\n",
       "       [0.81719771],\n",
       "       [0.80208333],\n",
       "       [0.77736928],\n",
       "       [0.75714869],\n",
       "       [0.79370915],\n",
       "       [0.79166667],\n",
       "       [0.77144608],\n",
       "       [0.75265523],\n",
       "       [0.72691993],\n",
       "       [0.6629902 ],\n",
       "       [0.68198529],\n",
       "       [0.64419935],\n",
       "       [0.62152778],\n",
       "       [0.6439951 ],\n",
       "       [0.66319444],\n",
       "       [0.67544935],\n",
       "       [0.63705065],\n",
       "       [0.64603758],\n",
       "       [0.65890523],\n",
       "       [0.65870098],\n",
       "       [0.67790033],\n",
       "       [0.63194444],\n",
       "       [0.63112745],\n",
       "       [0.62785948],\n",
       "       [0.64767157],\n",
       "       [0.63991013],\n",
       "       [0.63480392],\n",
       "       [0.63868464],\n",
       "       [0.62336601],\n",
       "       [0.62745098],\n",
       "       [0.63970588],\n",
       "       [0.64705882],\n",
       "       [0.66196895],\n",
       "       [0.67075163],\n",
       "       [0.65196078],\n",
       "       [0.63112745],\n",
       "       [0.61294935],\n",
       "       [0.6376634 ],\n",
       "       [0.62254902],\n",
       "       [0.62745098],\n",
       "       [0.63337418],\n",
       "       [0.62642974],\n",
       "       [0.63623366],\n",
       "       [0.58312908],\n",
       "       [0.57781863],\n",
       "       [0.57230392],\n",
       "       [0.58006536],\n",
       "       [0.57618464],\n",
       "       [0.55167484],\n",
       "       [0.57883987],\n",
       "       [0.625     ],\n",
       "       [0.63582516],\n",
       "       [0.62949346],\n",
       "       [0.62888072],\n",
       "       [0.62765523],\n",
       "       [0.62234477],\n",
       "       [0.63378268],\n",
       "       [0.62622549],\n",
       "       [0.62214052],\n",
       "       [0.62418301]])"
      ]
     },
     "execution_count": 188,
     "metadata": {},
     "output_type": "execute_result"
    }
   ],
   "source": [
    "test_data"
   ]
  },
  {
   "cell_type": "markdown",
   "id": "403fbe53",
   "metadata": {},
   "source": [
    "### Preparing our dataset for training, fitting and testing of LSTM model \n",
    "\n",
    "Suppose our dataset is: 122, 124, 135, 167, 187, 193, 199, 221, 228, 300\n",
    "\n",
    "    train_data = 122, 124, 135, 167, 187, 193\n",
    "    \n",
    "    test_data =  199, 221, 228, 300\n",
    "    \n",
    "    Then we need to prepare our dataset as:\n",
    "        \n",
    "        for time_steps = 3 \n",
    "    (By using past 3 values, we need to calculate present value)\n",
    "    \n",
    "        X          y \n",
    "     122 124 135   167\n",
    "     124 135 167   187\n",
    "     135 167 187   193\n",
    "    \n",
    "    Similarly for test_data"
   ]
  },
  {
   "cell_type": "code",
   "execution_count": 189,
   "id": "4544d634",
   "metadata": {},
   "outputs": [],
   "source": [
    "#This function will create dataset as mentioned above...\n",
    "\n",
    "def create_dataset(dataset, time_step):\n",
    "    X_data = []\n",
    "    Y_data = []\n",
    "    for i in range(len(dataset)-time_step-1):\n",
    "        X_data.append(dataset[i:(i+time_step), 0])\n",
    "        Y_data.append(dataset[i+time_step, 0])\n",
    "    return np.array(X_data), np.array(Y_data)"
   ]
  },
  {
   "cell_type": "code",
   "execution_count": 190,
   "id": "77e950a1",
   "metadata": {},
   "outputs": [],
   "source": [
    "# Reshaping into tuples of the form with X=t, t+1,..t+99 and Y=t+100 for time_step=100\n",
    "\n",
    "time_step = 100\n",
    "X_train, y_train = create_dataset(train_data, time_step)\n",
    "X_test, y_test = create_dataset(test_data, time_step)"
   ]
  },
  {
   "cell_type": "code",
   "execution_count": 191,
   "id": "47bc5159",
   "metadata": {},
   "outputs": [
    {
     "data": {
      "text/plain": [
       "(1323, 100)"
      ]
     },
     "execution_count": 191,
     "metadata": {},
     "output_type": "execute_result"
    }
   ],
   "source": [
    "X_train.shape"
   ]
  },
  {
   "cell_type": "code",
   "execution_count": 192,
   "id": "793ea9ec",
   "metadata": {},
   "outputs": [
    {
     "data": {
      "text/plain": [
       "(1323,)"
      ]
     },
     "execution_count": 192,
     "metadata": {},
     "output_type": "execute_result"
    }
   ],
   "source": [
    "y_train.shape"
   ]
  },
  {
   "cell_type": "code",
   "execution_count": 193,
   "id": "41d65370",
   "metadata": {},
   "outputs": [
    {
     "data": {
      "text/plain": [
       "((510, 100), (510,))"
      ]
     },
     "execution_count": 193,
     "metadata": {},
     "output_type": "execute_result"
    }
   ],
   "source": [
    "X_test.shape, y_test.shape"
   ]
  },
  {
   "cell_type": "markdown",
   "id": "eabe6604",
   "metadata": {},
   "source": [
    "### Reshaping input into 3-Dimensional form required for LSTM.\n",
    "\n",
    "X_train.shape[1] = Total no. of columns in X_train = time_step = 100\n",
    "\n",
    "So changing shape into 3-D form of: (no of data, features, 1)"
   ]
  },
  {
   "cell_type": "code",
   "execution_count": 194,
   "id": "67ab0d45",
   "metadata": {},
   "outputs": [],
   "source": [
    "X_train = X_train.reshape(X_train.shape[0], X_train.shape[1], 1)\n",
    "X_test = X_test.reshape(X_test.shape[0], X_test.shape[1], 1)"
   ]
  },
  {
   "cell_type": "markdown",
   "id": "97029934",
   "metadata": {},
   "source": [
    "## `Step-7:`  Constructing Stacked LSTM model."
   ]
  },
  {
   "cell_type": "code",
   "execution_count": 195,
   "id": "b2e4b169",
   "metadata": {},
   "outputs": [],
   "source": [
    "# Constructing our stacked LSTM model\n",
    "from tensorflow.keras.models import Sequential\n",
    "from tensorflow.keras.layers import Dense\n",
    "from tensorflow.keras.layers import LSTM\n",
    "\n",
    "model = Sequential()\n",
    "model.add(LSTM(50, return_sequences=True, input_shape=(time_step, 1))) #Input layer with 50 neurons\n",
    "model.add(LSTM(50, return_sequences=True)) # Hidden layers with 50 neurons\n",
    "model.add(LSTM(50))\n",
    "model.add(Dense(1))# Output Layer\n",
    "model.compile(loss='mean_squared_error', optimizer='adam')"
   ]
  },
  {
   "cell_type": "code",
   "execution_count": 196,
   "id": "b838c578",
   "metadata": {},
   "outputs": [
    {
     "name": "stdout",
     "output_type": "stream",
     "text": [
      "Model: \"sequential_2\"\n",
      "_________________________________________________________________\n",
      " Layer (type)                Output Shape              Param #   \n",
      "=================================================================\n",
      " lstm_6 (LSTM)               (None, 100, 50)           10400     \n",
      "                                                                 \n",
      " lstm_7 (LSTM)               (None, 100, 50)           20200     \n",
      "                                                                 \n",
      " lstm_8 (LSTM)               (None, 50)                20200     \n",
      "                                                                 \n",
      " dense_2 (Dense)             (None, 1)                 51        \n",
      "                                                                 \n",
      "=================================================================\n",
      "Total params: 50,851\n",
      "Trainable params: 50,851\n",
      "Non-trainable params: 0\n",
      "_________________________________________________________________\n"
     ]
    }
   ],
   "source": [
    "model.summary()"
   ]
  },
  {
   "cell_type": "code",
   "execution_count": 197,
   "id": "be5b17fd",
   "metadata": {},
   "outputs": [
    {
     "name": "stdout",
     "output_type": "stream",
     "text": [
      "Epoch 1/100\n",
      "21/21 [==============================] - 17s 344ms/step - loss: 0.0105 - val_loss: 0.0197\n",
      "Epoch 2/100\n",
      "21/21 [==============================] - 5s 232ms/step - loss: 0.0018 - val_loss: 0.0035\n",
      "Epoch 3/100\n",
      "21/21 [==============================] - 5s 235ms/step - loss: 0.0010 - val_loss: 0.0051\n",
      "Epoch 4/100\n",
      "21/21 [==============================] - 5s 233ms/step - loss: 8.8531e-04 - val_loss: 0.0036\n",
      "Epoch 5/100\n",
      "21/21 [==============================] - 5s 232ms/step - loss: 8.2850e-04 - val_loss: 0.0030\n",
      "Epoch 6/100\n",
      "21/21 [==============================] - 5s 232ms/step - loss: 8.1489e-04 - val_loss: 0.0041\n",
      "Epoch 7/100\n",
      "21/21 [==============================] - 5s 233ms/step - loss: 8.1741e-04 - val_loss: 0.0039\n",
      "Epoch 8/100\n",
      "21/21 [==============================] - 5s 233ms/step - loss: 7.7931e-04 - val_loss: 0.0029\n",
      "Epoch 9/100\n",
      "21/21 [==============================] - 5s 235ms/step - loss: 7.1391e-04 - val_loss: 0.0025\n",
      "Epoch 10/100\n",
      "21/21 [==============================] - 5s 234ms/step - loss: 6.9508e-04 - val_loss: 0.0027\n",
      "Epoch 11/100\n",
      "21/21 [==============================] - 5s 232ms/step - loss: 6.8588e-04 - val_loss: 0.0032\n",
      "Epoch 12/100\n",
      "21/21 [==============================] - 5s 232ms/step - loss: 6.2890e-04 - val_loss: 0.0027\n",
      "Epoch 13/100\n",
      "21/21 [==============================] - 5s 233ms/step - loss: 6.1609e-04 - val_loss: 0.0021\n",
      "Epoch 14/100\n",
      "21/21 [==============================] - 5s 246ms/step - loss: 5.9902e-04 - val_loss: 0.0025\n",
      "Epoch 15/100\n",
      "21/21 [==============================] - 5s 241ms/step - loss: 5.9617e-04 - val_loss: 0.0037\n",
      "Epoch 16/100\n",
      "21/21 [==============================] - 5s 246ms/step - loss: 5.5356e-04 - val_loss: 0.0043\n",
      "Epoch 17/100\n",
      "21/21 [==============================] - 5s 247ms/step - loss: 5.6115e-04 - val_loss: 0.0031\n",
      "Epoch 18/100\n",
      "21/21 [==============================] - 5s 242ms/step - loss: 5.1707e-04 - val_loss: 0.0037\n",
      "Epoch 19/100\n",
      "21/21 [==============================] - 5s 243ms/step - loss: 5.0756e-04 - val_loss: 0.0037\n",
      "Epoch 20/100\n",
      "21/21 [==============================] - 5s 246ms/step - loss: 4.9193e-04 - val_loss: 0.0046\n",
      "Epoch 21/100\n",
      "21/21 [==============================] - 5s 237ms/step - loss: 4.5630e-04 - val_loss: 0.0061\n",
      "Epoch 22/100\n",
      "21/21 [==============================] - 5s 235ms/step - loss: 4.5029e-04 - val_loss: 0.0025\n",
      "Epoch 23/100\n",
      "21/21 [==============================] - 5s 236ms/step - loss: 4.1845e-04 - val_loss: 0.0036\n",
      "Epoch 24/100\n",
      "21/21 [==============================] - 5s 234ms/step - loss: 4.0956e-04 - val_loss: 0.0044\n",
      "Epoch 25/100\n",
      "21/21 [==============================] - 5s 238ms/step - loss: 3.9847e-04 - val_loss: 0.0025\n",
      "Epoch 26/100\n",
      "21/21 [==============================] - 5s 235ms/step - loss: 3.9000e-04 - val_loss: 0.0054\n",
      "Epoch 27/100\n",
      "21/21 [==============================] - 5s 234ms/step - loss: 3.7236e-04 - val_loss: 0.0021\n",
      "Epoch 28/100\n",
      "21/21 [==============================] - 5s 235ms/step - loss: 3.5384e-04 - val_loss: 0.0038\n",
      "Epoch 29/100\n",
      "21/21 [==============================] - 5s 235ms/step - loss: 3.3563e-04 - val_loss: 0.0033\n",
      "Epoch 30/100\n",
      "21/21 [==============================] - 5s 233ms/step - loss: 3.3273e-04 - val_loss: 0.0021\n",
      "Epoch 31/100\n",
      "21/21 [==============================] - 5s 234ms/step - loss: 3.0263e-04 - val_loss: 0.0026\n",
      "Epoch 32/100\n",
      "21/21 [==============================] - 5s 232ms/step - loss: 2.9496e-04 - val_loss: 0.0028\n",
      "Epoch 33/100\n",
      "21/21 [==============================] - 5s 234ms/step - loss: 2.9834e-04 - val_loss: 0.0042\n",
      "Epoch 34/100\n",
      "21/21 [==============================] - 5s 234ms/step - loss: 3.4356e-04 - val_loss: 0.0016\n",
      "Epoch 35/100\n",
      "21/21 [==============================] - 5s 233ms/step - loss: 2.8198e-04 - val_loss: 0.0017\n",
      "Epoch 36/100\n",
      "21/21 [==============================] - 5s 233ms/step - loss: 2.6570e-04 - val_loss: 0.0017\n",
      "Epoch 37/100\n",
      "21/21 [==============================] - 5s 235ms/step - loss: 2.7396e-04 - val_loss: 0.0013\n",
      "Epoch 38/100\n",
      "21/21 [==============================] - 5s 235ms/step - loss: 2.4673e-04 - val_loss: 0.0022\n",
      "Epoch 39/100\n",
      "21/21 [==============================] - 5s 239ms/step - loss: 2.3484e-04 - val_loss: 0.0014\n",
      "Epoch 40/100\n",
      "21/21 [==============================] - 5s 246ms/step - loss: 2.3441e-04 - val_loss: 0.0018\n",
      "Epoch 41/100\n",
      "21/21 [==============================] - 5s 243ms/step - loss: 2.3189e-04 - val_loss: 0.0014\n",
      "Epoch 42/100\n",
      "21/21 [==============================] - 5s 249ms/step - loss: 2.9192e-04 - val_loss: 0.0045\n",
      "Epoch 43/100\n",
      "21/21 [==============================] - 5s 251ms/step - loss: 2.9721e-04 - val_loss: 0.0030\n",
      "Epoch 44/100\n",
      "21/21 [==============================] - 5s 240ms/step - loss: 2.4646e-04 - val_loss: 0.0018\n",
      "Epoch 45/100\n",
      "21/21 [==============================] - 5s 241ms/step - loss: 2.1946e-04 - val_loss: 0.0015\n",
      "Epoch 46/100\n",
      "21/21 [==============================] - 5s 239ms/step - loss: 2.0970e-04 - val_loss: 0.0018\n",
      "Epoch 47/100\n",
      "21/21 [==============================] - 5s 240ms/step - loss: 2.0956e-04 - val_loss: 0.0015\n",
      "Epoch 48/100\n",
      "21/21 [==============================] - 5s 233ms/step - loss: 2.0711e-04 - val_loss: 0.0021\n",
      "Epoch 49/100\n",
      "21/21 [==============================] - 5s 235ms/step - loss: 2.1600e-04 - val_loss: 0.0016\n",
      "Epoch 50/100\n",
      "21/21 [==============================] - 5s 232ms/step - loss: 1.9643e-04 - val_loss: 0.0012\n",
      "Epoch 51/100\n",
      "21/21 [==============================] - 5s 233ms/step - loss: 1.8364e-04 - val_loss: 0.0010\n",
      "Epoch 52/100\n",
      "21/21 [==============================] - 5s 232ms/step - loss: 1.8449e-04 - val_loss: 0.0012\n",
      "Epoch 53/100\n",
      "21/21 [==============================] - 5s 234ms/step - loss: 1.8224e-04 - val_loss: 0.0011\n",
      "Epoch 54/100\n",
      "21/21 [==============================] - 5s 234ms/step - loss: 1.7529e-04 - val_loss: 0.0015\n",
      "Epoch 55/100\n",
      "21/21 [==============================] - 5s 235ms/step - loss: 1.8013e-04 - val_loss: 6.2418e-04\n",
      "Epoch 56/100\n",
      "21/21 [==============================] - 5s 235ms/step - loss: 1.8962e-04 - val_loss: 0.0015\n",
      "Epoch 57/100\n",
      "21/21 [==============================] - 5s 234ms/step - loss: 1.7918e-04 - val_loss: 0.0018\n",
      "Epoch 58/100\n",
      "21/21 [==============================] - 5s 233ms/step - loss: 1.9327e-04 - val_loss: 5.2039e-04\n",
      "Epoch 59/100\n",
      "21/21 [==============================] - 5s 233ms/step - loss: 1.7644e-04 - val_loss: 9.6406e-04\n",
      "Epoch 60/100\n",
      "21/21 [==============================] - 5s 232ms/step - loss: 1.6083e-04 - val_loss: 0.0011\n",
      "Epoch 61/100\n",
      "21/21 [==============================] - 5s 233ms/step - loss: 1.6065e-04 - val_loss: 0.0013\n",
      "Epoch 62/100\n",
      "21/21 [==============================] - 5s 234ms/step - loss: 1.6377e-04 - val_loss: 8.6350e-04\n",
      "Epoch 63/100\n",
      "21/21 [==============================] - 5s 237ms/step - loss: 1.5480e-04 - val_loss: 0.0013\n",
      "Epoch 64/100\n",
      "21/21 [==============================] - 5s 246ms/step - loss: 1.6375e-04 - val_loss: 0.0012\n",
      "Epoch 65/100\n",
      "21/21 [==============================] - 5s 245ms/step - loss: 1.5756e-04 - val_loss: 6.0280e-04\n",
      "Epoch 66/100\n",
      "21/21 [==============================] - 5s 245ms/step - loss: 1.8132e-04 - val_loss: 8.2306e-04\n",
      "Epoch 67/100\n",
      "21/21 [==============================] - 5s 253ms/step - loss: 2.2080e-04 - val_loss: 4.9801e-04\n",
      "Epoch 68/100\n",
      "21/21 [==============================] - 5s 248ms/step - loss: 1.6790e-04 - val_loss: 0.0015\n",
      "Epoch 69/100\n",
      "21/21 [==============================] - 5s 244ms/step - loss: 1.5821e-04 - val_loss: 6.5553e-04\n",
      "Epoch 70/100\n",
      "21/21 [==============================] - 5s 245ms/step - loss: 1.8038e-04 - val_loss: 6.1883e-04\n",
      "Epoch 71/100\n",
      "21/21 [==============================] - 5s 245ms/step - loss: 1.6321e-04 - val_loss: 5.9398e-04\n",
      "Epoch 72/100\n",
      "21/21 [==============================] - 5s 236ms/step - loss: 1.4838e-04 - val_loss: 8.3040e-04\n",
      "Epoch 73/100\n",
      "21/21 [==============================] - 5s 237ms/step - loss: 1.4558e-04 - val_loss: 0.0012\n",
      "Epoch 74/100\n",
      "21/21 [==============================] - 5s 241ms/step - loss: 1.4533e-04 - val_loss: 7.1733e-04\n",
      "Epoch 75/100\n",
      "21/21 [==============================] - 5s 236ms/step - loss: 1.4431e-04 - val_loss: 0.0010\n",
      "Epoch 76/100\n",
      "21/21 [==============================] - 5s 236ms/step - loss: 1.4852e-04 - val_loss: 0.0017\n",
      "Epoch 77/100\n",
      "21/21 [==============================] - 5s 234ms/step - loss: 1.3949e-04 - val_loss: 0.0013\n",
      "Epoch 78/100\n"
     ]
    },
    {
     "name": "stdout",
     "output_type": "stream",
     "text": [
      "21/21 [==============================] - 5s 234ms/step - loss: 1.4970e-04 - val_loss: 0.0010\n",
      "Epoch 79/100\n",
      "21/21 [==============================] - 5s 234ms/step - loss: 1.7352e-04 - val_loss: 6.5821e-04\n",
      "Epoch 80/100\n",
      "21/21 [==============================] - 5s 234ms/step - loss: 1.5590e-04 - val_loss: 5.8467e-04\n",
      "Epoch 81/100\n",
      "21/21 [==============================] - 5s 233ms/step - loss: 1.5290e-04 - val_loss: 4.9935e-04\n",
      "Epoch 82/100\n",
      "21/21 [==============================] - 5s 234ms/step - loss: 1.4206e-04 - val_loss: 8.4399e-04\n",
      "Epoch 83/100\n",
      "21/21 [==============================] - 5s 233ms/step - loss: 1.3277e-04 - val_loss: 7.6182e-04\n",
      "Epoch 84/100\n",
      "21/21 [==============================] - 5s 235ms/step - loss: 1.3930e-04 - val_loss: 7.0673e-04\n",
      "Epoch 85/100\n",
      "21/21 [==============================] - 5s 236ms/step - loss: 1.3821e-04 - val_loss: 0.0013\n",
      "Epoch 86/100\n",
      "21/21 [==============================] - 5s 236ms/step - loss: 1.3266e-04 - val_loss: 0.0011\n",
      "Epoch 87/100\n",
      "21/21 [==============================] - 5s 240ms/step - loss: 1.5070e-04 - val_loss: 0.0019\n",
      "Epoch 88/100\n",
      "21/21 [==============================] - 5s 237ms/step - loss: 1.4138e-04 - val_loss: 0.0016\n",
      "Epoch 89/100\n",
      "21/21 [==============================] - 5s 235ms/step - loss: 1.5758e-04 - val_loss: 7.3093e-04\n",
      "Epoch 90/100\n",
      "21/21 [==============================] - 5s 237ms/step - loss: 1.4603e-04 - val_loss: 9.4387e-04\n",
      "Epoch 91/100\n",
      "21/21 [==============================] - 5s 236ms/step - loss: 1.3326e-04 - val_loss: 7.8755e-04\n",
      "Epoch 92/100\n",
      "21/21 [==============================] - 5s 234ms/step - loss: 1.3900e-04 - val_loss: 8.5332e-04\n",
      "Epoch 93/100\n",
      "21/21 [==============================] - 5s 233ms/step - loss: 1.3435e-04 - val_loss: 7.0689e-04\n",
      "Epoch 94/100\n",
      "21/21 [==============================] - 5s 235ms/step - loss: 1.3619e-04 - val_loss: 5.1840e-04\n",
      "Epoch 95/100\n",
      "21/21 [==============================] - 5s 234ms/step - loss: 1.5723e-04 - val_loss: 0.0012\n",
      "Epoch 96/100\n",
      "21/21 [==============================] - 5s 235ms/step - loss: 1.3460e-04 - val_loss: 0.0011\n",
      "Epoch 97/100\n",
      "21/21 [==============================] - 5s 238ms/step - loss: 1.3611e-04 - val_loss: 8.2721e-04\n",
      "Epoch 98/100\n",
      "21/21 [==============================] - 5s 234ms/step - loss: 1.5049e-04 - val_loss: 9.5006e-04\n",
      "Epoch 99/100\n",
      "21/21 [==============================] - 5s 236ms/step - loss: 1.3386e-04 - val_loss: 0.0012\n",
      "Epoch 100/100\n",
      "21/21 [==============================] - 5s 236ms/step - loss: 1.4333e-04 - val_loss: 0.0018\n"
     ]
    }
   ],
   "source": [
    "model.fit(X_train, y_train, validation_data=(X_test, y_test), epochs=100, batch_size=64, verbose=1);"
   ]
  },
  {
   "cell_type": "markdown",
   "id": "3580fa72",
   "metadata": {},
   "source": [
    "## `Step-8:` Evaluation of constructed LSTM Model."
   ]
  },
  {
   "cell_type": "markdown",
   "id": "c7ae5193",
   "metadata": {},
   "source": [
    "### Visualizing Loss Function..."
   ]
  },
  {
   "cell_type": "code",
   "execution_count": 198,
   "id": "8defba7e",
   "metadata": {},
   "outputs": [
    {
     "data": {
      "image/png": "[encoded data removed]",
      "text/plain": [
       "<Figure size 640x480 with 1 Axes>"
      ]
     },
     "metadata": {},
     "output_type": "display_data"
    }
   ],
   "source": [
    "# Ploting Loss of our trained model\n",
    "\n",
    "loss = model.history.history['loss']\n",
    "plt.plot(loss)\n",
    "plt.xlabel(\"No. of Iterations...\")\n",
    "plt.ylabel(\"Loss Value...\")\n",
    "plt.title(\"Variations of Loss value with No. of Iterations\", color=\"orange\", fontsize=16, fontweight=\"bold\");"
   ]
  },
  {
   "cell_type": "markdown",
   "id": "a0dd87e8",
   "metadata": {},
   "source": [
    " `Above graph shows that loss has been decreased significantly with the increase in iterations, `\n",
    "\n",
    "`thus, model is well-trained.`"
   ]
  },
  {
   "cell_type": "markdown",
   "id": "ce17eb96",
   "metadata": {},
   "source": [
    "### Evaluation of our constructed model on train and test data..."
   ]
  },
  {
   "cell_type": "code",
   "execution_count": 199,
   "id": "eec06b4b",
   "metadata": {},
   "outputs": [
    {
     "name": "stdout",
     "output_type": "stream",
     "text": [
      "42/42 [==============================] - 4s 46ms/step\n",
      "16/16 [==============================] - 1s 47ms/step\n"
     ]
    }
   ],
   "source": [
    "train_preds = minmax.inverse_transform(model.predict(X_train))\n",
    "test_preds = minmax.inverse_transform(model.predict(X_test))"
   ]
  },
  {
   "cell_type": "code",
   "execution_count": 200,
   "id": "eb82d80e",
   "metadata": {},
   "outputs": [
    {
     "data": {
      "text/plain": [
       "132.47622818825"
      ]
     },
     "execution_count": 200,
     "metadata": {},
     "output_type": "execute_result"
    }
   ],
   "source": [
    "import math\n",
    "from sklearn.metrics import mean_squared_error\n",
    "\n",
    "math.sqrt(mean_squared_error(y_train,train_preds))"
   ]
  },
  {
   "cell_type": "code",
   "execution_count": 201,
   "id": "bbc9209c",
   "metadata": {},
   "outputs": [
    {
     "data": {
      "text/plain": [
       "204.73548010335605"
      ]
     },
     "execution_count": 201,
     "metadata": {},
     "output_type": "execute_result"
    }
   ],
   "source": [
    "math.sqrt(mean_squared_error(y_test, test_preds))"
   ]
  },
  {
   "cell_type": "code",
   "execution_count": 202,
   "id": "f74f8be8",
   "metadata": {},
   "outputs": [
    {
     "data": {
      "text/plain": [
       "array([[0.16584967],\n",
       "       [0.16319444],\n",
       "       [0.1621732 ],\n",
       "       ...,\n",
       "       [0.62622549],\n",
       "       [0.62214052],\n",
       "       [0.62418301]])"
      ]
     },
     "execution_count": 202,
     "metadata": {},
     "output_type": "execute_result"
    }
   ],
   "source": [
    "close_df"
   ]
  },
  {
   "cell_type": "code",
   "execution_count": 203,
   "id": "e79432e3",
   "metadata": {},
   "outputs": [
    {
     "data": {
      "text/plain": [
       "(1323, 1)"
      ]
     },
     "execution_count": 203,
     "metadata": {},
     "output_type": "execute_result"
    }
   ],
   "source": [
    "train_preds.shape"
   ]
  },
  {
   "cell_type": "markdown",
   "id": "3e41072f",
   "metadata": {},
   "source": [
    "### Plotting "
   ]
  },
  {
   "cell_type": "code",
   "execution_count": 204,
   "id": "cfc38a69",
   "metadata": {},
   "outputs": [
    {
     "data": {
      "image/png": "[encoded data removed]",
      "text/plain": [
       "<Figure size 640x480 with 1 Axes>"
      ]
     },
     "metadata": {},
     "output_type": "display_data"
    }
   ],
   "source": [
    "# shift train predictions for plotting\n",
    "\n",
    "look_back=100  # to align predicted and actual on same curve...\n",
    "\n",
    "trainPredictPlot = np.empty_like(close_df)\n",
    "trainPredictPlot[:, :] = np.nan\n",
    "trainPredictPlot[look_back:len(train_preds)+look_back, :] = train_preds\n",
    "\n",
    "# shift test predictions for plotting\n",
    "testPredictPlot = np.empty_like(close_df)\n",
    "testPredictPlot[:, :] = np.nan\n",
    "testPredictPlot[len(train_preds)+(look_back*2)+1:len(close_df)-1, :] = test_preds\n",
    "\n",
    "# plot baseline i.e. Actual value of Closing price..\n",
    "\n",
    "plt.plot(minmax.inverse_transform(close_df))\n",
    "plt.title(\"Variation of Actual dataset\", color=\"orange\", fontsize=16, fontweight=\"bold\")\n",
    "plt.xlabel(\"Data Index Number\")\n",
    "plt.ylabel(\"Clossing price\");"
   ]
  },
  {
   "cell_type": "code",
   "execution_count": 205,
   "id": "16ef0fd3",
   "metadata": {},
   "outputs": [
    {
     "data": {
      "image/png": "[encoded data removed]",
      "text/plain": [
       "<Figure size 640x480 with 1 Axes>"
      ]
     },
     "metadata": {},
     "output_type": "display_data"
    }
   ],
   "source": [
    "# Plot of Predictions on Closing Price made by our model on training dataset vs Actual Closing Price\n",
    "\n",
    "plt.plot(minmax.inverse_transform(close_df))\n",
    "plt.plot(trainPredictPlot)\n",
    "plt.title(\"Variation of Predicted trained dataset(orange) and actual dataset(lightblue)\", color=\"orange\", fontsize=16, fontweight=\"bold\")\n",
    "plt.xlabel(\"Data Index Number\")\n",
    "plt.ylabel(\"Clossing price\");"
   ]
  },
  {
   "cell_type": "code",
   "execution_count": 206,
   "id": "6007d95e",
   "metadata": {},
   "outputs": [
    {
     "data": {
      "image/png": "[encoded data removed]",
      "text/plain": [
       "<Figure size 640x480 with 1 Axes>"
      ]
     },
     "metadata": {},
     "output_type": "display_data"
    }
   ],
   "source": [
    "# Plot of Predictions on Closing Price made by our model on training dataset vs Actual Closing Price \n",
    "# vs Predictions on CLosing Price made by our model on test dataset\n",
    "\n",
    "plt.plot(minmax.inverse_transform(close_df))\n",
    "plt.plot(trainPredictPlot)\n",
    "plt.title(\"Variation of Predicted tested dataset(green) and actual dataset(lightblue)\", color=\"orange\", fontsize=16, fontweight=\"bold\")\n",
    "plt.xlabel(\"Data Index Number\")\n",
    "plt.ylabel(\"Clossing price\");\n",
    "plt.plot(testPredictPlot)\n",
    "plt.show()"
   ]
  },
  {
   "cell_type": "markdown",
   "id": "9b3a90c9",
   "metadata": {},
   "source": [
    "Since, our model trained with first 100 data inputs and start predicting from 101 onwards..\n",
    "\n",
    "so orange starts from 101th data index number. Similar logic for test data...\n",
    "\n",
    "### `LightBlue` == `Actual Closing Price`\n",
    "### `Orange`  == `Predictions on Closing Price made by our model on training dataset`\n",
    "### `Green `  == `Predictions on CLosing Price made by our model on test dataset`"
   ]
  },
  {
   "cell_type": "markdown",
   "id": "6426ed2f",
   "metadata": {},
   "source": [
    "###  Lets visualize in a single frame...."
   ]
  },
  {
   "cell_type": "code",
   "execution_count": 207,
   "id": "8fc421f2",
   "metadata": {},
   "outputs": [
    {
     "data": {
      "image/png": "[encoded data removed]",
      "text/plain": [
       "<Figure size 1500x500 with 2 Axes>"
      ]
     },
     "metadata": {},
     "output_type": "display_data"
    }
   ],
   "source": [
    "fig, (ax0, ax1) = plt.subplots(nrows=1,\n",
    "                               ncols=2,\n",
    "                               figsize=(15,5))\n",
    "ax0.plot(minmax.inverse_transform(close_df))\n",
    "ax0.set(xlabel=\"Data index number\",\n",
    "        ylabel=\"Clossing price\",\n",
    "        title=\"Actual dataset\");\n",
    "\n",
    "ax0.set(xlabel=\"Data index number\",\n",
    "        ylabel=\"Clossing price\",\n",
    "        title=\"Actual dataset\");\n",
    "\n",
    "ax1.plot(minmax.inverse_transform(close_df))\n",
    "ax1.plot(trainPredictPlot)\n",
    "ax1.plot(testPredictPlot)\n",
    "\n",
    "\n",
    "ax1.set(xlabel=\"Data index number\",\n",
    "        ylabel=\"Clossing price\",\n",
    "        title=\"Actual dataset vs Prediction on train vs Prediction on test\");\n",
    "\n",
    "fig.suptitle(t=\"Plot of Baseline(Actual) and Predictions(Train and Test Predicted)\",\n",
    "             color=\"orange\",\n",
    "             fontsize=16,\n",
    "             fontweight=\"bold\");"
   ]
  },
  {
   "cell_type": "markdown",
   "id": "b6eba1ad",
   "metadata": {},
   "source": [
    " ## `Step-9:` Forecasting for future 30 days."
   ]
  },
  {
   "cell_type": "code",
   "execution_count": 208,
   "id": "aa9e21f4",
   "metadata": {},
   "outputs": [
    {
     "data": {
      "text/plain": [
       "611"
      ]
     },
     "execution_count": 208,
     "metadata": {},
     "output_type": "execute_result"
    }
   ],
   "source": [
    "# Let's check length of test_data...\n",
    "\n",
    "len(test_data)"
   ]
  },
  {
   "cell_type": "code",
   "execution_count": 209,
   "id": "56fcc036",
   "metadata": {},
   "outputs": [
    {
     "data": {
      "text/plain": [
       "(611, 1)"
      ]
     },
     "execution_count": 209,
     "metadata": {},
     "output_type": "execute_result"
    }
   ],
   "source": [
    "test_data.shape"
   ]
  },
  {
   "cell_type": "markdown",
   "id": "578cd180",
   "metadata": {},
   "source": [
    "### Considering last 100 days data for the future prediction..."
   ]
  },
  {
   "cell_type": "code",
   "execution_count": 210,
   "id": "c4cb17a3",
   "metadata": {},
   "outputs": [
    {
     "data": {
      "text/plain": [
       "511"
      ]
     },
     "execution_count": 210,
     "metadata": {},
     "output_type": "execute_result"
    }
   ],
   "source": [
    "611-100"
   ]
  },
  {
   "cell_type": "code",
   "execution_count": 211,
   "id": "055ca3d4",
   "metadata": {},
   "outputs": [
    {
     "data": {
      "text/plain": [
       "array([[0.85273693],\n",
       "       [0.86213235],\n",
       "       [0.83455882],\n",
       "       [0.84375   ],\n",
       "       [0.71466503]])"
      ]
     },
     "execution_count": 211,
     "metadata": {},
     "output_type": "execute_result"
    }
   ],
   "source": [
    "preds_input = test_data[511:]\n",
    "preds_input[:5]"
   ]
  },
  {
   "cell_type": "code",
   "execution_count": 212,
   "id": "421ae3c1",
   "metadata": {},
   "outputs": [
    {
     "data": {
      "text/plain": [
       "(100, 1)"
      ]
     },
     "execution_count": 212,
     "metadata": {},
     "output_type": "execute_result"
    }
   ],
   "source": [
    "preds_input.shape"
   ]
  },
  {
   "cell_type": "code",
   "execution_count": 213,
   "id": "d6b91615",
   "metadata": {},
   "outputs": [
    {
     "data": {
      "text/plain": [
       "(1, 100)"
      ]
     },
     "execution_count": 213,
     "metadata": {},
     "output_type": "execute_result"
    }
   ],
   "source": [
    "# Reshaping into row matrix\n",
    "\n",
    "preds_input = preds_input.reshape(1, -1)\n",
    "preds_input.shape"
   ]
  },
  {
   "cell_type": "code",
   "execution_count": 214,
   "id": "96432c50",
   "metadata": {},
   "outputs": [
    {
     "data": {
      "text/plain": [
       "1"
      ]
     },
     "execution_count": 214,
     "metadata": {},
     "output_type": "execute_result"
    }
   ],
   "source": [
    "temp_input = list(preds_input)\n",
    "len(temp_input)"
   ]
  },
  {
   "cell_type": "code",
   "execution_count": 215,
   "id": "9d758f4d",
   "metadata": {},
   "outputs": [],
   "source": [
    "temp_input = temp_input[0].tolist()"
   ]
  },
  {
   "cell_type": "code",
   "execution_count": 216,
   "id": "1340ac1f",
   "metadata": {},
   "outputs": [
    {
     "data": {
      "text/plain": [
       "100"
      ]
     },
     "execution_count": 216,
     "metadata": {},
     "output_type": "execute_result"
    }
   ],
   "source": [
    "len(temp_input)"
   ]
  },
  {
   "cell_type": "code",
   "execution_count": 217,
   "id": "20466d9a",
   "metadata": {},
   "outputs": [
    {
     "data": {
      "text/plain": [
       "list"
      ]
     },
     "execution_count": 217,
     "metadata": {},
     "output_type": "execute_result"
    }
   ],
   "source": [
    "type(temp_input)"
   ]
  },
  {
   "cell_type": "code",
   "execution_count": 218,
   "id": "660cafbd",
   "metadata": {},
   "outputs": [
    {
     "data": {
      "text/plain": [
       "100"
      ]
     },
     "execution_count": 218,
     "metadata": {},
     "output_type": "execute_result"
    }
   ],
   "source": [
    "preds_input.shape[1]"
   ]
  },
  {
   "cell_type": "markdown",
   "id": "04d4dd20",
   "metadata": {},
   "source": [
    "# Demonstrating prediction for next 3 days just for debugging and understanding how it is working\n",
    "This code was initially made for debugging and understanding...\n",
    "You can use this code just to understand how length and shape varying and so on..\n",
    "\n",
    "Thirty_days_output=[]\n",
    "\n",
    "i=0\n",
    "\n",
    "while(i<3):\n",
    "    \n",
    "    if(len(temp_input)>100):\n",
    "        print(f\"3rd={len(temp_input)}\")\n",
    "        temp_input = temp_input[1:]\n",
    "        print(f\"4th={len(temp_input)}\")\n",
    "        preds_input=np.array(temp_input) # getting latest 100 data\n",
    "        print(f\"2ndshape={preds_input.shape}\")\n",
    "        print(f\"5th={len(temp_input)}\")\n",
    "        \n",
    "        preds_input=preds_input.reshape(1,-1)\n",
    "        preds_input = preds_input.reshape((1, time_step, 1))\n",
    "        day_output = model.predict(preds_input, verbose=0)\n",
    "        temp_input.extend(day_output[0].tolist())\n",
    "        print(f\"6th={len(temp_input)}\")\n",
    "       \n",
    "        Thirty_days_output.extend(day_output.tolist())\n",
    "    else:\n",
    "        print(f\"1st={len(temp_input)}\")\n",
    "        print(f\"1stshape={preds_input.shape}\")\n",
    "        preds_input = preds_input.reshape((1, time_step,1))\n",
    "        day_output = model.predict(preds_input, verbose=0)\n",
    "        temp_input.extend(day_output[0].tolist())\n",
    "        print(f\"2nd={len(temp_input)}\")\n",
    "       \n",
    "        Thirty_days_output.extend(day_output.tolist())\n",
    "    print(f\"Day-{i+1} input:\\n\\n{preds_input}\\n\\n\")\n",
    "    print(f\"Day-{i+1} output:\\n\\n{day_output}\\n\\n\")\n",
    "    i=i+1"
   ]
  },
  {
   "cell_type": "markdown",
   "id": "786c860d",
   "metadata": {},
   "source": [
    "### After simplifying above code, we can replace that by this one.."
   ]
  },
  {
   "cell_type": "code",
   "execution_count": 219,
   "id": "6b2678cd",
   "metadata": {},
   "outputs": [],
   "source": [
    "#demonstrating prediction for next 30 days\n",
    "\n",
    "Thirty_days_output=[]\n",
    "i=0\n",
    "\n",
    "while(i<30):\n",
    "    if(len(temp_input)>100):\n",
    "        temp_input = temp_input[1:]\n",
    "        preds_input=np.array(temp_input) # getting latest 100 data\n",
    "        preds_input=preds_input.reshape(1,-1)\n",
    "    \n",
    "\n",
    "\n",
    "    preds_input = preds_input.reshape((1, time_step,1))\n",
    "    day_output = model.predict(preds_input, verbose=0)\n",
    "    temp_input.extend(day_output[0].tolist())\n",
    "    Thirty_days_output.extend(day_output.tolist())\n",
    "\n",
    "    #print(f\"Day-{i+1} input:\\n\\n{preds_input}\\n\\n\")\n",
    "    #print(f\"Day-{i+1} output:\\n\\n{day_output}\\n\\n\")\n",
    "    i=i+1"
   ]
  },
  {
   "cell_type": "code",
   "execution_count": 220,
   "id": "3378c61b",
   "metadata": {},
   "outputs": [
    {
     "name": "stdout",
     "output_type": "stream",
     "text": [
      "[[0.5925127267837524], [0.5525482892990112], [0.5154978036880493], [0.48609161376953125], [0.46358245611190796], [0.44553065299987793], [0.42982709407806396], [0.41521167755126953], [0.40118563175201416], [0.38773036003112793], [0.3750349283218384], [0.3633066415786743], [0.3526729345321655], [0.3431585431098938], [0.3347017168998718], [0.32718801498413086], [0.3204804062843323], [0.31444287300109863], [0.3089523911476135], [0.303905725479126], [0.29921817779541016], [0.2948223352432251], [0.2906638979911804], [0.28669846057891846], [0.2828894257545471], [0.27920597791671753], [0.2756214737892151], [0.2721143364906311], [0.2686659097671509], [0.2652614116668701]]\n"
     ]
    }
   ],
   "source": [
    "print(Thirty_days_output)"
   ]
  },
  {
   "cell_type": "markdown",
   "id": "c95f2590",
   "metadata": {},
   "source": [
    "### Ploting last 130 days closing price graph"
   ]
  },
  {
   "cell_type": "code",
   "execution_count": 221,
   "id": "ab1971ee",
   "metadata": {},
   "outputs": [],
   "source": [
    "latest_100_days = np.arange(1,101)\n",
    "predicted_30_days = np.arange(101,131)"
   ]
  },
  {
   "cell_type": "code",
   "execution_count": 222,
   "id": "56719a81",
   "metadata": {},
   "outputs": [
    {
     "data": {
      "text/plain": [
       "2035"
      ]
     },
     "execution_count": 222,
     "metadata": {},
     "output_type": "execute_result"
    }
   ],
   "source": [
    "len(close_df)"
   ]
  },
  {
   "cell_type": "code",
   "execution_count": 223,
   "id": "14d02de8",
   "metadata": {},
   "outputs": [
    {
     "data": {
      "image/png": "[encoded data removed]",
      "text/plain": [
       "<Figure size 640x480 with 1 Axes>"
      ]
     },
     "metadata": {},
     "output_type": "display_data"
    }
   ],
   "source": [
    "Latest_100_days_output = close_df[1935:]\n",
    "plt.plot(latest_100_days, minmax.inverse_transform(Latest_100_days_output))\n",
    "plt.plot(predicted_30_days, minmax.inverse_transform(Thirty_days_output));"
   ]
  },
  {
   "cell_type": "markdown",
   "id": "a7ef19a5",
   "metadata": {},
   "source": [
    "### Graph is discontinuous but we can make graph continuous by appending both Latest_100_days_output and Thirty_days_output data in a list.\n",
    "For that we need to convert Latest_100_days_output into list and append to each other "
   ]
  },
  {
   "cell_type": "code",
   "execution_count": 224,
   "id": "f3c594c0",
   "metadata": {},
   "outputs": [
    {
     "data": {
      "text/plain": [
       "(numpy.ndarray, list)"
      ]
     },
     "execution_count": 224,
     "metadata": {},
     "output_type": "execute_result"
    }
   ],
   "source": [
    "type(Latest_100_days_output), type(Thirty_days_output)"
   ]
  },
  {
   "cell_type": "code",
   "execution_count": 225,
   "id": "e252f856",
   "metadata": {},
   "outputs": [
    {
     "name": "stdout",
     "output_type": "stream",
     "text": [
      "130\n"
     ]
    }
   ],
   "source": [
    "Latest_100_days_output_list = Latest_100_days_output.tolist()\n",
    "Latest_100_days_output_list.extend(Thirty_days_output)\n",
    "print(len(Latest_100_days_output_list))"
   ]
  },
  {
   "cell_type": "code",
   "execution_count": 226,
   "id": "a1e7cce3",
   "metadata": {},
   "outputs": [
    {
     "data": {
      "image/png": "[encoded data removed]",
      "text/plain": [
       "<Figure size 640x480 with 1 Axes>"
      ]
     },
     "metadata": {},
     "output_type": "display_data"
    }
   ],
   "source": [
    "plt.plot(minmax.inverse_transform(Latest_100_days_output_list));"
   ]
  },
  {
   "cell_type": "markdown",
   "id": "3d7079ba",
   "metadata": {},
   "source": [
    "### Let's Visualize in single frame..."
   ]
  },
  {
   "cell_type": "code",
   "execution_count": 227,
   "id": "7cfd7ba8",
   "metadata": {},
   "outputs": [
    {
     "data": {
      "image/png": "[encoded data removed]",
      "text/plain": [
       "<Figure size 1500x500 with 2 Axes>"
      ]
     },
     "metadata": {},
     "output_type": "display_data"
    }
   ],
   "source": [
    "fig, (ax0, ax1) = plt.subplots(nrows=1,\n",
    "                               ncols=2,\n",
    "                               figsize=(15,5))\n",
    "\n",
    "ax0.plot(latest_100_days, minmax.inverse_transform(Latest_100_days_output))\n",
    "ax0.plot(predicted_30_days, minmax.inverse_transform(Thirty_days_output));\n",
    "\n",
    "ax0.set(xlabel=\"Data index number\",\n",
    "        ylabel=\"Clossing price\",\n",
    "        title=\"Dicontinuous Graph\");\n",
    "\n",
    "\n",
    "\n",
    "ax1.plot(minmax.inverse_transform(Latest_100_days_output_list));\n",
    "\n",
    "\n",
    "ax1.set(xlabel=\"Data index number\",\n",
    "        ylabel=\"Clossing price\",\n",
    "        title=\"Continuous Grpah\");\n",
    "\n",
    "fig.suptitle(t=\"Graph of last 130 days\",\n",
    "             color=\"orange\",\n",
    "             fontsize=16,\n",
    "             fontweight=\"bold\");"
   ]
  },
  {
   "cell_type": "markdown",
   "id": "111ce312",
   "metadata": {},
   "source": [
    "### `Finally completed my second task successfully`\n",
    "\n",
    "## Thanking to `LetsGrowMore` and Respected sir `Aman Kesarwami` for this \n",
    "\n",
    "## golden opportunity to improve and enhance myself in the field of\n",
    "\n",
    "## DataScience\n",
    "\n",
    "\n",
    "\n",
    "### Also, i would like to thanks respected sir Krish Naik for your informative youtube video\n",
    " \n",
    " video link : https://www.youtube.com/watch?v=H6du_pfuznE&t=128s\n",
    " \n",
    "### Also, i would like to thanks my mate Aman Poddar for coordination.\n",
    "\n",
    "His linkedin id : https://www.linkedin.com/in/amanpoddar375/\n",
    "\n",
    "###  References:\n",
    "\n",
    "https://www.youtube.com/watch?v=5Gm3bWNBoWQ&t=1039s\n",
    "\n",
    "https://machinelearningmastery.com/time-series-prediction-with-deep-learning-in-python-with-keras/\n",
    "\n",
    "\n",
    "\n",
    "\n",
    "### Contact  me:\n",
    "\n",
    "linkedin: https://www.linkedin.com/in/abhishek-thapa-b9a733199/\n",
    "\n",
    "Copyright © 2022, Abhishek Thapa Inc. All Rights Reserved"
   ]
  },
  {
   "cell_type": "code",
   "execution_count": null,
   "id": "1c11a3d3",
   "metadata": {},
   "outputs": [],
   "source": []
  }
 ],
 "metadata": {
  "kernelspec": {
   "display_name": "Python 3 (ipykernel)",
   "language": "python",
   "name": "python3"
  },
  "language_info": {
   "codemirror_mode": {
    "name": "ipython",
    "version": 3
   },
   "file_extension": ".py",
   "mimetype": "text/x-python",
   "name": "python",
   "nbconvert_exporter": "python",
   "pygments_lexer": "ipython3",
   "version": "3.10.4"
  }
 },
 "nbformat": 4,
 "nbformat_minor": 5
}
